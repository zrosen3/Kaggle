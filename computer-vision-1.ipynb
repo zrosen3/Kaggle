{
 "cells": [
  {
   "cell_type": "markdown",
   "id": "21510f28",
   "metadata": {
    "papermill": {
     "duration": 0.043634,
     "end_time": "2022-09-17T22:36:57.636401",
     "exception": false,
     "start_time": "2022-09-17T22:36:57.592767",
     "status": "completed"
    },
    "tags": []
   },
   "source": [
    "# Set up"
   ]
  },
  {
   "cell_type": "code",
   "execution_count": 1,
   "id": "06042e1d",
   "metadata": {
    "execution": {
     "iopub.execute_input": "2022-09-17T22:36:57.722037Z",
     "iopub.status.busy": "2022-09-17T22:36:57.721357Z",
     "iopub.status.idle": "2022-09-17T22:37:11.169640Z",
     "shell.execute_reply": "2022-09-17T22:37:11.170282Z",
     "shell.execute_reply.started": "2022-09-17T22:03:45.700143Z"
    },
    "papermill": {
     "duration": 13.496951,
     "end_time": "2022-09-17T22:37:11.170617",
     "exception": false,
     "start_time": "2022-09-17T22:36:57.673666",
     "status": "completed"
    },
    "tags": []
   },
   "outputs": [],
   "source": [
    "#load in libraries\n",
    "import tensorflow as tf\n",
    "import numpy as np\n",
    "import matplotlib.pyplot as plt\n",
    "import seaborn as sns\n",
    "from tensorflow import keras\n",
    "from tensorflow.keras import layers\n",
    "import pandas as pd\n",
    "from sklearn.model_selection import train_test_split\n",
    "from keras.layers import Convolution2D, MaxPooling2D\n",
    "from keras.models import Sequential\n",
    "from keras.layers import Dense , Dropout , Lambda, Flatten\n",
    "from keras import  backend as K\n",
    "from keras.preprocessing import image\n",
    "from keras.preprocessing.image import ImageDataGenerator\n",
    "from keras.utils.np_utils import to_categorical # convert to one-hot-encoding\n",
    "\n",
    "\n",
    "#load data files \n",
    "test = pd.read_csv(\"../input/digit-recognizer/test.csv\")\n",
    "train = pd.read_csv(\"../input/digit-recognizer/train.csv\")\n",
    "sample_submission = pd.read_csv(\"../input/digit-recognizer/sample_submission.csv\")"
   ]
  },
  {
   "cell_type": "markdown",
   "id": "76ee4623",
   "metadata": {
    "papermill": {
     "duration": 0.037042,
     "end_time": "2022-09-17T22:37:11.245386",
     "exception": false,
     "start_time": "2022-09-17T22:37:11.208344",
     "status": "completed"
    },
    "tags": []
   },
   "source": [
    "Look at structure of each dataset. Pixel intensities are represented as integers from 1 to 255. 1 is the lightest value while 255 is the darkest value. Each image is 28 pixels wide x 28 pixels long = 784 pixels in total. The label value gives the digit which each drawing represents."
   ]
  },
  {
   "cell_type": "code",
   "execution_count": 2,
   "id": "4257f383",
   "metadata": {
    "execution": {
     "iopub.execute_input": "2022-09-17T22:37:11.329013Z",
     "iopub.status.busy": "2022-09-17T22:37:11.326976Z",
     "iopub.status.idle": "2022-09-17T22:37:11.348666Z",
     "shell.execute_reply": "2022-09-17T22:37:11.349200Z",
     "shell.execute_reply.started": "2022-09-17T22:04:35.186267Z"
    },
    "papermill": {
     "duration": 0.066948,
     "end_time": "2022-09-17T22:37:11.349377",
     "exception": false,
     "start_time": "2022-09-17T22:37:11.282429",
     "status": "completed"
    },
    "tags": []
   },
   "outputs": [
    {
     "data": {
      "text/html": [
       "<div>\n",
       "<style scoped>\n",
       "    .dataframe tbody tr th:only-of-type {\n",
       "        vertical-align: middle;\n",
       "    }\n",
       "\n",
       "    .dataframe tbody tr th {\n",
       "        vertical-align: top;\n",
       "    }\n",
       "\n",
       "    .dataframe thead th {\n",
       "        text-align: right;\n",
       "    }\n",
       "</style>\n",
       "<table border=\"1\" class=\"dataframe\">\n",
       "  <thead>\n",
       "    <tr style=\"text-align: right;\">\n",
       "      <th></th>\n",
       "      <th>pixel0</th>\n",
       "      <th>pixel1</th>\n",
       "      <th>pixel2</th>\n",
       "      <th>pixel3</th>\n",
       "      <th>pixel4</th>\n",
       "      <th>pixel5</th>\n",
       "      <th>pixel6</th>\n",
       "      <th>pixel7</th>\n",
       "      <th>pixel8</th>\n",
       "      <th>pixel9</th>\n",
       "      <th>...</th>\n",
       "      <th>pixel774</th>\n",
       "      <th>pixel775</th>\n",
       "      <th>pixel776</th>\n",
       "      <th>pixel777</th>\n",
       "      <th>pixel778</th>\n",
       "      <th>pixel779</th>\n",
       "      <th>pixel780</th>\n",
       "      <th>pixel781</th>\n",
       "      <th>pixel782</th>\n",
       "      <th>pixel783</th>\n",
       "    </tr>\n",
       "  </thead>\n",
       "  <tbody>\n",
       "    <tr>\n",
       "      <th>0</th>\n",
       "      <td>0</td>\n",
       "      <td>0</td>\n",
       "      <td>0</td>\n",
       "      <td>0</td>\n",
       "      <td>0</td>\n",
       "      <td>0</td>\n",
       "      <td>0</td>\n",
       "      <td>0</td>\n",
       "      <td>0</td>\n",
       "      <td>0</td>\n",
       "      <td>...</td>\n",
       "      <td>0</td>\n",
       "      <td>0</td>\n",
       "      <td>0</td>\n",
       "      <td>0</td>\n",
       "      <td>0</td>\n",
       "      <td>0</td>\n",
       "      <td>0</td>\n",
       "      <td>0</td>\n",
       "      <td>0</td>\n",
       "      <td>0</td>\n",
       "    </tr>\n",
       "    <tr>\n",
       "      <th>1</th>\n",
       "      <td>0</td>\n",
       "      <td>0</td>\n",
       "      <td>0</td>\n",
       "      <td>0</td>\n",
       "      <td>0</td>\n",
       "      <td>0</td>\n",
       "      <td>0</td>\n",
       "      <td>0</td>\n",
       "      <td>0</td>\n",
       "      <td>0</td>\n",
       "      <td>...</td>\n",
       "      <td>0</td>\n",
       "      <td>0</td>\n",
       "      <td>0</td>\n",
       "      <td>0</td>\n",
       "      <td>0</td>\n",
       "      <td>0</td>\n",
       "      <td>0</td>\n",
       "      <td>0</td>\n",
       "      <td>0</td>\n",
       "      <td>0</td>\n",
       "    </tr>\n",
       "    <tr>\n",
       "      <th>2</th>\n",
       "      <td>0</td>\n",
       "      <td>0</td>\n",
       "      <td>0</td>\n",
       "      <td>0</td>\n",
       "      <td>0</td>\n",
       "      <td>0</td>\n",
       "      <td>0</td>\n",
       "      <td>0</td>\n",
       "      <td>0</td>\n",
       "      <td>0</td>\n",
       "      <td>...</td>\n",
       "      <td>0</td>\n",
       "      <td>0</td>\n",
       "      <td>0</td>\n",
       "      <td>0</td>\n",
       "      <td>0</td>\n",
       "      <td>0</td>\n",
       "      <td>0</td>\n",
       "      <td>0</td>\n",
       "      <td>0</td>\n",
       "      <td>0</td>\n",
       "    </tr>\n",
       "    <tr>\n",
       "      <th>3</th>\n",
       "      <td>0</td>\n",
       "      <td>0</td>\n",
       "      <td>0</td>\n",
       "      <td>0</td>\n",
       "      <td>0</td>\n",
       "      <td>0</td>\n",
       "      <td>0</td>\n",
       "      <td>0</td>\n",
       "      <td>0</td>\n",
       "      <td>0</td>\n",
       "      <td>...</td>\n",
       "      <td>0</td>\n",
       "      <td>0</td>\n",
       "      <td>0</td>\n",
       "      <td>0</td>\n",
       "      <td>0</td>\n",
       "      <td>0</td>\n",
       "      <td>0</td>\n",
       "      <td>0</td>\n",
       "      <td>0</td>\n",
       "      <td>0</td>\n",
       "    </tr>\n",
       "    <tr>\n",
       "      <th>4</th>\n",
       "      <td>0</td>\n",
       "      <td>0</td>\n",
       "      <td>0</td>\n",
       "      <td>0</td>\n",
       "      <td>0</td>\n",
       "      <td>0</td>\n",
       "      <td>0</td>\n",
       "      <td>0</td>\n",
       "      <td>0</td>\n",
       "      <td>0</td>\n",
       "      <td>...</td>\n",
       "      <td>0</td>\n",
       "      <td>0</td>\n",
       "      <td>0</td>\n",
       "      <td>0</td>\n",
       "      <td>0</td>\n",
       "      <td>0</td>\n",
       "      <td>0</td>\n",
       "      <td>0</td>\n",
       "      <td>0</td>\n",
       "      <td>0</td>\n",
       "    </tr>\n",
       "  </tbody>\n",
       "</table>\n",
       "<p>5 rows × 784 columns</p>\n",
       "</div>"
      ],
      "text/plain": [
       "   pixel0  pixel1  pixel2  pixel3  pixel4  pixel5  pixel6  pixel7  pixel8  \\\n",
       "0       0       0       0       0       0       0       0       0       0   \n",
       "1       0       0       0       0       0       0       0       0       0   \n",
       "2       0       0       0       0       0       0       0       0       0   \n",
       "3       0       0       0       0       0       0       0       0       0   \n",
       "4       0       0       0       0       0       0       0       0       0   \n",
       "\n",
       "   pixel9  ...  pixel774  pixel775  pixel776  pixel777  pixel778  pixel779  \\\n",
       "0       0  ...         0         0         0         0         0         0   \n",
       "1       0  ...         0         0         0         0         0         0   \n",
       "2       0  ...         0         0         0         0         0         0   \n",
       "3       0  ...         0         0         0         0         0         0   \n",
       "4       0  ...         0         0         0         0         0         0   \n",
       "\n",
       "   pixel780  pixel781  pixel782  pixel783  \n",
       "0         0         0         0         0  \n",
       "1         0         0         0         0  \n",
       "2         0         0         0         0  \n",
       "3         0         0         0         0  \n",
       "4         0         0         0         0  \n",
       "\n",
       "[5 rows x 784 columns]"
      ]
     },
     "execution_count": 2,
     "metadata": {},
     "output_type": "execute_result"
    }
   ],
   "source": [
    "test.head()"
   ]
  },
  {
   "cell_type": "code",
   "execution_count": 3,
   "id": "769dcd1f",
   "metadata": {
    "execution": {
     "iopub.execute_input": "2022-09-17T22:37:11.437064Z",
     "iopub.status.busy": "2022-09-17T22:37:11.436047Z",
     "iopub.status.idle": "2022-09-17T22:37:11.450070Z",
     "shell.execute_reply": "2022-09-17T22:37:11.450624Z",
     "shell.execute_reply.started": "2022-09-17T22:04:37.457677Z"
    },
    "papermill": {
     "duration": 0.058041,
     "end_time": "2022-09-17T22:37:11.450799",
     "exception": false,
     "start_time": "2022-09-17T22:37:11.392758",
     "status": "completed"
    },
    "tags": []
   },
   "outputs": [
    {
     "data": {
      "text/html": [
       "<div>\n",
       "<style scoped>\n",
       "    .dataframe tbody tr th:only-of-type {\n",
       "        vertical-align: middle;\n",
       "    }\n",
       "\n",
       "    .dataframe tbody tr th {\n",
       "        vertical-align: top;\n",
       "    }\n",
       "\n",
       "    .dataframe thead th {\n",
       "        text-align: right;\n",
       "    }\n",
       "</style>\n",
       "<table border=\"1\" class=\"dataframe\">\n",
       "  <thead>\n",
       "    <tr style=\"text-align: right;\">\n",
       "      <th></th>\n",
       "      <th>label</th>\n",
       "      <th>pixel0</th>\n",
       "      <th>pixel1</th>\n",
       "      <th>pixel2</th>\n",
       "      <th>pixel3</th>\n",
       "      <th>pixel4</th>\n",
       "      <th>pixel5</th>\n",
       "      <th>pixel6</th>\n",
       "      <th>pixel7</th>\n",
       "      <th>pixel8</th>\n",
       "      <th>...</th>\n",
       "      <th>pixel774</th>\n",
       "      <th>pixel775</th>\n",
       "      <th>pixel776</th>\n",
       "      <th>pixel777</th>\n",
       "      <th>pixel778</th>\n",
       "      <th>pixel779</th>\n",
       "      <th>pixel780</th>\n",
       "      <th>pixel781</th>\n",
       "      <th>pixel782</th>\n",
       "      <th>pixel783</th>\n",
       "    </tr>\n",
       "  </thead>\n",
       "  <tbody>\n",
       "    <tr>\n",
       "      <th>0</th>\n",
       "      <td>1</td>\n",
       "      <td>0</td>\n",
       "      <td>0</td>\n",
       "      <td>0</td>\n",
       "      <td>0</td>\n",
       "      <td>0</td>\n",
       "      <td>0</td>\n",
       "      <td>0</td>\n",
       "      <td>0</td>\n",
       "      <td>0</td>\n",
       "      <td>...</td>\n",
       "      <td>0</td>\n",
       "      <td>0</td>\n",
       "      <td>0</td>\n",
       "      <td>0</td>\n",
       "      <td>0</td>\n",
       "      <td>0</td>\n",
       "      <td>0</td>\n",
       "      <td>0</td>\n",
       "      <td>0</td>\n",
       "      <td>0</td>\n",
       "    </tr>\n",
       "    <tr>\n",
       "      <th>1</th>\n",
       "      <td>0</td>\n",
       "      <td>0</td>\n",
       "      <td>0</td>\n",
       "      <td>0</td>\n",
       "      <td>0</td>\n",
       "      <td>0</td>\n",
       "      <td>0</td>\n",
       "      <td>0</td>\n",
       "      <td>0</td>\n",
       "      <td>0</td>\n",
       "      <td>...</td>\n",
       "      <td>0</td>\n",
       "      <td>0</td>\n",
       "      <td>0</td>\n",
       "      <td>0</td>\n",
       "      <td>0</td>\n",
       "      <td>0</td>\n",
       "      <td>0</td>\n",
       "      <td>0</td>\n",
       "      <td>0</td>\n",
       "      <td>0</td>\n",
       "    </tr>\n",
       "    <tr>\n",
       "      <th>2</th>\n",
       "      <td>1</td>\n",
       "      <td>0</td>\n",
       "      <td>0</td>\n",
       "      <td>0</td>\n",
       "      <td>0</td>\n",
       "      <td>0</td>\n",
       "      <td>0</td>\n",
       "      <td>0</td>\n",
       "      <td>0</td>\n",
       "      <td>0</td>\n",
       "      <td>...</td>\n",
       "      <td>0</td>\n",
       "      <td>0</td>\n",
       "      <td>0</td>\n",
       "      <td>0</td>\n",
       "      <td>0</td>\n",
       "      <td>0</td>\n",
       "      <td>0</td>\n",
       "      <td>0</td>\n",
       "      <td>0</td>\n",
       "      <td>0</td>\n",
       "    </tr>\n",
       "    <tr>\n",
       "      <th>3</th>\n",
       "      <td>4</td>\n",
       "      <td>0</td>\n",
       "      <td>0</td>\n",
       "      <td>0</td>\n",
       "      <td>0</td>\n",
       "      <td>0</td>\n",
       "      <td>0</td>\n",
       "      <td>0</td>\n",
       "      <td>0</td>\n",
       "      <td>0</td>\n",
       "      <td>...</td>\n",
       "      <td>0</td>\n",
       "      <td>0</td>\n",
       "      <td>0</td>\n",
       "      <td>0</td>\n",
       "      <td>0</td>\n",
       "      <td>0</td>\n",
       "      <td>0</td>\n",
       "      <td>0</td>\n",
       "      <td>0</td>\n",
       "      <td>0</td>\n",
       "    </tr>\n",
       "    <tr>\n",
       "      <th>4</th>\n",
       "      <td>0</td>\n",
       "      <td>0</td>\n",
       "      <td>0</td>\n",
       "      <td>0</td>\n",
       "      <td>0</td>\n",
       "      <td>0</td>\n",
       "      <td>0</td>\n",
       "      <td>0</td>\n",
       "      <td>0</td>\n",
       "      <td>0</td>\n",
       "      <td>...</td>\n",
       "      <td>0</td>\n",
       "      <td>0</td>\n",
       "      <td>0</td>\n",
       "      <td>0</td>\n",
       "      <td>0</td>\n",
       "      <td>0</td>\n",
       "      <td>0</td>\n",
       "      <td>0</td>\n",
       "      <td>0</td>\n",
       "      <td>0</td>\n",
       "    </tr>\n",
       "  </tbody>\n",
       "</table>\n",
       "<p>5 rows × 785 columns</p>\n",
       "</div>"
      ],
      "text/plain": [
       "   label  pixel0  pixel1  pixel2  pixel3  pixel4  pixel5  pixel6  pixel7  \\\n",
       "0      1       0       0       0       0       0       0       0       0   \n",
       "1      0       0       0       0       0       0       0       0       0   \n",
       "2      1       0       0       0       0       0       0       0       0   \n",
       "3      4       0       0       0       0       0       0       0       0   \n",
       "4      0       0       0       0       0       0       0       0       0   \n",
       "\n",
       "   pixel8  ...  pixel774  pixel775  pixel776  pixel777  pixel778  pixel779  \\\n",
       "0       0  ...         0         0         0         0         0         0   \n",
       "1       0  ...         0         0         0         0         0         0   \n",
       "2       0  ...         0         0         0         0         0         0   \n",
       "3       0  ...         0         0         0         0         0         0   \n",
       "4       0  ...         0         0         0         0         0         0   \n",
       "\n",
       "   pixel780  pixel781  pixel782  pixel783  \n",
       "0         0         0         0         0  \n",
       "1         0         0         0         0  \n",
       "2         0         0         0         0  \n",
       "3         0         0         0         0  \n",
       "4         0         0         0         0  \n",
       "\n",
       "[5 rows x 785 columns]"
      ]
     },
     "execution_count": 3,
     "metadata": {},
     "output_type": "execute_result"
    }
   ],
   "source": [
    "train.head()"
   ]
  },
  {
   "cell_type": "code",
   "execution_count": 4,
   "id": "2ba4c5ec",
   "metadata": {
    "execution": {
     "iopub.execute_input": "2022-09-17T22:37:11.530034Z",
     "iopub.status.busy": "2022-09-17T22:37:11.529050Z",
     "iopub.status.idle": "2022-09-17T22:37:11.537230Z",
     "shell.execute_reply": "2022-09-17T22:37:11.537778Z",
     "shell.execute_reply.started": "2022-09-17T22:04:39.622415Z"
    },
    "papermill": {
     "duration": 0.049086,
     "end_time": "2022-09-17T22:37:11.537949",
     "exception": false,
     "start_time": "2022-09-17T22:37:11.488863",
     "status": "completed"
    },
    "tags": []
   },
   "outputs": [
    {
     "data": {
      "text/html": [
       "<div>\n",
       "<style scoped>\n",
       "    .dataframe tbody tr th:only-of-type {\n",
       "        vertical-align: middle;\n",
       "    }\n",
       "\n",
       "    .dataframe tbody tr th {\n",
       "        vertical-align: top;\n",
       "    }\n",
       "\n",
       "    .dataframe thead th {\n",
       "        text-align: right;\n",
       "    }\n",
       "</style>\n",
       "<table border=\"1\" class=\"dataframe\">\n",
       "  <thead>\n",
       "    <tr style=\"text-align: right;\">\n",
       "      <th></th>\n",
       "      <th>ImageId</th>\n",
       "      <th>Label</th>\n",
       "    </tr>\n",
       "  </thead>\n",
       "  <tbody>\n",
       "    <tr>\n",
       "      <th>0</th>\n",
       "      <td>1</td>\n",
       "      <td>0</td>\n",
       "    </tr>\n",
       "    <tr>\n",
       "      <th>1</th>\n",
       "      <td>2</td>\n",
       "      <td>0</td>\n",
       "    </tr>\n",
       "    <tr>\n",
       "      <th>2</th>\n",
       "      <td>3</td>\n",
       "      <td>0</td>\n",
       "    </tr>\n",
       "    <tr>\n",
       "      <th>3</th>\n",
       "      <td>4</td>\n",
       "      <td>0</td>\n",
       "    </tr>\n",
       "    <tr>\n",
       "      <th>4</th>\n",
       "      <td>5</td>\n",
       "      <td>0</td>\n",
       "    </tr>\n",
       "  </tbody>\n",
       "</table>\n",
       "</div>"
      ],
      "text/plain": [
       "   ImageId  Label\n",
       "0        1      0\n",
       "1        2      0\n",
       "2        3      0\n",
       "3        4      0\n",
       "4        5      0"
      ]
     },
     "execution_count": 4,
     "metadata": {},
     "output_type": "execute_result"
    }
   ],
   "source": [
    "sample_submission.head()"
   ]
  },
  {
   "cell_type": "markdown",
   "id": "f333d09e",
   "metadata": {
    "papermill": {
     "duration": 0.038435,
     "end_time": "2022-09-17T22:37:11.614050",
     "exception": false,
     "start_time": "2022-09-17T22:37:11.575615",
     "status": "completed"
    },
    "tags": []
   },
   "source": [
    "# Data visualization"
   ]
  },
  {
   "cell_type": "markdown",
   "id": "303d5917",
   "metadata": {
    "papermill": {
     "duration": 0.037581,
     "end_time": "2022-09-17T22:37:11.689555",
     "exception": false,
     "start_time": "2022-09-17T22:37:11.651974",
     "status": "completed"
    },
    "tags": []
   },
   "source": [
    "Visualize data. Plot a sample of every digit."
   ]
  },
  {
   "cell_type": "code",
   "execution_count": 5,
   "id": "6c1f5ce5",
   "metadata": {
    "execution": {
     "iopub.execute_input": "2022-09-17T22:37:11.771190Z",
     "iopub.status.busy": "2022-09-17T22:37:11.770155Z",
     "iopub.status.idle": "2022-09-17T22:37:12.955944Z",
     "shell.execute_reply": "2022-09-17T22:37:12.955379Z",
     "shell.execute_reply.started": "2022-09-17T22:04:41.930058Z"
    },
    "papermill": {
     "duration": 1.22757,
     "end_time": "2022-09-17T22:37:12.956127",
     "exception": false,
     "start_time": "2022-09-17T22:37:11.728557",
     "status": "completed"
    },
    "tags": []
   },
   "outputs": [
    {
     "data": {
      "image/png": "[encoded data removed]",
      "text/plain": [
       "<Figure size 1080x504 with 10 Axes>"
      ]
     },
     "metadata": {
      "needs_background": "light"
     },
     "output_type": "display_data"
    }
   ],
   "source": [
    "train_pixels = train.drop(columns=['label'],axis=1).to_numpy().reshape(-1,28,28)\n",
    "train_pixels.shape\n",
    "\n",
    "plt.figure(figsize=(15,7))\n",
    "for digit in range(0, 10):\n",
    "    #find first indice where training data equals digit\n",
    "     index = np.where(train['label'] == digit)[0][0]\n",
    "     plt.subplot(2,5,digit + 1)\n",
    "     plt.title(digit)\n",
    "     plt.imshow(train_pixels[index], cmap='gray')"
   ]
  },
  {
   "cell_type": "markdown",
   "id": "0c394a69",
   "metadata": {
    "papermill": {
     "duration": 0.039684,
     "end_time": "2022-09-17T22:37:13.035741",
     "exception": false,
     "start_time": "2022-09-17T22:37:12.996057",
     "status": "completed"
    },
    "tags": []
   },
   "source": [
    "Look at distribution of digits in dataset. "
   ]
  },
  {
   "cell_type": "code",
   "execution_count": 6,
   "id": "0d8df365",
   "metadata": {
    "execution": {
     "iopub.execute_input": "2022-09-17T22:37:13.118310Z",
     "iopub.status.busy": "2022-09-17T22:37:13.117664Z",
     "iopub.status.idle": "2022-09-17T22:37:13.363834Z",
     "shell.execute_reply": "2022-09-17T22:37:13.364319Z",
     "shell.execute_reply.started": "2022-09-17T22:04:51.394901Z"
    },
    "papermill": {
     "duration": 0.289459,
     "end_time": "2022-09-17T22:37:13.364504",
     "exception": false,
     "start_time": "2022-09-17T22:37:13.075045",
     "status": "completed"
    },
    "tags": []
   },
   "outputs": [
    {
     "data": {
      "text/plain": [
       "[Text(0.5, 1.0, 'Digit counts'), Text(0.5, 0, 'Digit'), Text(0, 0.5, 'Count')]"
      ]
     },
     "execution_count": 6,
     "metadata": {},
     "output_type": "execute_result"
    },
    {
     "data": {
      "image/png": "[encoded data removed]",
      "text/plain": [
       "<Figure size 432x288 with 1 Axes>"
      ]
     },
     "metadata": {
      "needs_background": "light"
     },
     "output_type": "display_data"
    }
   ],
   "source": [
    "sns.countplot(x = train[\"label\"]).set(title = \"Digit counts\", xlabel = \"Digit\", ylabel = \"Count\")\n"
   ]
  },
  {
   "cell_type": "markdown",
   "id": "74753621",
   "metadata": {
    "papermill": {
     "duration": 0.040153,
     "end_time": "2022-09-17T22:37:13.445645",
     "exception": false,
     "start_time": "2022-09-17T22:37:13.405492",
     "status": "completed"
    },
    "tags": []
   },
   "source": [
    "Training dataset seems to be fairly balanced between digits, though 1 is the most common digit."
   ]
  },
  {
   "cell_type": "markdown",
   "id": "845ed05d",
   "metadata": {
    "papermill": {
     "duration": 0.040609,
     "end_time": "2022-09-17T22:37:13.526180",
     "exception": false,
     "start_time": "2022-09-17T22:37:13.485571",
     "status": "completed"
    },
    "tags": []
   },
   "source": [
    "# Data preparation"
   ]
  },
  {
   "cell_type": "markdown",
   "id": "5613dd88",
   "metadata": {
    "papermill": {
     "duration": 0.040823,
     "end_time": "2022-09-17T22:37:13.607309",
     "exception": false,
     "start_time": "2022-09-17T22:37:13.566486",
     "status": "completed"
    },
    "tags": []
   },
   "source": [
    "This dataset appears to be very clean and leads minimal processing. It would be helpful to normalize each pixel value to 0-1 before running neural network model. Currently, each pixel value ranges from 0 to 255 so an divide by 255. Use float type to convert values to float."
   ]
  },
  {
   "cell_type": "code",
   "execution_count": 7,
   "id": "499b90f3",
   "metadata": {
    "execution": {
     "iopub.execute_input": "2022-09-17T22:37:13.693890Z",
     "iopub.status.busy": "2022-09-17T22:37:13.693213Z",
     "iopub.status.idle": "2022-09-17T22:37:45.913291Z",
     "shell.execute_reply": "2022-09-17T22:37:45.912736Z",
     "shell.execute_reply.started": "2022-09-17T22:04:54.260415Z"
    },
    "papermill": {
     "duration": 32.265042,
     "end_time": "2022-09-17T22:37:45.913459",
     "exception": false,
     "start_time": "2022-09-17T22:37:13.648417",
     "status": "completed"
    },
    "tags": []
   },
   "outputs": [],
   "source": [
    "train_normalized = train.copy()\n",
    "pixel_cols = train_normalized.drop('label', axis =1).columns\n",
    "train_normalized[pixel_cols] = train_normalized[pixel_cols].apply(lambda x: x/255.0)\n",
    "test_normalized = test/255.0"
   ]
  },
  {
   "cell_type": "markdown",
   "id": "4b8d56f9",
   "metadata": {
    "papermill": {
     "duration": 0.040812,
     "end_time": "2022-09-17T22:37:45.995544",
     "exception": false,
     "start_time": "2022-09-17T22:37:45.954732",
     "status": "completed"
    },
    "tags": []
   },
   "source": [
    "Split training data into training and validation sets. Put 75% of data into training set, 25% in validation. Make sure the proportion of digits is the same in training and validation sets."
   ]
  },
  {
   "cell_type": "code",
   "execution_count": 8,
   "id": "f289c96c",
   "metadata": {
    "execution": {
     "iopub.execute_input": "2022-09-17T22:37:46.083696Z",
     "iopub.status.busy": "2022-09-17T22:37:46.081787Z",
     "iopub.status.idle": "2022-09-17T22:37:46.728520Z",
     "shell.execute_reply": "2022-09-17T22:37:46.727860Z",
     "shell.execute_reply.started": "2022-09-17T22:07:43.965871Z"
    },
    "papermill": {
     "duration": 0.69289,
     "end_time": "2022-09-17T22:37:46.728681",
     "exception": false,
     "start_time": "2022-09-17T22:37:46.035791",
     "status": "completed"
    },
    "tags": []
   },
   "outputs": [],
   "source": [
    "X = train_normalized.copy()\n",
    "y = X.pop('label') #take out label from X, move to y\n",
    "X_train, X_valid, y_train, y_valid = train_test_split(X, y, stratify=y, train_size=0.75)"
   ]
  },
  {
   "cell_type": "markdown",
   "id": "c6a1b4ee",
   "metadata": {
    "papermill": {
     "duration": 0.040257,
     "end_time": "2022-09-17T22:37:46.810573",
     "exception": false,
     "start_time": "2022-09-17T22:37:46.770316",
     "status": "completed"
    },
    "tags": []
   },
   "source": [
    "# Modelling"
   ]
  },
  {
   "cell_type": "markdown",
   "id": "15bf283c",
   "metadata": {
    "papermill": {
     "duration": 0.04037,
     "end_time": "2022-09-17T22:37:46.891198",
     "exception": false,
     "start_time": "2022-09-17T22:37:46.850828",
     "status": "completed"
    },
    "tags": []
   },
   "source": [
    "Initialize deep neural network model. Input shape is 784 since since 784 pixel variables. Use batch normalization function to standardize data going into each activation function. Large amount of data so use 100 neurons for middle two layers in network. Use softmax activation function to convert output to probabilities of image being of each digit. Add early stopping functino to prevent overfitting."
   ]
  },
  {
   "cell_type": "code",
   "execution_count": 9,
   "id": "667725ed",
   "metadata": {
    "execution": {
     "iopub.execute_input": "2022-09-17T22:37:46.976639Z",
     "iopub.status.busy": "2022-09-17T22:37:46.975583Z",
     "iopub.status.idle": "2022-09-17T22:37:47.132234Z",
     "shell.execute_reply": "2022-09-17T22:37:47.131665Z",
     "shell.execute_reply.started": "2022-09-17T22:08:04.283041Z"
    },
    "papermill": {
     "duration": 0.200305,
     "end_time": "2022-09-17T22:37:47.132395",
     "exception": false,
     "start_time": "2022-09-17T22:37:46.932090",
     "status": "completed"
    },
    "tags": []
   },
   "outputs": [
    {
     "name": "stderr",
     "output_type": "stream",
     "text": [
      "2022-09-17 22:37:47.019547: I tensorflow/core/common_runtime/process_util.cc:146] Creating new thread pool with default inter op setting: 2. Tune using inter_op_parallelism_threads for best performance.\n"
     ]
    }
   ],
   "source": [
    "model = keras.Sequential([\n",
    "    layers.Dense(784, activation='relu', input_shape=[784]),\n",
    "    layers.BatchNormalization(),\n",
    "    layers.Dense(512, activation='relu'),\n",
    "    layers.BatchNormalization(),\n",
    "    layers.Dense(10, activation='softmax'),\n",
    "])\n",
    "#use standard adam optimizer, sparse categorical cross entropy to measure loss, accuracy as metric\n",
    "model.compile(\n",
    "    optimizer='adam',\n",
    "    loss='sparse_categorical_crossentropy',\n",
    "    metrics=['accuracy'],\n",
    ")\n",
    "\n",
    "#early stopping function, to make sure function does not overfit\n",
    "early_stopping = keras.callbacks.EarlyStopping(\n",
    "    patience=20,\n",
    "    restore_best_weights=True,\n",
    ")"
   ]
  },
  {
   "cell_type": "markdown",
   "id": "9f88d1c1",
   "metadata": {
    "papermill": {
     "duration": 0.040499,
     "end_time": "2022-09-17T22:37:47.213900",
     "exception": false,
     "start_time": "2022-09-17T22:37:47.173401",
     "status": "completed"
    },
    "tags": []
   },
   "source": [
    "Print out model summary."
   ]
  },
  {
   "cell_type": "code",
   "execution_count": 10,
   "id": "bb8d3fd2",
   "metadata": {
    "execution": {
     "iopub.execute_input": "2022-09-17T22:37:47.304297Z",
     "iopub.status.busy": "2022-09-17T22:37:47.303566Z",
     "iopub.status.idle": "2022-09-17T22:37:47.308563Z",
     "shell.execute_reply": "2022-09-17T22:37:47.307897Z",
     "shell.execute_reply.started": "2022-09-17T22:08:09.153721Z"
    },
    "papermill": {
     "duration": 0.052052,
     "end_time": "2022-09-17T22:37:47.308704",
     "exception": false,
     "start_time": "2022-09-17T22:37:47.256652",
     "status": "completed"
    },
    "tags": []
   },
   "outputs": [
    {
     "name": "stdout",
     "output_type": "stream",
     "text": [
      "Model: \"sequential\"\n",
      "_________________________________________________________________\n",
      "Layer (type)                 Output Shape              Param #   \n",
      "=================================================================\n",
      "dense (Dense)                (None, 784)               615440    \n",
      "_________________________________________________________________\n",
      "batch_normalization (BatchNo (None, 784)               3136      \n",
      "_________________________________________________________________\n",
      "dense_1 (Dense)              (None, 512)               401920    \n",
      "_________________________________________________________________\n",
      "batch_normalization_1 (Batch (None, 512)               2048      \n",
      "_________________________________________________________________\n",
      "dense_2 (Dense)              (None, 10)                5130      \n",
      "=================================================================\n",
      "Total params: 1,027,674\n",
      "Trainable params: 1,025,082\n",
      "Non-trainable params: 2,592\n",
      "_________________________________________________________________\n"
     ]
    }
   ],
   "source": [
    "model.summary()"
   ]
  },
  {
   "cell_type": "markdown",
   "id": "2ef799a9",
   "metadata": {
    "papermill": {
     "duration": 0.041611,
     "end_time": "2022-09-17T22:37:47.393114",
     "exception": false,
     "start_time": "2022-09-17T22:37:47.351503",
     "status": "completed"
    },
    "tags": []
   },
   "source": [
    "Fit model to digits data. Use large batch size and epochs values, but incldue early stopping to avoid overfitting."
   ]
  },
  {
   "cell_type": "code",
   "execution_count": 11,
   "id": "449af3d4",
   "metadata": {
    "execution": {
     "iopub.execute_input": "2022-09-17T22:37:47.480790Z",
     "iopub.status.busy": "2022-09-17T22:37:47.478462Z",
     "iopub.status.idle": "2022-09-17T22:40:03.082195Z",
     "shell.execute_reply": "2022-09-17T22:40:03.081391Z",
     "shell.execute_reply.started": "2022-09-17T22:08:13.473606Z"
    },
    "papermill": {
     "duration": 135.648185,
     "end_time": "2022-09-17T22:40:03.082379",
     "exception": false,
     "start_time": "2022-09-17T22:37:47.434194",
     "status": "completed"
    },
    "tags": []
   },
   "outputs": [
    {
     "name": "stderr",
     "output_type": "stream",
     "text": [
      "2022-09-17 22:37:47.849658: I tensorflow/compiler/mlir/mlir_graph_optimization_pass.cc:185] None of the MLIR Optimization Passes are enabled (registered 2)\n"
     ]
    }
   ],
   "source": [
    "history = model.fit(\n",
    "    X_train, y_train,\n",
    "    validation_data=(X_valid, y_valid),\n",
    "    callbacks = [early_stopping],\n",
    "    epochs=20,\n",
    "    verbose=0,\n",
    ")"
   ]
  },
  {
   "cell_type": "markdown",
   "id": "f3ed00e0",
   "metadata": {
    "papermill": {
     "duration": 0.041967,
     "end_time": "2022-09-17T22:40:03.166578",
     "exception": false,
     "start_time": "2022-09-17T22:40:03.124611",
     "status": "completed"
    },
    "tags": []
   },
   "source": [
    "Calculate evaluation statistics to measure model performance."
   ]
  },
  {
   "cell_type": "code",
   "execution_count": 12,
   "id": "44ebaa81",
   "metadata": {
    "execution": {
     "iopub.execute_input": "2022-09-17T22:40:03.255103Z",
     "iopub.status.busy": "2022-09-17T22:40:03.254339Z",
     "iopub.status.idle": "2022-09-17T22:40:04.244209Z",
     "shell.execute_reply": "2022-09-17T22:40:04.244724Z",
     "shell.execute_reply.started": "2022-09-17T22:11:29.117096Z"
    },
    "papermill": {
     "duration": 1.035591,
     "end_time": "2022-09-17T22:40:04.244905",
     "exception": false,
     "start_time": "2022-09-17T22:40:03.209314",
     "status": "completed"
    },
    "tags": []
   },
   "outputs": [
    {
     "name": "stdout",
     "output_type": "stream",
     "text": [
      "329/329 [==============================] - 1s 2ms/step - loss: 0.1240 - accuracy: 0.9757\n"
     ]
    },
    {
     "data": {
      "text/plain": [
       "[0.12401095032691956, 0.9757142663002014]"
      ]
     },
     "execution_count": 12,
     "metadata": {},
     "output_type": "execute_result"
    }
   ],
   "source": [
    "model.evaluate(X_valid, y_valid)"
   ]
  },
  {
   "cell_type": "markdown",
   "id": "bbec0ef8",
   "metadata": {
    "papermill": {
     "duration": 0.046905,
     "end_time": "2022-09-17T22:40:04.339936",
     "exception": false,
     "start_time": "2022-09-17T22:40:04.293031",
     "status": "completed"
    },
    "tags": []
   },
   "source": [
    "Look at learning curves for model prediction."
   ]
  },
  {
   "cell_type": "code",
   "execution_count": 13,
   "id": "bfc0c8a1",
   "metadata": {
    "execution": {
     "iopub.execute_input": "2022-09-17T22:40:04.443718Z",
     "iopub.status.busy": "2022-09-17T22:40:04.443012Z",
     "iopub.status.idle": "2022-09-17T22:40:04.957390Z",
     "shell.execute_reply": "2022-09-17T22:40:04.956842Z",
     "shell.execute_reply.started": "2022-09-17T22:11:34.116623Z"
    },
    "papermill": {
     "duration": 0.569971,
     "end_time": "2022-09-17T22:40:04.957551",
     "exception": false,
     "start_time": "2022-09-17T22:40:04.387580",
     "status": "completed"
    },
    "tags": []
   },
   "outputs": [
    {
     "name": "stdout",
     "output_type": "stream",
     "text": [
      "Best Validation Loss: 0.1043\n",
      "Best Validation Accuracy: 0.9777\n"
     ]
    },
    {
     "data": {
      "image/png": "[encoded data removed]",
      "text/plain": [
       "<Figure size 432x288 with 1 Axes>"
      ]
     },
     "metadata": {
      "needs_background": "light"
     },
     "output_type": "display_data"
    },
    {
     "data": {
      "image/png": "[encoded data removed]",
      "text/plain": [
       "<Figure size 432x288 with 1 Axes>"
      ]
     },
     "metadata": {
      "needs_background": "light"
     },
     "output_type": "display_data"
    }
   ],
   "source": [
    "history_df = pd.DataFrame(history.history)\n",
    "# Start the plot at epoch 5\n",
    "history_df.loc[:, ['loss', 'val_loss']].plot()\n",
    "history_df.loc[:, ['accuracy', 'val_accuracy']].plot()\n",
    "\n",
    "print((\"Best Validation Loss: {:0.4f}\" +\\\n",
    "      \"\\nBest Validation Accuracy: {:0.4f}\")\\\n",
    "      .format(history_df['val_loss'].min(), \n",
    "              history_df['val_accuracy'].max()))"
   ]
  },
  {
   "cell_type": "markdown",
   "id": "bdce3f79",
   "metadata": {
    "papermill": {
     "duration": 0.052245,
     "end_time": "2022-09-17T22:40:05.060776",
     "exception": false,
     "start_time": "2022-09-17T22:40:05.008531",
     "status": "completed"
    },
    "tags": []
   },
   "source": [
    "# CNN model"
   ]
  },
  {
   "cell_type": "markdown",
   "id": "458bd535",
   "metadata": {
    "papermill": {
     "duration": 0.052469,
     "end_time": "2022-09-17T22:40:05.170319",
     "exception": false,
     "start_time": "2022-09-17T22:40:05.117850",
     "status": "completed"
    },
    "tags": []
   },
   "source": [
    "Try running convolutional neural networks model, which are efficient for image processing."
   ]
  },
  {
   "cell_type": "code",
   "execution_count": 14,
   "id": "ed7db7a6",
   "metadata": {
    "execution": {
     "iopub.execute_input": "2022-09-17T22:40:05.280522Z",
     "iopub.status.busy": "2022-09-17T22:40:05.279488Z",
     "iopub.status.idle": "2022-09-17T22:40:05.427341Z",
     "shell.execute_reply": "2022-09-17T22:40:05.426114Z",
     "shell.execute_reply.started": "2022-09-17T22:11:42.271678Z"
    },
    "papermill": {
     "duration": 0.20469,
     "end_time": "2022-09-17T22:40:05.427517",
     "exception": false,
     "start_time": "2022-09-17T22:40:05.222827",
     "status": "completed"
    },
    "tags": []
   },
   "outputs": [],
   "source": [
    "\n",
    "model = Sequential([\n",
    "    layers.Convolution2D(32,(3,3), activation='relu', input_shape = (28, 28, 1)),\n",
    "    layers.BatchNormalization(axis=1),\n",
    "    layers.Convolution2D(32,(3,3), activation='relu'),\n",
    "    layers.MaxPooling2D(),\n",
    "    layers.BatchNormalization(axis=1),\n",
    "    layers.Convolution2D(64,(3,3), activation='relu'),\n",
    "    layers.BatchNormalization(axis=1),\n",
    "    layers.Convolution2D(64,(3,3), activation='relu'),\n",
    "    layers.MaxPooling2D(),\n",
    "    layers.Flatten(),\n",
    "    layers.BatchNormalization(),\n",
    "    layers.Dense(512, activation='relu'),\n",
    "    layers.BatchNormalization(),\n",
    "    layers.Dense(10, activation='softmax')\n",
    "    ])\n",
    "\n",
    "model.compile(optimizer = \"adam\", loss='categorical_crossentropy',\n",
    "                  metrics=['accuracy'])\n",
    "early_stopping = keras.callbacks.EarlyStopping(\n",
    "    patience=10,\n",
    "    restore_best_weights=True,\n",
    ")\n"
   ]
  },
  {
   "cell_type": "markdown",
   "id": "1b6cee81",
   "metadata": {
    "papermill": {
     "duration": 0.050544,
     "end_time": "2022-09-17T22:40:05.530142",
     "exception": false,
     "start_time": "2022-09-17T22:40:05.479598",
     "status": "completed"
    },
    "tags": []
   },
   "source": [
    "Transofmr data for input into convolutional neural networks model. Need data to be in shape (batch_size, height, width, depth) so (31500 observations, 28 rows, 28 rows, 1 black/white scale). "
   ]
  },
  {
   "cell_type": "code",
   "execution_count": 15,
   "id": "a31a51fe",
   "metadata": {
    "execution": {
     "iopub.execute_input": "2022-09-17T22:40:05.659111Z",
     "iopub.status.busy": "2022-09-17T22:40:05.658023Z",
     "iopub.status.idle": "2022-09-17T22:40:05.667422Z",
     "shell.execute_reply": "2022-09-17T22:40:05.666400Z",
     "shell.execute_reply.started": "2022-09-17T22:11:46.706321Z"
    },
    "papermill": {
     "duration": 0.08504,
     "end_time": "2022-09-17T22:40:05.667696",
     "exception": false,
     "start_time": "2022-09-17T22:40:05.582656",
     "status": "completed"
    },
    "tags": []
   },
   "outputs": [],
   "source": [
    "X_train_expanded = X_train.to_numpy().reshape(-1, 28, 28, 1)\n",
    "X_valid_expanded = X_valid.to_numpy().reshape(-1, 28, 28, 1)\n",
    "test_expanded = test.to_numpy().reshape(-1, 28, 28, 1)\n"
   ]
  },
  {
   "cell_type": "markdown",
   "id": "11ce72a4",
   "metadata": {
    "papermill": {
     "duration": 0.053487,
     "end_time": "2022-09-17T22:40:05.785809",
     "exception": false,
     "start_time": "2022-09-17T22:40:05.732322",
     "status": "completed"
    },
    "tags": []
   },
   "source": [
    "One-hot encode labels since values we are trying to predict are finite digits."
   ]
  },
  {
   "cell_type": "code",
   "execution_count": 16,
   "id": "48ca4916",
   "metadata": {
    "execution": {
     "iopub.execute_input": "2022-09-17T22:40:05.894050Z",
     "iopub.status.busy": "2022-09-17T22:40:05.893043Z",
     "iopub.status.idle": "2022-09-17T22:40:05.897103Z",
     "shell.execute_reply": "2022-09-17T22:40:05.896583Z",
     "shell.execute_reply.started": "2022-09-17T22:11:50.610365Z"
    },
    "papermill": {
     "duration": 0.058907,
     "end_time": "2022-09-17T22:40:05.897252",
     "exception": false,
     "start_time": "2022-09-17T22:40:05.838345",
     "status": "completed"
    },
    "tags": []
   },
   "outputs": [],
   "source": [
    "y_train = to_categorical(y_train, num_classes = 10)\n",
    "y_valid = to_categorical(y_valid, num_classes = 10)"
   ]
  },
  {
   "cell_type": "code",
   "execution_count": 17,
   "id": "2ae316d1",
   "metadata": {
    "execution": {
     "iopub.execute_input": "2022-09-17T22:40:06.008909Z",
     "iopub.status.busy": "2022-09-17T22:40:06.008192Z",
     "iopub.status.idle": "2022-09-17T22:44:34.053734Z",
     "shell.execute_reply": "2022-09-17T22:44:34.054236Z",
     "shell.execute_reply.started": "2022-09-17T22:26:06.129702Z"
    },
    "papermill": {
     "duration": 268.103734,
     "end_time": "2022-09-17T22:44:34.054455",
     "exception": false,
     "start_time": "2022-09-17T22:40:05.950721",
     "status": "completed"
    },
    "tags": []
   },
   "outputs": [],
   "source": [
    "history = model.fit(\n",
    "    X_train_expanded, y_train,\n",
    "    validation_data=(X_valid_expanded, y_valid),\n",
    "    epochs=7,\n",
    "    verbose=0,\n",
    ")\n",
    "\n"
   ]
  },
  {
   "cell_type": "code",
   "execution_count": 18,
   "id": "35a5f11f",
   "metadata": {
    "execution": {
     "iopub.execute_input": "2022-09-17T22:44:34.160329Z",
     "iopub.status.busy": "2022-09-17T22:44:34.159396Z",
     "iopub.status.idle": "2022-09-17T22:44:37.838068Z",
     "shell.execute_reply": "2022-09-17T22:44:37.837439Z",
     "shell.execute_reply.started": "2022-09-17T22:30:33.439310Z"
    },
    "papermill": {
     "duration": 3.733333,
     "end_time": "2022-09-17T22:44:37.838232",
     "exception": false,
     "start_time": "2022-09-17T22:44:34.104899",
     "status": "completed"
    },
    "tags": []
   },
   "outputs": [
    {
     "name": "stdout",
     "output_type": "stream",
     "text": [
      "329/329 [==============================] - 4s 11ms/step - loss: 0.0454 - accuracy: 0.9886\n"
     ]
    },
    {
     "data": {
      "text/plain": [
       "[0.045408524572849274, 0.9885714054107666]"
      ]
     },
     "execution_count": 18,
     "metadata": {},
     "output_type": "execute_result"
    }
   ],
   "source": [
    "model.evaluate(X_valid_expanded, y_valid)"
   ]
  },
  {
   "cell_type": "code",
   "execution_count": 19,
   "id": "4b3dd547",
   "metadata": {
    "execution": {
     "iopub.execute_input": "2022-09-17T22:44:38.018562Z",
     "iopub.status.busy": "2022-09-17T22:44:38.015131Z",
     "iopub.status.idle": "2022-09-17T22:44:38.441553Z",
     "shell.execute_reply": "2022-09-17T22:44:38.442097Z",
     "shell.execute_reply.started": "2022-09-17T22:34:52.560826Z"
    },
    "papermill": {
     "duration": 0.528532,
     "end_time": "2022-09-17T22:44:38.442296",
     "exception": false,
     "start_time": "2022-09-17T22:44:37.913764",
     "status": "completed"
    },
    "tags": []
   },
   "outputs": [
    {
     "name": "stdout",
     "output_type": "stream",
     "text": [
      "Best Validation Loss: 0.0427\n",
      "Best Validation Accuracy: 0.9903\n"
     ]
    },
    {
     "data": {
      "image/png": "[encoded data removed]",
      "text/plain": [
       "<Figure size 432x288 with 1 Axes>"
      ]
     },
     "metadata": {
      "needs_background": "light"
     },
     "output_type": "display_data"
    },
    {
     "data": {
      "image/png": "[encoded data removed]",
      "text/plain": [
       "<Figure size 432x288 with 1 Axes>"
      ]
     },
     "metadata": {
      "needs_background": "light"
     },
     "output_type": "display_data"
    }
   ],
   "source": [
    "history_df = pd.DataFrame(history.history)\n",
    "history_df.loc[:, ['loss', 'val_loss']].plot()\n",
    "history_df.loc[:, ['accuracy', 'val_accuracy']].plot()\n",
    "\n",
    "print((\"Best Validation Loss: {:0.4f}\" +\\\n",
    "      \"\\nBest Validation Accuracy: {:0.4f}\")\\\n",
    "      .format(history_df['val_loss'].min(), \n",
    "              history_df['val_accuracy'].max()))"
   ]
  },
  {
   "cell_type": "markdown",
   "id": "0ac0ea64",
   "metadata": {
    "papermill": {
     "duration": 0.076939,
     "end_time": "2022-09-17T22:44:38.597657",
     "exception": false,
     "start_time": "2022-09-17T22:44:38.520718",
     "status": "completed"
    },
    "tags": []
   },
   "source": [
    "# Add more images to training dataset to fine tune model"
   ]
  },
  {
   "cell_type": "markdown",
   "id": "76b78149",
   "metadata": {
    "papermill": {
     "duration": 0.077083,
     "end_time": "2022-09-17T22:44:38.752714",
     "exception": false,
     "start_time": "2022-09-17T22:44:38.675631",
     "status": "completed"
    },
    "tags": []
   },
   "source": [
    "Convolutional neural network model has a higher training and validation score than the simpler deep neural network model. I will add more images to the training dataset to improve the score further."
   ]
  },
  {
   "cell_type": "code",
   "execution_count": 20,
   "id": "1a23f4c8",
   "metadata": {
    "execution": {
     "iopub.execute_input": "2022-09-17T22:44:38.908104Z",
     "iopub.status.busy": "2022-09-17T22:44:38.907372Z",
     "iopub.status.idle": "2022-09-17T22:44:38.912145Z",
     "shell.execute_reply": "2022-09-17T22:44:38.912635Z"
    },
    "papermill": {
     "duration": 0.084168,
     "end_time": "2022-09-17T22:44:38.912806",
     "exception": false,
     "start_time": "2022-09-17T22:44:38.828638",
     "status": "completed"
    },
    "tags": []
   },
   "outputs": [
    {
     "data": {
      "text/plain": [
       "'\\ngen = image.ImageDataGenerator()\\ngen =ImageDataGenerator(rotation_range=8, width_shift_range=0.08, shear_range=0.3,\\n                               height_shift_range=0.08, zoom_range=0.08)\\nbatches = gen.flow(X_train, y_train, batch_size=64)\\nval_batches = gen.flow(X_valid, y_valid, batch_size=64\\nhistory=model.fit_generator(generator=batches, steps_per_epoch=batches.n, epochs=1, \\n                    validation_data=val_batches, validation_steps=val_batches.n)\\n'"
      ]
     },
     "execution_count": 20,
     "metadata": {},
     "output_type": "execute_result"
    }
   ],
   "source": [
    "'''\n",
    "gen = image.ImageDataGenerator()\n",
    "gen =ImageDataGenerator(rotation_range=8, width_shift_range=0.08, shear_range=0.3,\n",
    "                               height_shift_range=0.08, zoom_range=0.08)\n",
    "batches = gen.flow(X_train, y_train, batch_size=64)\n",
    "val_batches = gen.flow(X_valid, y_valid, batch_size=64\n",
    "history=model.fit_generator(generator=batches, steps_per_epoch=batches.n, epochs=1, \n",
    "                    validation_data=val_batches, validation_steps=val_batches.n)\n",
    "'''\n"
   ]
  },
  {
   "cell_type": "markdown",
   "id": "289ff21f",
   "metadata": {
    "papermill": {
     "duration": 0.076159,
     "end_time": "2022-09-17T22:44:39.067312",
     "exception": false,
     "start_time": "2022-09-17T22:44:38.991153",
     "status": "completed"
    },
    "tags": []
   },
   "source": [
    "Look at performance of model with new training data."
   ]
  },
  {
   "cell_type": "code",
   "execution_count": 21,
   "id": "de26170d",
   "metadata": {
    "execution": {
     "iopub.execute_input": "2022-09-17T22:44:39.224531Z",
     "iopub.status.busy": "2022-09-17T22:44:39.223830Z",
     "iopub.status.idle": "2022-09-17T22:44:42.993665Z",
     "shell.execute_reply": "2022-09-17T22:44:42.992895Z",
     "shell.execute_reply.started": "2022-09-17T22:35:50.219678Z"
    },
    "papermill": {
     "duration": 3.84967,
     "end_time": "2022-09-17T22:44:42.993823",
     "exception": false,
     "start_time": "2022-09-17T22:44:39.144153",
     "status": "completed"
    },
    "tags": []
   },
   "outputs": [
    {
     "name": "stdout",
     "output_type": "stream",
     "text": [
      "329/329 [==============================] - 4s 11ms/step - loss: 0.0454 - accuracy: 0.9886\n"
     ]
    },
    {
     "data": {
      "text/plain": [
       "[0.045408524572849274, 0.9885714054107666]"
      ]
     },
     "execution_count": 21,
     "metadata": {},
     "output_type": "execute_result"
    }
   ],
   "source": [
    "model.evaluate(X_valid_expanded, y_valid)"
   ]
  },
  {
   "cell_type": "code",
   "execution_count": 22,
   "id": "7f7d5d6f",
   "metadata": {
    "execution": {
     "iopub.execute_input": "2022-09-17T22:44:43.199258Z",
     "iopub.status.busy": "2022-09-17T22:44:43.198284Z",
     "iopub.status.idle": "2022-09-17T22:44:43.653678Z",
     "shell.execute_reply": "2022-09-17T22:44:43.653156Z",
     "shell.execute_reply.started": "2022-09-17T22:35:58.033580Z"
    },
    "papermill": {
     "duration": 0.557774,
     "end_time": "2022-09-17T22:44:43.653819",
     "exception": false,
     "start_time": "2022-09-17T22:44:43.096045",
     "status": "completed"
    },
    "tags": []
   },
   "outputs": [
    {
     "name": "stdout",
     "output_type": "stream",
     "text": [
      "Best Validation Loss: 0.0427\n",
      "Best Validation Accuracy: 0.9903\n"
     ]
    },
    {
     "data": {
      "image/png": "[encoded data removed]",
      "text/plain": [
       "<Figure size 432x288 with 1 Axes>"
      ]
     },
     "metadata": {
      "needs_background": "light"
     },
     "output_type": "display_data"
    },
    {
     "data": {
      "image/png": "[encoded data removed]",
      "text/plain": [
       "<Figure size 432x288 with 1 Axes>"
      ]
     },
     "metadata": {
      "needs_background": "light"
     },
     "output_type": "display_data"
    }
   ],
   "source": [
    "history_df = pd.DataFrame(history.history)\n",
    "# Start the plot at epoch 5\n",
    "history_df.loc[:, ['loss', 'val_loss']].plot()\n",
    "history_df.loc[:, ['accuracy', 'val_accuracy']].plot()\n",
    "\n",
    "print((\"Best Validation Loss: {:0.4f}\" +\\\n",
    "      \"\\nBest Validation Accuracy: {:0.4f}\")\\\n",
    "      .format(history_df['val_loss'].min(), \n",
    "              history_df['val_accuracy'].max()))"
   ]
  },
  {
   "cell_type": "markdown",
   "id": "f5b89dbd",
   "metadata": {
    "papermill": {
     "duration": 0.102444,
     "end_time": "2022-09-17T22:44:43.859123",
     "exception": false,
     "start_time": "2022-09-17T22:44:43.756679",
     "status": "completed"
    },
    "tags": []
   },
   "source": [
    "# Use model to make predictions and submit"
   ]
  },
  {
   "cell_type": "markdown",
   "id": "e1d9103b",
   "metadata": {
    "papermill": {
     "duration": 0.101122,
     "end_time": "2022-09-17T22:44:44.063309",
     "exception": false,
     "start_time": "2022-09-17T22:44:43.962187",
     "status": "completed"
    },
    "tags": []
   },
   "source": [
    "Calculate predictions."
   ]
  },
  {
   "cell_type": "code",
   "execution_count": 23,
   "id": "2c8ded57",
   "metadata": {
    "execution": {
     "iopub.execute_input": "2022-09-17T22:44:44.274054Z",
     "iopub.status.busy": "2022-09-17T22:44:44.273379Z",
     "iopub.status.idle": "2022-09-17T22:44:54.340697Z",
     "shell.execute_reply": "2022-09-17T22:44:54.341195Z",
     "shell.execute_reply.started": "2022-09-17T22:36:07.616577Z"
    },
    "papermill": {
     "duration": 10.175832,
     "end_time": "2022-09-17T22:44:54.341399",
     "exception": false,
     "start_time": "2022-09-17T22:44:44.165567",
     "status": "completed"
    },
    "tags": []
   },
   "outputs": [
    {
     "data": {
      "text/plain": [
       "array([2, 0, 9, ..., 3, 9, 2])"
      ]
     },
     "execution_count": 23,
     "metadata": {},
     "output_type": "execute_result"
    }
   ],
   "source": [
    "#model.predict df has 10 columns, each representing a digit and probability \n",
    "#return digit with highest probability for each row\n",
    "preds = np.argmax(model.predict(test_expanded), axis = 1)\n",
    "preds\n"
   ]
  },
  {
   "cell_type": "markdown",
   "id": "0d3a6f55",
   "metadata": {
    "papermill": {
     "duration": 0.103282,
     "end_time": "2022-09-17T22:44:54.548082",
     "exception": false,
     "start_time": "2022-09-17T22:44:54.444800",
     "status": "completed"
    },
    "tags": []
   },
   "source": [
    "View predictions on random sample of nine images to confirm model working as expected."
   ]
  },
  {
   "cell_type": "code",
   "execution_count": 24,
   "id": "0c08eeea",
   "metadata": {
    "execution": {
     "iopub.execute_input": "2022-09-17T22:44:54.760932Z",
     "iopub.status.busy": "2022-09-17T22:44:54.760295Z",
     "iopub.status.idle": "2022-09-17T22:44:55.800539Z",
     "shell.execute_reply": "2022-09-17T22:44:55.801077Z",
     "shell.execute_reply.started": "2022-09-17T22:36:22.185063Z"
    },
    "papermill": {
     "duration": 1.14881,
     "end_time": "2022-09-17T22:44:55.801274",
     "exception": false,
     "start_time": "2022-09-17T22:44:54.652464",
     "status": "completed"
    },
    "tags": []
   },
   "outputs": [
    {
     "data": {
      "image/png": "[encoded data removed]",
      "text/plain": [
       "<Figure size 720x864 with 9 Axes>"
      ]
     },
     "metadata": {
      "needs_background": "light"
     },
     "output_type": "display_data"
    }
   ],
   "source": [
    "import random\n",
    "test_pixels = test.to_numpy().reshape(len(test),28,28)\n",
    "plt.figure(figsize=(10,12))\n",
    "for index, row_num in enumerate(random.sample(range(0,len(test)), 9), start=1):\n",
    "    plt.subplot(3,3,index)\n",
    "    #add images to plot\n",
    "    img_data = test_pixels[row_num]\n",
    "    plt.imshow(img_data, cmap='gray')\n",
    "    #add prediction to plot\n",
    "    plt.xlabel('Predicted digit: ' + str(preds[row_num]))\n",
    "\n"
   ]
  },
  {
   "cell_type": "markdown",
   "id": "64963604",
   "metadata": {
    "papermill": {
     "duration": 0.106374,
     "end_time": "2022-09-17T22:44:56.013618",
     "exception": false,
     "start_time": "2022-09-17T22:44:55.907244",
     "status": "completed"
    },
    "tags": []
   },
   "source": [
    "Output predictions for submission to competition."
   ]
  },
  {
   "cell_type": "code",
   "execution_count": 25,
   "id": "139972f3",
   "metadata": {
    "execution": {
     "iopub.execute_input": "2022-09-17T22:44:56.232134Z",
     "iopub.status.busy": "2022-09-17T22:44:56.231311Z",
     "iopub.status.idle": "2022-09-17T22:44:56.268689Z",
     "shell.execute_reply": "2022-09-17T22:44:56.267488Z",
     "shell.execute_reply.started": "2022-09-17T22:36:26.644638Z"
    },
    "papermill": {
     "duration": 0.15038,
     "end_time": "2022-09-17T22:44:56.268972",
     "exception": false,
     "start_time": "2022-09-17T22:44:56.118592",
     "status": "completed"
    },
    "tags": []
   },
   "outputs": [
    {
     "name": "stdout",
     "output_type": "stream",
     "text": [
      "Your submission was successfully saved!\n"
     ]
    }
   ],
   "source": [
    "output = pd.DataFrame({'ImageId': test.index+1, 'Label': preds})\n",
    "output.to_csv('submission.csv',index=False)\n",
    "print(\"Your submission was successfully saved!\")"
   ]
  }
 ],
 "metadata": {
  "kernelspec": {
   "display_name": "Python 3",
   "language": "python",
   "name": "python3"
  },
  "language_info": {
   "codemirror_mode": {
    "name": "ipython",
    "version": 3
   },
   "file_extension": ".py",
   "mimetype": "text/x-python",
   "name": "python",
   "nbconvert_exporter": "python",
   "pygments_lexer": "ipython3",
   "version": "3.7.12"
  },
  "papermill": {
   "default_parameters": {},
   "duration": 491.871583,
   "end_time": "2022-09-17T22:44:59.952542",
   "environment_variables": {},
   "exception": null,
   "input_path": "__notebook__.ipynb",
   "output_path": "__notebook__.ipynb",
   "parameters": {},
   "start_time": "2022-09-17T22:36:48.080959",
   "version": "2.3.3"
  }
 },
 "nbformat": 4,
 "nbformat_minor": 5
}
