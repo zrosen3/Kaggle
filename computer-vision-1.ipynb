{
 "cells": [
  {
   "cell_type": "markdown",
   "id": "688fd52b",
   "metadata": {
    "papermill": {
     "duration": 0.039129,
     "end_time": "2022-09-30T13:51:14.054779",
     "exception": false,
     "start_time": "2022-09-30T13:51:14.015650",
     "status": "completed"
    },
    "tags": []
   },
   "source": [
    "# Set up"
   ]
  },
  {
   "cell_type": "code",
   "execution_count": 1,
   "id": "bc1f0ebb",
   "metadata": {
    "execution": {
     "iopub.execute_input": "2022-09-30T13:51:14.136029Z",
     "iopub.status.busy": "2022-09-30T13:51:14.134818Z",
     "iopub.status.idle": "2022-09-30T13:51:28.908335Z",
     "shell.execute_reply": "2022-09-30T13:51:28.907608Z",
     "shell.execute_reply.started": "2022-09-17T22:03:45.700143Z"
    },
    "papermill": {
     "duration": 14.813685,
     "end_time": "2022-09-30T13:51:28.908529",
     "exception": false,
     "start_time": "2022-09-30T13:51:14.094844",
     "status": "completed"
    },
    "tags": []
   },
   "outputs": [],
   "source": [
    "#load in libraries\n",
    "import tensorflow as tf\n",
    "import numpy as np\n",
    "import matplotlib.pyplot as plt\n",
    "import seaborn as sns\n",
    "from tensorflow import keras\n",
    "from tensorflow.keras import layers\n",
    "import pandas as pd\n",
    "from sklearn.model_selection import train_test_split\n",
    "from keras.layers import Convolution2D, MaxPooling2D\n",
    "from keras.models import Sequential\n",
    "from keras.layers import Dense , Dropout , Lambda, Flatten\n",
    "from keras import  backend as K\n",
    "from keras.preprocessing import image\n",
    "from keras.preprocessing.image import ImageDataGenerator\n",
    "from keras.utils.np_utils import to_categorical # convert to one-hot-encoding\n",
    "\n",
    "\n",
    "#load data files \n",
    "test = pd.read_csv(\"../input/digit-recognizer/test.csv\")\n",
    "train = pd.read_csv(\"../input/digit-recognizer/train.csv\")\n",
    "sample_submission = pd.read_csv(\"../input/digit-recognizer/sample_submission.csv\")"
   ]
  },
  {
   "cell_type": "markdown",
   "id": "6088571d",
   "metadata": {
    "papermill": {
     "duration": 0.034957,
     "end_time": "2022-09-30T13:51:28.979626",
     "exception": false,
     "start_time": "2022-09-30T13:51:28.944669",
     "status": "completed"
    },
    "tags": []
   },
   "source": [
    "Look at structure of each dataset. Pixel intensities are represented as integers from 1 to 255. 1 is the lightest value while 255 is the darkest value. Each image is 28 pixels wide x 28 pixels long = 784 pixels in total. The label value gives the digit which each drawing represents."
   ]
  },
  {
   "cell_type": "code",
   "execution_count": 2,
   "id": "4ac736bf",
   "metadata": {
    "execution": {
     "iopub.execute_input": "2022-09-30T13:51:29.062959Z",
     "iopub.status.busy": "2022-09-30T13:51:29.062099Z",
     "iopub.status.idle": "2022-09-30T13:51:29.083659Z",
     "shell.execute_reply": "2022-09-30T13:51:29.084210Z",
     "shell.execute_reply.started": "2022-09-17T22:04:35.186267Z"
    },
    "papermill": {
     "duration": 0.068916,
     "end_time": "2022-09-30T13:51:29.084392",
     "exception": false,
     "start_time": "2022-09-30T13:51:29.015476",
     "status": "completed"
    },
    "tags": []
   },
   "outputs": [
    {
     "data": {
      "text/html": [
       "<div>\n",
       "<style scoped>\n",
       "    .dataframe tbody tr th:only-of-type {\n",
       "        vertical-align: middle;\n",
       "    }\n",
       "\n",
       "    .dataframe tbody tr th {\n",
       "        vertical-align: top;\n",
       "    }\n",
       "\n",
       "    .dataframe thead th {\n",
       "        text-align: right;\n",
       "    }\n",
       "</style>\n",
       "<table border=\"1\" class=\"dataframe\">\n",
       "  <thead>\n",
       "    <tr style=\"text-align: right;\">\n",
       "      <th></th>\n",
       "      <th>pixel0</th>\n",
       "      <th>pixel1</th>\n",
       "      <th>pixel2</th>\n",
       "      <th>pixel3</th>\n",
       "      <th>pixel4</th>\n",
       "      <th>pixel5</th>\n",
       "      <th>pixel6</th>\n",
       "      <th>pixel7</th>\n",
       "      <th>pixel8</th>\n",
       "      <th>pixel9</th>\n",
       "      <th>...</th>\n",
       "      <th>pixel774</th>\n",
       "      <th>pixel775</th>\n",
       "      <th>pixel776</th>\n",
       "      <th>pixel777</th>\n",
       "      <th>pixel778</th>\n",
       "      <th>pixel779</th>\n",
       "      <th>pixel780</th>\n",
       "      <th>pixel781</th>\n",
       "      <th>pixel782</th>\n",
       "      <th>pixel783</th>\n",
       "    </tr>\n",
       "  </thead>\n",
       "  <tbody>\n",
       "    <tr>\n",
       "      <th>0</th>\n",
       "      <td>0</td>\n",
       "      <td>0</td>\n",
       "      <td>0</td>\n",
       "      <td>0</td>\n",
       "      <td>0</td>\n",
       "      <td>0</td>\n",
       "      <td>0</td>\n",
       "      <td>0</td>\n",
       "      <td>0</td>\n",
       "      <td>0</td>\n",
       "      <td>...</td>\n",
       "      <td>0</td>\n",
       "      <td>0</td>\n",
       "      <td>0</td>\n",
       "      <td>0</td>\n",
       "      <td>0</td>\n",
       "      <td>0</td>\n",
       "      <td>0</td>\n",
       "      <td>0</td>\n",
       "      <td>0</td>\n",
       "      <td>0</td>\n",
       "    </tr>\n",
       "    <tr>\n",
       "      <th>1</th>\n",
       "      <td>0</td>\n",
       "      <td>0</td>\n",
       "      <td>0</td>\n",
       "      <td>0</td>\n",
       "      <td>0</td>\n",
       "      <td>0</td>\n",
       "      <td>0</td>\n",
       "      <td>0</td>\n",
       "      <td>0</td>\n",
       "      <td>0</td>\n",
       "      <td>...</td>\n",
       "      <td>0</td>\n",
       "      <td>0</td>\n",
       "      <td>0</td>\n",
       "      <td>0</td>\n",
       "      <td>0</td>\n",
       "      <td>0</td>\n",
       "      <td>0</td>\n",
       "      <td>0</td>\n",
       "      <td>0</td>\n",
       "      <td>0</td>\n",
       "    </tr>\n",
       "    <tr>\n",
       "      <th>2</th>\n",
       "      <td>0</td>\n",
       "      <td>0</td>\n",
       "      <td>0</td>\n",
       "      <td>0</td>\n",
       "      <td>0</td>\n",
       "      <td>0</td>\n",
       "      <td>0</td>\n",
       "      <td>0</td>\n",
       "      <td>0</td>\n",
       "      <td>0</td>\n",
       "      <td>...</td>\n",
       "      <td>0</td>\n",
       "      <td>0</td>\n",
       "      <td>0</td>\n",
       "      <td>0</td>\n",
       "      <td>0</td>\n",
       "      <td>0</td>\n",
       "      <td>0</td>\n",
       "      <td>0</td>\n",
       "      <td>0</td>\n",
       "      <td>0</td>\n",
       "    </tr>\n",
       "    <tr>\n",
       "      <th>3</th>\n",
       "      <td>0</td>\n",
       "      <td>0</td>\n",
       "      <td>0</td>\n",
       "      <td>0</td>\n",
       "      <td>0</td>\n",
       "      <td>0</td>\n",
       "      <td>0</td>\n",
       "      <td>0</td>\n",
       "      <td>0</td>\n",
       "      <td>0</td>\n",
       "      <td>...</td>\n",
       "      <td>0</td>\n",
       "      <td>0</td>\n",
       "      <td>0</td>\n",
       "      <td>0</td>\n",
       "      <td>0</td>\n",
       "      <td>0</td>\n",
       "      <td>0</td>\n",
       "      <td>0</td>\n",
       "      <td>0</td>\n",
       "      <td>0</td>\n",
       "    </tr>\n",
       "    <tr>\n",
       "      <th>4</th>\n",
       "      <td>0</td>\n",
       "      <td>0</td>\n",
       "      <td>0</td>\n",
       "      <td>0</td>\n",
       "      <td>0</td>\n",
       "      <td>0</td>\n",
       "      <td>0</td>\n",
       "      <td>0</td>\n",
       "      <td>0</td>\n",
       "      <td>0</td>\n",
       "      <td>...</td>\n",
       "      <td>0</td>\n",
       "      <td>0</td>\n",
       "      <td>0</td>\n",
       "      <td>0</td>\n",
       "      <td>0</td>\n",
       "      <td>0</td>\n",
       "      <td>0</td>\n",
       "      <td>0</td>\n",
       "      <td>0</td>\n",
       "      <td>0</td>\n",
       "    </tr>\n",
       "  </tbody>\n",
       "</table>\n",
       "<p>5 rows × 784 columns</p>\n",
       "</div>"
      ],
      "text/plain": [
       "   pixel0  pixel1  pixel2  pixel3  pixel4  pixel5  pixel6  pixel7  pixel8  \\\n",
       "0       0       0       0       0       0       0       0       0       0   \n",
       "1       0       0       0       0       0       0       0       0       0   \n",
       "2       0       0       0       0       0       0       0       0       0   \n",
       "3       0       0       0       0       0       0       0       0       0   \n",
       "4       0       0       0       0       0       0       0       0       0   \n",
       "\n",
       "   pixel9  ...  pixel774  pixel775  pixel776  pixel777  pixel778  pixel779  \\\n",
       "0       0  ...         0         0         0         0         0         0   \n",
       "1       0  ...         0         0         0         0         0         0   \n",
       "2       0  ...         0         0         0         0         0         0   \n",
       "3       0  ...         0         0         0         0         0         0   \n",
       "4       0  ...         0         0         0         0         0         0   \n",
       "\n",
       "   pixel780  pixel781  pixel782  pixel783  \n",
       "0         0         0         0         0  \n",
       "1         0         0         0         0  \n",
       "2         0         0         0         0  \n",
       "3         0         0         0         0  \n",
       "4         0         0         0         0  \n",
       "\n",
       "[5 rows x 784 columns]"
      ]
     },
     "execution_count": 2,
     "metadata": {},
     "output_type": "execute_result"
    }
   ],
   "source": [
    "test.head()"
   ]
  },
  {
   "cell_type": "code",
   "execution_count": 3,
   "id": "a87c5429",
   "metadata": {
    "execution": {
     "iopub.execute_input": "2022-09-30T13:51:29.178016Z",
     "iopub.status.busy": "2022-09-30T13:51:29.177270Z",
     "iopub.status.idle": "2022-09-30T13:51:29.180275Z",
     "shell.execute_reply": "2022-09-30T13:51:29.180810Z",
     "shell.execute_reply.started": "2022-09-17T22:04:37.457677Z"
    },
    "papermill": {
     "duration": 0.057298,
     "end_time": "2022-09-30T13:51:29.180994",
     "exception": false,
     "start_time": "2022-09-30T13:51:29.123696",
     "status": "completed"
    },
    "tags": []
   },
   "outputs": [
    {
     "data": {
      "text/html": [
       "<div>\n",
       "<style scoped>\n",
       "    .dataframe tbody tr th:only-of-type {\n",
       "        vertical-align: middle;\n",
       "    }\n",
       "\n",
       "    .dataframe tbody tr th {\n",
       "        vertical-align: top;\n",
       "    }\n",
       "\n",
       "    .dataframe thead th {\n",
       "        text-align: right;\n",
       "    }\n",
       "</style>\n",
       "<table border=\"1\" class=\"dataframe\">\n",
       "  <thead>\n",
       "    <tr style=\"text-align: right;\">\n",
       "      <th></th>\n",
       "      <th>label</th>\n",
       "      <th>pixel0</th>\n",
       "      <th>pixel1</th>\n",
       "      <th>pixel2</th>\n",
       "      <th>pixel3</th>\n",
       "      <th>pixel4</th>\n",
       "      <th>pixel5</th>\n",
       "      <th>pixel6</th>\n",
       "      <th>pixel7</th>\n",
       "      <th>pixel8</th>\n",
       "      <th>...</th>\n",
       "      <th>pixel774</th>\n",
       "      <th>pixel775</th>\n",
       "      <th>pixel776</th>\n",
       "      <th>pixel777</th>\n",
       "      <th>pixel778</th>\n",
       "      <th>pixel779</th>\n",
       "      <th>pixel780</th>\n",
       "      <th>pixel781</th>\n",
       "      <th>pixel782</th>\n",
       "      <th>pixel783</th>\n",
       "    </tr>\n",
       "  </thead>\n",
       "  <tbody>\n",
       "    <tr>\n",
       "      <th>0</th>\n",
       "      <td>1</td>\n",
       "      <td>0</td>\n",
       "      <td>0</td>\n",
       "      <td>0</td>\n",
       "      <td>0</td>\n",
       "      <td>0</td>\n",
       "      <td>0</td>\n",
       "      <td>0</td>\n",
       "      <td>0</td>\n",
       "      <td>0</td>\n",
       "      <td>...</td>\n",
       "      <td>0</td>\n",
       "      <td>0</td>\n",
       "      <td>0</td>\n",
       "      <td>0</td>\n",
       "      <td>0</td>\n",
       "      <td>0</td>\n",
       "      <td>0</td>\n",
       "      <td>0</td>\n",
       "      <td>0</td>\n",
       "      <td>0</td>\n",
       "    </tr>\n",
       "    <tr>\n",
       "      <th>1</th>\n",
       "      <td>0</td>\n",
       "      <td>0</td>\n",
       "      <td>0</td>\n",
       "      <td>0</td>\n",
       "      <td>0</td>\n",
       "      <td>0</td>\n",
       "      <td>0</td>\n",
       "      <td>0</td>\n",
       "      <td>0</td>\n",
       "      <td>0</td>\n",
       "      <td>...</td>\n",
       "      <td>0</td>\n",
       "      <td>0</td>\n",
       "      <td>0</td>\n",
       "      <td>0</td>\n",
       "      <td>0</td>\n",
       "      <td>0</td>\n",
       "      <td>0</td>\n",
       "      <td>0</td>\n",
       "      <td>0</td>\n",
       "      <td>0</td>\n",
       "    </tr>\n",
       "    <tr>\n",
       "      <th>2</th>\n",
       "      <td>1</td>\n",
       "      <td>0</td>\n",
       "      <td>0</td>\n",
       "      <td>0</td>\n",
       "      <td>0</td>\n",
       "      <td>0</td>\n",
       "      <td>0</td>\n",
       "      <td>0</td>\n",
       "      <td>0</td>\n",
       "      <td>0</td>\n",
       "      <td>...</td>\n",
       "      <td>0</td>\n",
       "      <td>0</td>\n",
       "      <td>0</td>\n",
       "      <td>0</td>\n",
       "      <td>0</td>\n",
       "      <td>0</td>\n",
       "      <td>0</td>\n",
       "      <td>0</td>\n",
       "      <td>0</td>\n",
       "      <td>0</td>\n",
       "    </tr>\n",
       "    <tr>\n",
       "      <th>3</th>\n",
       "      <td>4</td>\n",
       "      <td>0</td>\n",
       "      <td>0</td>\n",
       "      <td>0</td>\n",
       "      <td>0</td>\n",
       "      <td>0</td>\n",
       "      <td>0</td>\n",
       "      <td>0</td>\n",
       "      <td>0</td>\n",
       "      <td>0</td>\n",
       "      <td>...</td>\n",
       "      <td>0</td>\n",
       "      <td>0</td>\n",
       "      <td>0</td>\n",
       "      <td>0</td>\n",
       "      <td>0</td>\n",
       "      <td>0</td>\n",
       "      <td>0</td>\n",
       "      <td>0</td>\n",
       "      <td>0</td>\n",
       "      <td>0</td>\n",
       "    </tr>\n",
       "    <tr>\n",
       "      <th>4</th>\n",
       "      <td>0</td>\n",
       "      <td>0</td>\n",
       "      <td>0</td>\n",
       "      <td>0</td>\n",
       "      <td>0</td>\n",
       "      <td>0</td>\n",
       "      <td>0</td>\n",
       "      <td>0</td>\n",
       "      <td>0</td>\n",
       "      <td>0</td>\n",
       "      <td>...</td>\n",
       "      <td>0</td>\n",
       "      <td>0</td>\n",
       "      <td>0</td>\n",
       "      <td>0</td>\n",
       "      <td>0</td>\n",
       "      <td>0</td>\n",
       "      <td>0</td>\n",
       "      <td>0</td>\n",
       "      <td>0</td>\n",
       "      <td>0</td>\n",
       "    </tr>\n",
       "  </tbody>\n",
       "</table>\n",
       "<p>5 rows × 785 columns</p>\n",
       "</div>"
      ],
      "text/plain": [
       "   label  pixel0  pixel1  pixel2  pixel3  pixel4  pixel5  pixel6  pixel7  \\\n",
       "0      1       0       0       0       0       0       0       0       0   \n",
       "1      0       0       0       0       0       0       0       0       0   \n",
       "2      1       0       0       0       0       0       0       0       0   \n",
       "3      4       0       0       0       0       0       0       0       0   \n",
       "4      0       0       0       0       0       0       0       0       0   \n",
       "\n",
       "   pixel8  ...  pixel774  pixel775  pixel776  pixel777  pixel778  pixel779  \\\n",
       "0       0  ...         0         0         0         0         0         0   \n",
       "1       0  ...         0         0         0         0         0         0   \n",
       "2       0  ...         0         0         0         0         0         0   \n",
       "3       0  ...         0         0         0         0         0         0   \n",
       "4       0  ...         0         0         0         0         0         0   \n",
       "\n",
       "   pixel780  pixel781  pixel782  pixel783  \n",
       "0         0         0         0         0  \n",
       "1         0         0         0         0  \n",
       "2         0         0         0         0  \n",
       "3         0         0         0         0  \n",
       "4         0         0         0         0  \n",
       "\n",
       "[5 rows x 785 columns]"
      ]
     },
     "execution_count": 3,
     "metadata": {},
     "output_type": "execute_result"
    }
   ],
   "source": [
    "train.head()"
   ]
  },
  {
   "cell_type": "code",
   "execution_count": 4,
   "id": "d8dfd7f3",
   "metadata": {
    "execution": {
     "iopub.execute_input": "2022-09-30T13:51:29.259712Z",
     "iopub.status.busy": "2022-09-30T13:51:29.258688Z",
     "iopub.status.idle": "2022-09-30T13:51:29.270460Z",
     "shell.execute_reply": "2022-09-30T13:51:29.269701Z",
     "shell.execute_reply.started": "2022-09-17T22:04:39.622415Z"
    },
    "papermill": {
     "duration": 0.051432,
     "end_time": "2022-09-30T13:51:29.270644",
     "exception": false,
     "start_time": "2022-09-30T13:51:29.219212",
     "status": "completed"
    },
    "tags": []
   },
   "outputs": [
    {
     "data": {
      "text/html": [
       "<div>\n",
       "<style scoped>\n",
       "    .dataframe tbody tr th:only-of-type {\n",
       "        vertical-align: middle;\n",
       "    }\n",
       "\n",
       "    .dataframe tbody tr th {\n",
       "        vertical-align: top;\n",
       "    }\n",
       "\n",
       "    .dataframe thead th {\n",
       "        text-align: right;\n",
       "    }\n",
       "</style>\n",
       "<table border=\"1\" class=\"dataframe\">\n",
       "  <thead>\n",
       "    <tr style=\"text-align: right;\">\n",
       "      <th></th>\n",
       "      <th>ImageId</th>\n",
       "      <th>Label</th>\n",
       "    </tr>\n",
       "  </thead>\n",
       "  <tbody>\n",
       "    <tr>\n",
       "      <th>0</th>\n",
       "      <td>1</td>\n",
       "      <td>0</td>\n",
       "    </tr>\n",
       "    <tr>\n",
       "      <th>1</th>\n",
       "      <td>2</td>\n",
       "      <td>0</td>\n",
       "    </tr>\n",
       "    <tr>\n",
       "      <th>2</th>\n",
       "      <td>3</td>\n",
       "      <td>0</td>\n",
       "    </tr>\n",
       "    <tr>\n",
       "      <th>3</th>\n",
       "      <td>4</td>\n",
       "      <td>0</td>\n",
       "    </tr>\n",
       "    <tr>\n",
       "      <th>4</th>\n",
       "      <td>5</td>\n",
       "      <td>0</td>\n",
       "    </tr>\n",
       "  </tbody>\n",
       "</table>\n",
       "</div>"
      ],
      "text/plain": [
       "   ImageId  Label\n",
       "0        1      0\n",
       "1        2      0\n",
       "2        3      0\n",
       "3        4      0\n",
       "4        5      0"
      ]
     },
     "execution_count": 4,
     "metadata": {},
     "output_type": "execute_result"
    }
   ],
   "source": [
    "sample_submission.head()"
   ]
  },
  {
   "cell_type": "markdown",
   "id": "012af0dd",
   "metadata": {
    "papermill": {
     "duration": 0.037171,
     "end_time": "2022-09-30T13:51:29.345798",
     "exception": false,
     "start_time": "2022-09-30T13:51:29.308627",
     "status": "completed"
    },
    "tags": []
   },
   "source": [
    "# Data visualization"
   ]
  },
  {
   "cell_type": "markdown",
   "id": "25069af3",
   "metadata": {
    "papermill": {
     "duration": 0.036375,
     "end_time": "2022-09-30T13:51:29.424010",
     "exception": false,
     "start_time": "2022-09-30T13:51:29.387635",
     "status": "completed"
    },
    "tags": []
   },
   "source": [
    "Visualize data. Plot a sample of every digit."
   ]
  },
  {
   "cell_type": "code",
   "execution_count": 5,
   "id": "03c78bcd",
   "metadata": {
    "execution": {
     "iopub.execute_input": "2022-09-30T13:51:29.509696Z",
     "iopub.status.busy": "2022-09-30T13:51:29.502280Z",
     "iopub.status.idle": "2022-09-30T13:51:30.903995Z",
     "shell.execute_reply": "2022-09-30T13:51:30.902306Z",
     "shell.execute_reply.started": "2022-09-17T22:04:41.930058Z"
    },
    "papermill": {
     "duration": 1.442533,
     "end_time": "2022-09-30T13:51:30.904193",
     "exception": false,
     "start_time": "2022-09-30T13:51:29.461660",
     "status": "completed"
    },
    "tags": []
   },
   "outputs": [
    {
     "data": {
      "image/png": "[encoded data removed]",
      "text/plain": [
       "<Figure size 1080x504 with 10 Axes>"
      ]
     },
     "metadata": {
      "needs_background": "light"
     },
     "output_type": "display_data"
    }
   ],
   "source": [
    "train_pixels = train.drop(columns=['label'],axis=1).to_numpy().reshape(-1,28,28)\n",
    "train_pixels.shape\n",
    "\n",
    "plt.figure(figsize=(15,7))\n",
    "for digit in range(0, 10):\n",
    "    #find first indice where training data equals digit\n",
    "     index = np.where(train['label'] == digit)[0][0]\n",
    "     plt.subplot(2,5,digit + 1)\n",
    "     plt.title(digit)\n",
    "     plt.imshow(train_pixels[index], cmap='gray')"
   ]
  },
  {
   "cell_type": "markdown",
   "id": "7b67af6f",
   "metadata": {
    "papermill": {
     "duration": 0.041161,
     "end_time": "2022-09-30T13:51:30.990855",
     "exception": false,
     "start_time": "2022-09-30T13:51:30.949694",
     "status": "completed"
    },
    "tags": []
   },
   "source": [
    "Look at distribution of digits in dataset. "
   ]
  },
  {
   "cell_type": "code",
   "execution_count": 6,
   "id": "8b2f0f17",
   "metadata": {
    "execution": {
     "iopub.execute_input": "2022-09-30T13:51:31.073762Z",
     "iopub.status.busy": "2022-09-30T13:51:31.073049Z",
     "iopub.status.idle": "2022-09-30T13:51:31.338786Z",
     "shell.execute_reply": "2022-09-30T13:51:31.337758Z",
     "shell.execute_reply.started": "2022-09-17T22:04:51.394901Z"
    },
    "papermill": {
     "duration": 0.307278,
     "end_time": "2022-09-30T13:51:31.339031",
     "exception": false,
     "start_time": "2022-09-30T13:51:31.031753",
     "status": "completed"
    },
    "tags": []
   },
   "outputs": [
    {
     "data": {
      "text/plain": [
       "[Text(0.5, 1.0, 'Digit counts'), Text(0.5, 0, 'Digit'), Text(0, 0.5, 'Count')]"
      ]
     },
     "execution_count": 6,
     "metadata": {},
     "output_type": "execute_result"
    },
    {
     "data": {
      "image/png": "[encoded data removed]",
      "text/plain": [
       "<Figure size 432x288 with 1 Axes>"
      ]
     },
     "metadata": {
      "needs_background": "light"
     },
     "output_type": "display_data"
    }
   ],
   "source": [
    "sns.countplot(x = train[\"label\"]).set(title = \"Digit counts\", xlabel = \"Digit\", ylabel = \"Count\")\n"
   ]
  },
  {
   "cell_type": "markdown",
   "id": "daf3ebb8",
   "metadata": {
    "papermill": {
     "duration": 0.039832,
     "end_time": "2022-09-30T13:51:31.431248",
     "exception": false,
     "start_time": "2022-09-30T13:51:31.391416",
     "status": "completed"
    },
    "tags": []
   },
   "source": [
    "Training dataset seems to be fairly balanced between digits, though 1 is the most common digit."
   ]
  },
  {
   "cell_type": "markdown",
   "id": "c7bfaa04",
   "metadata": {
    "papermill": {
     "duration": 0.041167,
     "end_time": "2022-09-30T13:51:31.511337",
     "exception": false,
     "start_time": "2022-09-30T13:51:31.470170",
     "status": "completed"
    },
    "tags": []
   },
   "source": [
    "# Data preparation"
   ]
  },
  {
   "cell_type": "markdown",
   "id": "71881a54",
   "metadata": {
    "papermill": {
     "duration": 0.038323,
     "end_time": "2022-09-30T13:51:31.591609",
     "exception": false,
     "start_time": "2022-09-30T13:51:31.553286",
     "status": "completed"
    },
    "tags": []
   },
   "source": [
    "This dataset appears to be very clean and leads minimal processing. It would be helpful to normalize each pixel value to 0-1 before running neural network model. Currently, each pixel value ranges from 0 to 255 so an divide by 255. Use float type to convert values to float."
   ]
  },
  {
   "cell_type": "code",
   "execution_count": 7,
   "id": "b9c0771b",
   "metadata": {
    "execution": {
     "iopub.execute_input": "2022-09-30T13:51:31.677834Z",
     "iopub.status.busy": "2022-09-30T13:51:31.676311Z",
     "iopub.status.idle": "2022-09-30T13:52:07.026785Z",
     "shell.execute_reply": "2022-09-30T13:52:07.026172Z",
     "shell.execute_reply.started": "2022-09-17T22:04:54.260415Z"
    },
    "papermill": {
     "duration": 35.396112,
     "end_time": "2022-09-30T13:52:07.026940",
     "exception": false,
     "start_time": "2022-09-30T13:51:31.630828",
     "status": "completed"
    },
    "tags": []
   },
   "outputs": [],
   "source": [
    "train_normalized = train.copy()\n",
    "pixel_cols = train_normalized.drop('label', axis =1).columns\n",
    "train_normalized[pixel_cols] = train_normalized[pixel_cols].apply(lambda x: x/255.0)\n",
    "test_normalized = test/255.0"
   ]
  },
  {
   "cell_type": "markdown",
   "id": "89e5d681",
   "metadata": {
    "papermill": {
     "duration": 0.038422,
     "end_time": "2022-09-30T13:52:07.104221",
     "exception": false,
     "start_time": "2022-09-30T13:52:07.065799",
     "status": "completed"
    },
    "tags": []
   },
   "source": [
    "Split training data into training and validation sets. Put 75% of data into training set, 25% in validation. Make sure the proportion of digits is the same in training and validation sets."
   ]
  },
  {
   "cell_type": "code",
   "execution_count": 8,
   "id": "951ce965",
   "metadata": {
    "execution": {
     "iopub.execute_input": "2022-09-30T13:52:07.190542Z",
     "iopub.status.busy": "2022-09-30T13:52:07.187852Z",
     "iopub.status.idle": "2022-09-30T13:52:07.909220Z",
     "shell.execute_reply": "2022-09-30T13:52:07.908522Z",
     "shell.execute_reply.started": "2022-09-17T22:07:43.965871Z"
    },
    "papermill": {
     "duration": 0.766762,
     "end_time": "2022-09-30T13:52:07.909404",
     "exception": false,
     "start_time": "2022-09-30T13:52:07.142642",
     "status": "completed"
    },
    "tags": []
   },
   "outputs": [],
   "source": [
    "X = train_normalized.copy()\n",
    "y = X.pop('label') #take out label from X, move to y\n",
    "X_train, X_valid, y_train, y_valid = train_test_split(X, y, stratify=y, train_size=0.75)"
   ]
  },
  {
   "cell_type": "markdown",
   "id": "0e53fcad",
   "metadata": {
    "papermill": {
     "duration": 0.044584,
     "end_time": "2022-09-30T13:52:07.997364",
     "exception": false,
     "start_time": "2022-09-30T13:52:07.952780",
     "status": "completed"
    },
    "tags": []
   },
   "source": [
    "# Modelling"
   ]
  },
  {
   "cell_type": "markdown",
   "id": "73872d13",
   "metadata": {
    "papermill": {
     "duration": 0.040995,
     "end_time": "2022-09-30T13:52:08.081127",
     "exception": false,
     "start_time": "2022-09-30T13:52:08.040132",
     "status": "completed"
    },
    "tags": []
   },
   "source": [
    "Initialize deep neural network model. Input shape is 784 since since 784 pixel variables. Use batch normalization function to standardize data going into each activation function. Large amount of data so use 100 neurons for middle two layers in network. Use softmax activation function to convert output to probabilities of image being of each digit. Add early stopping functino to prevent overfitting."
   ]
  },
  {
   "cell_type": "code",
   "execution_count": 9,
   "id": "9af4dd77",
   "metadata": {
    "execution": {
     "iopub.execute_input": "2022-09-30T13:52:08.165294Z",
     "iopub.status.busy": "2022-09-30T13:52:08.164505Z",
     "iopub.status.idle": "2022-09-30T13:52:08.375679Z",
     "shell.execute_reply": "2022-09-30T13:52:08.376248Z",
     "shell.execute_reply.started": "2022-09-17T22:08:04.283041Z"
    },
    "papermill": {
     "duration": 0.254016,
     "end_time": "2022-09-30T13:52:08.376451",
     "exception": false,
     "start_time": "2022-09-30T13:52:08.122435",
     "status": "completed"
    },
    "tags": []
   },
   "outputs": [
    {
     "name": "stderr",
     "output_type": "stream",
     "text": [
      "2022-09-30 13:52:08.219703: I tensorflow/core/common_runtime/process_util.cc:146] Creating new thread pool with default inter op setting: 2. Tune using inter_op_parallelism_threads for best performance.\n"
     ]
    }
   ],
   "source": [
    "model = keras.Sequential([\n",
    "    layers.Dense(784, activation='relu', input_shape=[784]),\n",
    "    layers.BatchNormalization(),\n",
    "    layers.Dense(512, activation='relu'),\n",
    "    layers.BatchNormalization(),\n",
    "    layers.Dense(10, activation='softmax'),\n",
    "])\n",
    "#use standard adam optimizer, sparse categorical cross entropy to measure loss, accuracy as metric\n",
    "model.compile(\n",
    "    optimizer='adam',\n",
    "    loss='sparse_categorical_crossentropy',\n",
    "    metrics=['accuracy'],\n",
    ")\n",
    "\n",
    "#early stopping function, to make sure function does not overfit\n",
    "early_stopping = keras.callbacks.EarlyStopping(\n",
    "    patience=20,\n",
    "    restore_best_weights=True,\n",
    ")"
   ]
  },
  {
   "cell_type": "markdown",
   "id": "f28c18d2",
   "metadata": {
    "papermill": {
     "duration": 0.039778,
     "end_time": "2022-09-30T13:52:08.463078",
     "exception": false,
     "start_time": "2022-09-30T13:52:08.423300",
     "status": "completed"
    },
    "tags": []
   },
   "source": [
    "Print out model summary."
   ]
  },
  {
   "cell_type": "code",
   "execution_count": 10,
   "id": "9a05db5b",
   "metadata": {
    "execution": {
     "iopub.execute_input": "2022-09-30T13:52:08.550633Z",
     "iopub.status.busy": "2022-09-30T13:52:08.547442Z",
     "iopub.status.idle": "2022-09-30T13:52:08.557322Z",
     "shell.execute_reply": "2022-09-30T13:52:08.558073Z",
     "shell.execute_reply.started": "2022-09-17T22:08:09.153721Z"
    },
    "papermill": {
     "duration": 0.055671,
     "end_time": "2022-09-30T13:52:08.558268",
     "exception": false,
     "start_time": "2022-09-30T13:52:08.502597",
     "status": "completed"
    },
    "tags": []
   },
   "outputs": [
    {
     "name": "stdout",
     "output_type": "stream",
     "text": [
      "Model: \"sequential\"\n",
      "_________________________________________________________________\n",
      "Layer (type)                 Output Shape              Param #   \n",
      "=================================================================\n",
      "dense (Dense)                (None, 784)               615440    \n",
      "_________________________________________________________________\n",
      "batch_normalization (BatchNo (None, 784)               3136      \n",
      "_________________________________________________________________\n",
      "dense_1 (Dense)              (None, 512)               401920    \n",
      "_________________________________________________________________\n",
      "batch_normalization_1 (Batch (None, 512)               2048      \n",
      "_________________________________________________________________\n",
      "dense_2 (Dense)              (None, 10)                5130      \n",
      "=================================================================\n",
      "Total params: 1,027,674\n",
      "Trainable params: 1,025,082\n",
      "Non-trainable params: 2,592\n",
      "_________________________________________________________________\n"
     ]
    }
   ],
   "source": [
    "model.summary()"
   ]
  },
  {
   "cell_type": "markdown",
   "id": "1ca6716c",
   "metadata": {
    "papermill": {
     "duration": 0.041295,
     "end_time": "2022-09-30T13:52:08.640588",
     "exception": false,
     "start_time": "2022-09-30T13:52:08.599293",
     "status": "completed"
    },
    "tags": []
   },
   "source": [
    "Fit model to digits data. Use large batch size and epochs values, but incldue early stopping to avoid overfitting."
   ]
  },
  {
   "cell_type": "code",
   "execution_count": 11,
   "id": "bb9f513f",
   "metadata": {
    "execution": {
     "iopub.execute_input": "2022-09-30T13:52:08.727348Z",
     "iopub.status.busy": "2022-09-30T13:52:08.726682Z",
     "iopub.status.idle": "2022-09-30T13:55:32.179385Z",
     "shell.execute_reply": "2022-09-30T13:55:32.178638Z",
     "shell.execute_reply.started": "2022-09-17T22:08:13.473606Z"
    },
    "papermill": {
     "duration": 203.499859,
     "end_time": "2022-09-30T13:55:32.179577",
     "exception": false,
     "start_time": "2022-09-30T13:52:08.679718",
     "status": "completed"
    },
    "tags": []
   },
   "outputs": [
    {
     "name": "stderr",
     "output_type": "stream",
     "text": [
      "2022-09-30 13:52:09.154082: I tensorflow/compiler/mlir/mlir_graph_optimization_pass.cc:185] None of the MLIR Optimization Passes are enabled (registered 2)\n"
     ]
    }
   ],
   "source": [
    "history = model.fit(\n",
    "    X_train, y_train,\n",
    "    validation_data=(X_valid, y_valid),\n",
    "    callbacks = [early_stopping],\n",
    "    epochs=20,\n",
    "    verbose=0,\n",
    ")"
   ]
  },
  {
   "cell_type": "markdown",
   "id": "8425068a",
   "metadata": {
    "papermill": {
     "duration": 0.041212,
     "end_time": "2022-09-30T13:55:32.261812",
     "exception": false,
     "start_time": "2022-09-30T13:55:32.220600",
     "status": "completed"
    },
    "tags": []
   },
   "source": [
    "Calculate evaluation statistics to measure model performance."
   ]
  },
  {
   "cell_type": "code",
   "execution_count": 12,
   "id": "cd454e93",
   "metadata": {
    "execution": {
     "iopub.execute_input": "2022-09-30T13:55:32.349932Z",
     "iopub.status.busy": "2022-09-30T13:55:32.349196Z",
     "iopub.status.idle": "2022-09-30T13:55:33.607009Z",
     "shell.execute_reply": "2022-09-30T13:55:33.606405Z",
     "shell.execute_reply.started": "2022-09-17T22:11:29.117096Z"
    },
    "papermill": {
     "duration": 1.304013,
     "end_time": "2022-09-30T13:55:33.607169",
     "exception": false,
     "start_time": "2022-09-30T13:55:32.303156",
     "status": "completed"
    },
    "tags": []
   },
   "outputs": [
    {
     "name": "stdout",
     "output_type": "stream",
     "text": [
      "329/329 [==============================] - 1s 3ms/step - loss: 0.1025 - accuracy: 0.9784\n"
     ]
    },
    {
     "data": {
      "text/plain": [
       "[0.10245180130004883, 0.9783809781074524]"
      ]
     },
     "execution_count": 12,
     "metadata": {},
     "output_type": "execute_result"
    }
   ],
   "source": [
    "model.evaluate(X_valid, y_valid)"
   ]
  },
  {
   "cell_type": "markdown",
   "id": "23ce25ab",
   "metadata": {
    "papermill": {
     "duration": 0.047409,
     "end_time": "2022-09-30T13:55:33.704309",
     "exception": false,
     "start_time": "2022-09-30T13:55:33.656900",
     "status": "completed"
    },
    "tags": []
   },
   "source": [
    "Look at learning curves for model prediction."
   ]
  },
  {
   "cell_type": "code",
   "execution_count": 13,
   "id": "b9dfa2bd",
   "metadata": {
    "execution": {
     "iopub.execute_input": "2022-09-30T13:55:33.805872Z",
     "iopub.status.busy": "2022-09-30T13:55:33.805057Z",
     "iopub.status.idle": "2022-09-30T13:55:34.334630Z",
     "shell.execute_reply": "2022-09-30T13:55:34.333714Z",
     "shell.execute_reply.started": "2022-09-17T22:11:34.116623Z"
    },
    "papermill": {
     "duration": 0.582841,
     "end_time": "2022-09-30T13:55:34.334787",
     "exception": false,
     "start_time": "2022-09-30T13:55:33.751946",
     "status": "completed"
    },
    "tags": []
   },
   "outputs": [
    {
     "name": "stdout",
     "output_type": "stream",
     "text": [
      "Best Validation Loss: 0.0949\n",
      "Best Validation Accuracy: 0.9787\n"
     ]
    },
    {
     "data": {
      "image/png": "[encoded data removed]",
      "text/plain": [
       "<Figure size 432x288 with 1 Axes>"
      ]
     },
     "metadata": {
      "needs_background": "light"
     },
     "output_type": "display_data"
    },
    {
     "data": {
      "image/png": "[encoded data removed]",
      "text/plain": [
       "<Figure size 432x288 with 1 Axes>"
      ]
     },
     "metadata": {
      "needs_background": "light"
     },
     "output_type": "display_data"
    }
   ],
   "source": [
    "history_df = pd.DataFrame(history.history)\n",
    "# Start the plot at epoch 5\n",
    "history_df.loc[:, ['loss', 'val_loss']].plot()\n",
    "history_df.loc[:, ['accuracy', 'val_accuracy']].plot()\n",
    "\n",
    "print((\"Best Validation Loss: {:0.4f}\" +\\\n",
    "      \"\\nBest Validation Accuracy: {:0.4f}\")\\\n",
    "      .format(history_df['val_loss'].min(), \n",
    "              history_df['val_accuracy'].max()))"
   ]
  },
  {
   "cell_type": "markdown",
   "id": "70341067",
   "metadata": {
    "papermill": {
     "duration": 0.050067,
     "end_time": "2022-09-30T13:55:34.436244",
     "exception": false,
     "start_time": "2022-09-30T13:55:34.386177",
     "status": "completed"
    },
    "tags": []
   },
   "source": [
    "# CNN model"
   ]
  },
  {
   "cell_type": "markdown",
   "id": "827656d3",
   "metadata": {
    "papermill": {
     "duration": 0.051925,
     "end_time": "2022-09-30T13:55:34.550722",
     "exception": false,
     "start_time": "2022-09-30T13:55:34.498797",
     "status": "completed"
    },
    "tags": []
   },
   "source": [
    "Try running convolutional neural networks model, which are efficient for image processing."
   ]
  },
  {
   "cell_type": "code",
   "execution_count": 14,
   "id": "5cf7fdf3",
   "metadata": {
    "execution": {
     "iopub.execute_input": "2022-09-30T13:55:34.670493Z",
     "iopub.status.busy": "2022-09-30T13:55:34.654636Z",
     "iopub.status.idle": "2022-09-30T13:55:34.813528Z",
     "shell.execute_reply": "2022-09-30T13:55:34.812931Z",
     "shell.execute_reply.started": "2022-09-17T22:11:42.271678Z"
    },
    "papermill": {
     "duration": 0.212297,
     "end_time": "2022-09-30T13:55:34.813715",
     "exception": false,
     "start_time": "2022-09-30T13:55:34.601418",
     "status": "completed"
    },
    "tags": []
   },
   "outputs": [],
   "source": [
    "\n",
    "model = Sequential([\n",
    "    layers.Convolution2D(32,(3,3), activation='relu', input_shape = (28, 28, 1)),\n",
    "    layers.BatchNormalization(axis=1),\n",
    "    layers.Convolution2D(32,(3,3), activation='relu'),\n",
    "    layers.MaxPooling2D(),\n",
    "    layers.BatchNormalization(axis=1),\n",
    "    layers.Convolution2D(64,(3,3), activation='relu'),\n",
    "    layers.BatchNormalization(axis=1),\n",
    "    layers.Convolution2D(64,(3,3), activation='relu'),\n",
    "    layers.MaxPooling2D(),\n",
    "    layers.Flatten(),\n",
    "    layers.BatchNormalization(),\n",
    "    layers.Dense(512, activation='relu'),\n",
    "    layers.BatchNormalization(),\n",
    "    layers.Dense(10, activation='softmax')\n",
    "    ])\n",
    "\n",
    "model.compile(optimizer = \"adam\", loss='categorical_crossentropy',\n",
    "                  metrics=['accuracy'])\n",
    "early_stopping = keras.callbacks.EarlyStopping(\n",
    "    patience=10,\n",
    "    restore_best_weights=True,\n",
    ")\n"
   ]
  },
  {
   "cell_type": "markdown",
   "id": "fd8a61bf",
   "metadata": {
    "papermill": {
     "duration": 0.051954,
     "end_time": "2022-09-30T13:55:34.917745",
     "exception": false,
     "start_time": "2022-09-30T13:55:34.865791",
     "status": "completed"
    },
    "tags": []
   },
   "source": [
    "Transofmr data for input into convolutional neural networks model. Need data to be in shape (batch_size, height, width, depth) so (31500 observations, 28 rows, 28 rows, 1 black/white scale). "
   ]
  },
  {
   "cell_type": "code",
   "execution_count": 15,
   "id": "a9af5c11",
   "metadata": {
    "execution": {
     "iopub.execute_input": "2022-09-30T13:55:35.027002Z",
     "iopub.status.busy": "2022-09-30T13:55:35.026178Z",
     "iopub.status.idle": "2022-09-30T13:55:35.029651Z",
     "shell.execute_reply": "2022-09-30T13:55:35.029066Z",
     "shell.execute_reply.started": "2022-09-17T22:11:46.706321Z"
    },
    "papermill": {
     "duration": 0.061288,
     "end_time": "2022-09-30T13:55:35.029826",
     "exception": false,
     "start_time": "2022-09-30T13:55:34.968538",
     "status": "completed"
    },
    "tags": []
   },
   "outputs": [],
   "source": [
    "X_train_expanded = X_train.to_numpy().reshape(-1, 28, 28, 1)\n",
    "X_valid_expanded = X_valid.to_numpy().reshape(-1, 28, 28, 1)\n",
    "test_expanded = test.to_numpy().reshape(-1, 28, 28, 1)\n"
   ]
  },
  {
   "cell_type": "markdown",
   "id": "02bf3d9b",
   "metadata": {
    "papermill": {
     "duration": 0.052423,
     "end_time": "2022-09-30T13:55:35.133850",
     "exception": false,
     "start_time": "2022-09-30T13:55:35.081427",
     "status": "completed"
    },
    "tags": []
   },
   "source": [
    "One-hot encode labels since values we are trying to predict are finite digits."
   ]
  },
  {
   "cell_type": "code",
   "execution_count": 16,
   "id": "d781458c",
   "metadata": {
    "execution": {
     "iopub.execute_input": "2022-09-30T13:55:35.240036Z",
     "iopub.status.busy": "2022-09-30T13:55:35.239018Z",
     "iopub.status.idle": "2022-09-30T13:55:35.243503Z",
     "shell.execute_reply": "2022-09-30T13:55:35.242951Z",
     "shell.execute_reply.started": "2022-09-17T22:11:50.610365Z"
    },
    "papermill": {
     "duration": 0.059274,
     "end_time": "2022-09-30T13:55:35.243668",
     "exception": false,
     "start_time": "2022-09-30T13:55:35.184394",
     "status": "completed"
    },
    "tags": []
   },
   "outputs": [],
   "source": [
    "y_train = to_categorical(y_train, num_classes = 10)\n",
    "y_valid = to_categorical(y_valid, num_classes = 10)"
   ]
  },
  {
   "cell_type": "code",
   "execution_count": 17,
   "id": "54558eac",
   "metadata": {
    "execution": {
     "iopub.execute_input": "2022-09-30T13:55:35.356759Z",
     "iopub.status.busy": "2022-09-30T13:55:35.355926Z",
     "iopub.status.idle": "2022-09-30T13:59:05.365927Z",
     "shell.execute_reply": "2022-09-30T13:59:05.366498Z",
     "shell.execute_reply.started": "2022-09-17T22:26:06.129702Z"
    },
    "papermill": {
     "duration": 210.070428,
     "end_time": "2022-09-30T13:59:05.366753",
     "exception": false,
     "start_time": "2022-09-30T13:55:35.296325",
     "status": "completed"
    },
    "tags": []
   },
   "outputs": [],
   "source": [
    "history = model.fit(\n",
    "    X_train_expanded, y_train,\n",
    "    validation_data=(X_valid_expanded, y_valid),\n",
    "    epochs=5,\n",
    "    verbose=0,\n",
    ")\n",
    "\n"
   ]
  },
  {
   "cell_type": "code",
   "execution_count": 18,
   "id": "03f64efd",
   "metadata": {
    "execution": {
     "iopub.execute_input": "2022-09-30T13:59:05.474646Z",
     "iopub.status.busy": "2022-09-30T13:59:05.472389Z",
     "iopub.status.idle": "2022-09-30T13:59:09.731706Z",
     "shell.execute_reply": "2022-09-30T13:59:09.732219Z",
     "shell.execute_reply.started": "2022-09-17T22:30:33.439310Z"
    },
    "papermill": {
     "duration": 4.313643,
     "end_time": "2022-09-30T13:59:09.732411",
     "exception": false,
     "start_time": "2022-09-30T13:59:05.418768",
     "status": "completed"
    },
    "tags": []
   },
   "outputs": [
    {
     "name": "stdout",
     "output_type": "stream",
     "text": [
      "329/329 [==============================] - 4s 13ms/step - loss: 0.0477 - accuracy: 0.9862\n"
     ]
    },
    {
     "data": {
      "text/plain": [
       "[0.04766156151890755, 0.9861904978752136]"
      ]
     },
     "execution_count": 18,
     "metadata": {},
     "output_type": "execute_result"
    }
   ],
   "source": [
    "model.evaluate(X_valid_expanded, y_valid)"
   ]
  },
  {
   "cell_type": "code",
   "execution_count": 19,
   "id": "569743ed",
   "metadata": {
    "execution": {
     "iopub.execute_input": "2022-09-30T13:59:09.915424Z",
     "iopub.status.busy": "2022-09-30T13:59:09.891026Z",
     "iopub.status.idle": "2022-09-30T13:59:10.381176Z",
     "shell.execute_reply": "2022-09-30T13:59:10.382007Z",
     "shell.execute_reply.started": "2022-09-17T22:34:52.560826Z"
    },
    "papermill": {
     "duration": 0.573045,
     "end_time": "2022-09-30T13:59:10.382228",
     "exception": false,
     "start_time": "2022-09-30T13:59:09.809183",
     "status": "completed"
    },
    "tags": []
   },
   "outputs": [
    {
     "name": "stdout",
     "output_type": "stream",
     "text": [
      "Best Validation Loss: 0.0422\n",
      "Best Validation Accuracy: 0.9885\n"
     ]
    },
    {
     "data": {
      "image/png": "[encoded data removed]",
      "text/plain": [
       "<Figure size 432x288 with 1 Axes>"
      ]
     },
     "metadata": {
      "needs_background": "light"
     },
     "output_type": "display_data"
    },
    {
     "data": {
      "image/png": "[encoded data removed]",
      "text/plain": [
       "<Figure size 432x288 with 1 Axes>"
      ]
     },
     "metadata": {
      "needs_background": "light"
     },
     "output_type": "display_data"
    }
   ],
   "source": [
    "history_df = pd.DataFrame(history.history)\n",
    "history_df.loc[:, ['loss', 'val_loss']].plot()\n",
    "history_df.loc[:, ['accuracy', 'val_accuracy']].plot()\n",
    "\n",
    "print((\"Best Validation Loss: {:0.4f}\" +\\\n",
    "      \"\\nBest Validation Accuracy: {:0.4f}\")\\\n",
    "      .format(history_df['val_loss'].min(), \n",
    "              history_df['val_accuracy'].max()))"
   ]
  },
  {
   "cell_type": "markdown",
   "id": "3273b3fc",
   "metadata": {
    "papermill": {
     "duration": 0.0852,
     "end_time": "2022-09-30T13:59:10.549929",
     "exception": false,
     "start_time": "2022-09-30T13:59:10.464729",
     "status": "completed"
    },
    "tags": []
   },
   "source": [
    "# Add more images to training dataset to fine tune model"
   ]
  },
  {
   "cell_type": "markdown",
   "id": "1c756ac3",
   "metadata": {
    "papermill": {
     "duration": 0.082976,
     "end_time": "2022-09-30T13:59:10.714351",
     "exception": false,
     "start_time": "2022-09-30T13:59:10.631375",
     "status": "completed"
    },
    "tags": []
   },
   "source": [
    "Convolutional neural network model has a higher training and validation score than the simpler deep neural network model. I will add more images to the training dataset to improve the score further."
   ]
  },
  {
   "cell_type": "code",
   "execution_count": 20,
   "id": "745ba61b",
   "metadata": {
    "execution": {
     "iopub.execute_input": "2022-09-30T13:59:10.889138Z",
     "iopub.status.busy": "2022-09-30T13:59:10.887820Z",
     "iopub.status.idle": "2022-09-30T13:59:10.891325Z",
     "shell.execute_reply": "2022-09-30T13:59:10.890693Z",
     "shell.execute_reply.started": "2022-09-17T22:40:42.564358Z"
    },
    "papermill": {
     "duration": 0.090041,
     "end_time": "2022-09-30T13:59:10.891508",
     "exception": false,
     "start_time": "2022-09-30T13:59:10.801467",
     "status": "completed"
    },
    "tags": []
   },
   "outputs": [],
   "source": [
    "#gen = image.ImageDataGenerator()\n",
    "#gen =ImageDataGenerator(rotation_range=8, width_shift_range=0.08, shear_range=0.3,\n",
    " #                              height_shift_range=0.08, zoom_range=0.08)\n",
    "#batches = gen.flow(X_train_expanded, y_train, batch_size=64)\n",
    "#val_batches = gen.flow(X_valid_expanded, y_valid, batch_size=64)\n",
    "#history=model.fit_generator(generator=batches, steps_per_epoch=batches.n, epochs=1, \n",
    "#                    validation_data=val_batches, validation_steps=val_batches.n)\n"
   ]
  },
  {
   "cell_type": "markdown",
   "id": "73f5fb73",
   "metadata": {
    "papermill": {
     "duration": 0.082142,
     "end_time": "2022-09-30T13:59:11.057262",
     "exception": false,
     "start_time": "2022-09-30T13:59:10.975120",
     "status": "completed"
    },
    "tags": []
   },
   "source": [
    "# Use model to make predictions and submit"
   ]
  },
  {
   "cell_type": "markdown",
   "id": "e2bfd26c",
   "metadata": {
    "papermill": {
     "duration": 0.080926,
     "end_time": "2022-09-30T13:59:11.222069",
     "exception": false,
     "start_time": "2022-09-30T13:59:11.141143",
     "status": "completed"
    },
    "tags": []
   },
   "source": [
    "Calculate predictions."
   ]
  },
  {
   "cell_type": "code",
   "execution_count": 21,
   "id": "9f036c09",
   "metadata": {
    "execution": {
     "iopub.execute_input": "2022-09-30T13:59:11.402953Z",
     "iopub.status.busy": "2022-09-30T13:59:11.401411Z",
     "iopub.status.idle": "2022-09-30T13:59:21.785919Z",
     "shell.execute_reply": "2022-09-30T13:59:21.785272Z",
     "shell.execute_reply.started": "2022-09-17T22:36:07.616577Z"
    },
    "papermill": {
     "duration": 10.480094,
     "end_time": "2022-09-30T13:59:21.786087",
     "exception": false,
     "start_time": "2022-09-30T13:59:11.305993",
     "status": "completed"
    },
    "tags": []
   },
   "outputs": [
    {
     "data": {
      "text/plain": [
       "array([2, 0, 9, ..., 3, 9, 2])"
      ]
     },
     "execution_count": 21,
     "metadata": {},
     "output_type": "execute_result"
    }
   ],
   "source": [
    "#model.predict df has 10 columns, each representing a digit and probability \n",
    "#return digit with highest probability for each row\n",
    "preds = np.argmax(model.predict(test_expanded), axis = 1)\n",
    "preds\n"
   ]
  },
  {
   "cell_type": "markdown",
   "id": "2ee8badb",
   "metadata": {
    "papermill": {
     "duration": 0.078031,
     "end_time": "2022-09-30T13:59:21.947291",
     "exception": false,
     "start_time": "2022-09-30T13:59:21.869260",
     "status": "completed"
    },
    "tags": []
   },
   "source": [
    "View predictions on random sample of nine images to confirm model working as expected."
   ]
  },
  {
   "cell_type": "code",
   "execution_count": 22,
   "id": "d7fb2a3e",
   "metadata": {
    "execution": {
     "iopub.execute_input": "2022-09-30T13:59:22.112458Z",
     "iopub.status.busy": "2022-09-30T13:59:22.111402Z",
     "iopub.status.idle": "2022-09-30T13:59:23.217082Z",
     "shell.execute_reply": "2022-09-30T13:59:23.216460Z",
     "shell.execute_reply.started": "2022-09-17T22:36:22.185063Z"
    },
    "papermill": {
     "duration": 1.191437,
     "end_time": "2022-09-30T13:59:23.217233",
     "exception": false,
     "start_time": "2022-09-30T13:59:22.025796",
     "status": "completed"
    },
    "tags": []
   },
   "outputs": [
    {
     "data": {
      "image/png": "[encoded data removed]",
      "text/plain": [
       "<Figure size 720x864 with 9 Axes>"
      ]
     },
     "metadata": {
      "needs_background": "light"
     },
     "output_type": "display_data"
    }
   ],
   "source": [
    "import random\n",
    "test_pixels = test.to_numpy().reshape(len(test),28,28)\n",
    "plt.figure(figsize=(10,12))\n",
    "for index, row_num in enumerate(random.sample(range(0,len(test)), 9), start=1):\n",
    "    plt.subplot(3,3,index)\n",
    "    #add images to plot\n",
    "    img_data = test_pixels[row_num]\n",
    "    plt.imshow(img_data, cmap='gray')\n",
    "    #add prediction to plot\n",
    "    plt.xlabel('Predicted digit: ' + str(preds[row_num]))\n",
    "\n"
   ]
  },
  {
   "cell_type": "markdown",
   "id": "4e19cbd5",
   "metadata": {
    "papermill": {
     "duration": 0.080718,
     "end_time": "2022-09-30T13:59:23.379743",
     "exception": false,
     "start_time": "2022-09-30T13:59:23.299025",
     "status": "completed"
    },
    "tags": []
   },
   "source": [
    "Output predictions for submission to competition."
   ]
  },
  {
   "cell_type": "code",
   "execution_count": 23,
   "id": "6f1ba7e6",
   "metadata": {
    "execution": {
     "iopub.execute_input": "2022-09-30T13:59:23.547250Z",
     "iopub.status.busy": "2022-09-30T13:59:23.546486Z",
     "iopub.status.idle": "2022-09-30T13:59:23.586741Z",
     "shell.execute_reply": "2022-09-30T13:59:23.585372Z",
     "shell.execute_reply.started": "2022-09-17T22:36:26.644638Z"
    },
    "papermill": {
     "duration": 0.12624,
     "end_time": "2022-09-30T13:59:23.586960",
     "exception": false,
     "start_time": "2022-09-30T13:59:23.460720",
     "status": "completed"
    },
    "tags": []
   },
   "outputs": [
    {
     "name": "stdout",
     "output_type": "stream",
     "text": [
      "Your submission was successfully saved!\n"
     ]
    }
   ],
   "source": [
    "output = pd.DataFrame({'ImageId': test.index+1, 'Label': preds})\n",
    "output.to_csv('submission.csv',index=False)\n",
    "print(\"Your submission was successfully saved!\")"
   ]
  }
 ],
 "metadata": {
  "kernelspec": {
   "display_name": "Python 3",
   "language": "python",
   "name": "python3"
  },
  "language_info": {
   "codemirror_mode": {
    "name": "ipython",
    "version": 3
   },
   "file_extension": ".py",
   "mimetype": "text/x-python",
   "name": "python",
   "nbconvert_exporter": "python",
   "pygments_lexer": "ipython3",
   "version": "3.7.12"
  },
  "papermill": {
   "default_parameters": {},
   "duration": 503.076262,
   "end_time": "2022-09-30T13:59:26.652345",
   "environment_variables": {},
   "exception": null,
   "input_path": "__notebook__.ipynb",
   "output_path": "__notebook__.ipynb",
   "parameters": {},
   "start_time": "2022-09-30T13:51:03.576083",
   "version": "2.3.3"
  }
 },
 "nbformat": 4,
 "nbformat_minor": 5
}
