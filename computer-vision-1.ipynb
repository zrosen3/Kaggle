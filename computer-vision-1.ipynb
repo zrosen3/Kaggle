{
 "cells": [
  {
   "cell_type": "markdown",
   "id": "2a938eef",
   "metadata": {
    "papermill": {
     "duration": 0.041683,
     "end_time": "2022-10-07T15:04:15.553967",
     "exception": false,
     "start_time": "2022-10-07T15:04:15.512284",
     "status": "completed"
    },
    "tags": []
   },
   "source": [
    "# Set up"
   ]
  },
  {
   "cell_type": "code",
   "execution_count": 1,
   "id": "93ba94ae",
   "metadata": {
    "execution": {
     "iopub.execute_input": "2022-10-07T15:04:15.644034Z",
     "iopub.status.busy": "2022-10-07T15:04:15.643118Z",
     "iopub.status.idle": "2022-10-07T15:04:28.947147Z",
     "shell.execute_reply": "2022-10-07T15:04:28.947765Z",
     "shell.execute_reply.started": "2022-09-17T22:03:45.700143Z"
    },
    "papermill": {
     "duration": 13.355499,
     "end_time": "2022-10-07T15:04:28.948238",
     "exception": false,
     "start_time": "2022-10-07T15:04:15.592739",
     "status": "completed"
    },
    "tags": []
   },
   "outputs": [],
   "source": [
    "#load in libraries\n",
    "import tensorflow as tf\n",
    "import numpy as np\n",
    "import matplotlib.pyplot as plt\n",
    "import seaborn as sns\n",
    "from tensorflow import keras\n",
    "from tensorflow.keras import layers\n",
    "import pandas as pd\n",
    "from sklearn.model_selection import train_test_split\n",
    "from keras.layers import Convolution2D, MaxPooling2D\n",
    "from keras.models import Sequential\n",
    "from keras.layers import Dense , Dropout , Lambda, Flatten\n",
    "from keras import  backend as K\n",
    "from keras.preprocessing import image\n",
    "from keras.preprocessing.image import ImageDataGenerator\n",
    "from keras.utils.np_utils import to_categorical # convert to one-hot-encoding\n",
    "\n",
    "\n",
    "#load data files \n",
    "test = pd.read_csv(\"../input/digit-recognizer/test.csv\")\n",
    "train = pd.read_csv(\"../input/digit-recognizer/train.csv\")\n",
    "sample_submission = pd.read_csv(\"../input/digit-recognizer/sample_submission.csv\")"
   ]
  },
  {
   "cell_type": "markdown",
   "id": "e745f993",
   "metadata": {
    "papermill": {
     "duration": 0.037203,
     "end_time": "2022-10-07T15:04:29.023699",
     "exception": false,
     "start_time": "2022-10-07T15:04:28.986496",
     "status": "completed"
    },
    "tags": []
   },
   "source": [
    "Look at structure of each dataset. Pixel intensities are represented as integers from 1 to 255. 1 is the lightest value while 255 is the darkest value. Each image is 28 pixels wide x 28 pixels long = 784 pixels in total. The label value gives the digit which each drawing represents."
   ]
  },
  {
   "cell_type": "code",
   "execution_count": 2,
   "id": "e649216a",
   "metadata": {
    "execution": {
     "iopub.execute_input": "2022-10-07T15:04:29.104003Z",
     "iopub.status.busy": "2022-10-07T15:04:29.103314Z",
     "iopub.status.idle": "2022-10-07T15:04:29.129614Z",
     "shell.execute_reply": "2022-10-07T15:04:29.130159Z",
     "shell.execute_reply.started": "2022-09-17T22:04:35.186267Z"
    },
    "papermill": {
     "duration": 0.067887,
     "end_time": "2022-10-07T15:04:29.130347",
     "exception": false,
     "start_time": "2022-10-07T15:04:29.062460",
     "status": "completed"
    },
    "tags": []
   },
   "outputs": [
    {
     "data": {
      "text/html": [
       "<div>\n",
       "<style scoped>\n",
       "    .dataframe tbody tr th:only-of-type {\n",
       "        vertical-align: middle;\n",
       "    }\n",
       "\n",
       "    .dataframe tbody tr th {\n",
       "        vertical-align: top;\n",
       "    }\n",
       "\n",
       "    .dataframe thead th {\n",
       "        text-align: right;\n",
       "    }\n",
       "</style>\n",
       "<table border=\"1\" class=\"dataframe\">\n",
       "  <thead>\n",
       "    <tr style=\"text-align: right;\">\n",
       "      <th></th>\n",
       "      <th>pixel0</th>\n",
       "      <th>pixel1</th>\n",
       "      <th>pixel2</th>\n",
       "      <th>pixel3</th>\n",
       "      <th>pixel4</th>\n",
       "      <th>pixel5</th>\n",
       "      <th>pixel6</th>\n",
       "      <th>pixel7</th>\n",
       "      <th>pixel8</th>\n",
       "      <th>pixel9</th>\n",
       "      <th>...</th>\n",
       "      <th>pixel774</th>\n",
       "      <th>pixel775</th>\n",
       "      <th>pixel776</th>\n",
       "      <th>pixel777</th>\n",
       "      <th>pixel778</th>\n",
       "      <th>pixel779</th>\n",
       "      <th>pixel780</th>\n",
       "      <th>pixel781</th>\n",
       "      <th>pixel782</th>\n",
       "      <th>pixel783</th>\n",
       "    </tr>\n",
       "  </thead>\n",
       "  <tbody>\n",
       "    <tr>\n",
       "      <th>0</th>\n",
       "      <td>0</td>\n",
       "      <td>0</td>\n",
       "      <td>0</td>\n",
       "      <td>0</td>\n",
       "      <td>0</td>\n",
       "      <td>0</td>\n",
       "      <td>0</td>\n",
       "      <td>0</td>\n",
       "      <td>0</td>\n",
       "      <td>0</td>\n",
       "      <td>...</td>\n",
       "      <td>0</td>\n",
       "      <td>0</td>\n",
       "      <td>0</td>\n",
       "      <td>0</td>\n",
       "      <td>0</td>\n",
       "      <td>0</td>\n",
       "      <td>0</td>\n",
       "      <td>0</td>\n",
       "      <td>0</td>\n",
       "      <td>0</td>\n",
       "    </tr>\n",
       "    <tr>\n",
       "      <th>1</th>\n",
       "      <td>0</td>\n",
       "      <td>0</td>\n",
       "      <td>0</td>\n",
       "      <td>0</td>\n",
       "      <td>0</td>\n",
       "      <td>0</td>\n",
       "      <td>0</td>\n",
       "      <td>0</td>\n",
       "      <td>0</td>\n",
       "      <td>0</td>\n",
       "      <td>...</td>\n",
       "      <td>0</td>\n",
       "      <td>0</td>\n",
       "      <td>0</td>\n",
       "      <td>0</td>\n",
       "      <td>0</td>\n",
       "      <td>0</td>\n",
       "      <td>0</td>\n",
       "      <td>0</td>\n",
       "      <td>0</td>\n",
       "      <td>0</td>\n",
       "    </tr>\n",
       "    <tr>\n",
       "      <th>2</th>\n",
       "      <td>0</td>\n",
       "      <td>0</td>\n",
       "      <td>0</td>\n",
       "      <td>0</td>\n",
       "      <td>0</td>\n",
       "      <td>0</td>\n",
       "      <td>0</td>\n",
       "      <td>0</td>\n",
       "      <td>0</td>\n",
       "      <td>0</td>\n",
       "      <td>...</td>\n",
       "      <td>0</td>\n",
       "      <td>0</td>\n",
       "      <td>0</td>\n",
       "      <td>0</td>\n",
       "      <td>0</td>\n",
       "      <td>0</td>\n",
       "      <td>0</td>\n",
       "      <td>0</td>\n",
       "      <td>0</td>\n",
       "      <td>0</td>\n",
       "    </tr>\n",
       "    <tr>\n",
       "      <th>3</th>\n",
       "      <td>0</td>\n",
       "      <td>0</td>\n",
       "      <td>0</td>\n",
       "      <td>0</td>\n",
       "      <td>0</td>\n",
       "      <td>0</td>\n",
       "      <td>0</td>\n",
       "      <td>0</td>\n",
       "      <td>0</td>\n",
       "      <td>0</td>\n",
       "      <td>...</td>\n",
       "      <td>0</td>\n",
       "      <td>0</td>\n",
       "      <td>0</td>\n",
       "      <td>0</td>\n",
       "      <td>0</td>\n",
       "      <td>0</td>\n",
       "      <td>0</td>\n",
       "      <td>0</td>\n",
       "      <td>0</td>\n",
       "      <td>0</td>\n",
       "    </tr>\n",
       "    <tr>\n",
       "      <th>4</th>\n",
       "      <td>0</td>\n",
       "      <td>0</td>\n",
       "      <td>0</td>\n",
       "      <td>0</td>\n",
       "      <td>0</td>\n",
       "      <td>0</td>\n",
       "      <td>0</td>\n",
       "      <td>0</td>\n",
       "      <td>0</td>\n",
       "      <td>0</td>\n",
       "      <td>...</td>\n",
       "      <td>0</td>\n",
       "      <td>0</td>\n",
       "      <td>0</td>\n",
       "      <td>0</td>\n",
       "      <td>0</td>\n",
       "      <td>0</td>\n",
       "      <td>0</td>\n",
       "      <td>0</td>\n",
       "      <td>0</td>\n",
       "      <td>0</td>\n",
       "    </tr>\n",
       "  </tbody>\n",
       "</table>\n",
       "<p>5 rows × 784 columns</p>\n",
       "</div>"
      ],
      "text/plain": [
       "   pixel0  pixel1  pixel2  pixel3  pixel4  pixel5  pixel6  pixel7  pixel8  \\\n",
       "0       0       0       0       0       0       0       0       0       0   \n",
       "1       0       0       0       0       0       0       0       0       0   \n",
       "2       0       0       0       0       0       0       0       0       0   \n",
       "3       0       0       0       0       0       0       0       0       0   \n",
       "4       0       0       0       0       0       0       0       0       0   \n",
       "\n",
       "   pixel9  ...  pixel774  pixel775  pixel776  pixel777  pixel778  pixel779  \\\n",
       "0       0  ...         0         0         0         0         0         0   \n",
       "1       0  ...         0         0         0         0         0         0   \n",
       "2       0  ...         0         0         0         0         0         0   \n",
       "3       0  ...         0         0         0         0         0         0   \n",
       "4       0  ...         0         0         0         0         0         0   \n",
       "\n",
       "   pixel780  pixel781  pixel782  pixel783  \n",
       "0         0         0         0         0  \n",
       "1         0         0         0         0  \n",
       "2         0         0         0         0  \n",
       "3         0         0         0         0  \n",
       "4         0         0         0         0  \n",
       "\n",
       "[5 rows x 784 columns]"
      ]
     },
     "execution_count": 2,
     "metadata": {},
     "output_type": "execute_result"
    }
   ],
   "source": [
    "test.head()"
   ]
  },
  {
   "cell_type": "code",
   "execution_count": 3,
   "id": "aa41c5f5",
   "metadata": {
    "execution": {
     "iopub.execute_input": "2022-10-07T15:04:29.213710Z",
     "iopub.status.busy": "2022-10-07T15:04:29.212979Z",
     "iopub.status.idle": "2022-10-07T15:04:29.229359Z",
     "shell.execute_reply": "2022-10-07T15:04:29.229899Z",
     "shell.execute_reply.started": "2022-09-17T22:04:37.457677Z"
    },
    "papermill": {
     "duration": 0.058795,
     "end_time": "2022-10-07T15:04:29.230095",
     "exception": false,
     "start_time": "2022-10-07T15:04:29.171300",
     "status": "completed"
    },
    "tags": []
   },
   "outputs": [
    {
     "data": {
      "text/html": [
       "<div>\n",
       "<style scoped>\n",
       "    .dataframe tbody tr th:only-of-type {\n",
       "        vertical-align: middle;\n",
       "    }\n",
       "\n",
       "    .dataframe tbody tr th {\n",
       "        vertical-align: top;\n",
       "    }\n",
       "\n",
       "    .dataframe thead th {\n",
       "        text-align: right;\n",
       "    }\n",
       "</style>\n",
       "<table border=\"1\" class=\"dataframe\">\n",
       "  <thead>\n",
       "    <tr style=\"text-align: right;\">\n",
       "      <th></th>\n",
       "      <th>label</th>\n",
       "      <th>pixel0</th>\n",
       "      <th>pixel1</th>\n",
       "      <th>pixel2</th>\n",
       "      <th>pixel3</th>\n",
       "      <th>pixel4</th>\n",
       "      <th>pixel5</th>\n",
       "      <th>pixel6</th>\n",
       "      <th>pixel7</th>\n",
       "      <th>pixel8</th>\n",
       "      <th>...</th>\n",
       "      <th>pixel774</th>\n",
       "      <th>pixel775</th>\n",
       "      <th>pixel776</th>\n",
       "      <th>pixel777</th>\n",
       "      <th>pixel778</th>\n",
       "      <th>pixel779</th>\n",
       "      <th>pixel780</th>\n",
       "      <th>pixel781</th>\n",
       "      <th>pixel782</th>\n",
       "      <th>pixel783</th>\n",
       "    </tr>\n",
       "  </thead>\n",
       "  <tbody>\n",
       "    <tr>\n",
       "      <th>0</th>\n",
       "      <td>1</td>\n",
       "      <td>0</td>\n",
       "      <td>0</td>\n",
       "      <td>0</td>\n",
       "      <td>0</td>\n",
       "      <td>0</td>\n",
       "      <td>0</td>\n",
       "      <td>0</td>\n",
       "      <td>0</td>\n",
       "      <td>0</td>\n",
       "      <td>...</td>\n",
       "      <td>0</td>\n",
       "      <td>0</td>\n",
       "      <td>0</td>\n",
       "      <td>0</td>\n",
       "      <td>0</td>\n",
       "      <td>0</td>\n",
       "      <td>0</td>\n",
       "      <td>0</td>\n",
       "      <td>0</td>\n",
       "      <td>0</td>\n",
       "    </tr>\n",
       "    <tr>\n",
       "      <th>1</th>\n",
       "      <td>0</td>\n",
       "      <td>0</td>\n",
       "      <td>0</td>\n",
       "      <td>0</td>\n",
       "      <td>0</td>\n",
       "      <td>0</td>\n",
       "      <td>0</td>\n",
       "      <td>0</td>\n",
       "      <td>0</td>\n",
       "      <td>0</td>\n",
       "      <td>...</td>\n",
       "      <td>0</td>\n",
       "      <td>0</td>\n",
       "      <td>0</td>\n",
       "      <td>0</td>\n",
       "      <td>0</td>\n",
       "      <td>0</td>\n",
       "      <td>0</td>\n",
       "      <td>0</td>\n",
       "      <td>0</td>\n",
       "      <td>0</td>\n",
       "    </tr>\n",
       "    <tr>\n",
       "      <th>2</th>\n",
       "      <td>1</td>\n",
       "      <td>0</td>\n",
       "      <td>0</td>\n",
       "      <td>0</td>\n",
       "      <td>0</td>\n",
       "      <td>0</td>\n",
       "      <td>0</td>\n",
       "      <td>0</td>\n",
       "      <td>0</td>\n",
       "      <td>0</td>\n",
       "      <td>...</td>\n",
       "      <td>0</td>\n",
       "      <td>0</td>\n",
       "      <td>0</td>\n",
       "      <td>0</td>\n",
       "      <td>0</td>\n",
       "      <td>0</td>\n",
       "      <td>0</td>\n",
       "      <td>0</td>\n",
       "      <td>0</td>\n",
       "      <td>0</td>\n",
       "    </tr>\n",
       "    <tr>\n",
       "      <th>3</th>\n",
       "      <td>4</td>\n",
       "      <td>0</td>\n",
       "      <td>0</td>\n",
       "      <td>0</td>\n",
       "      <td>0</td>\n",
       "      <td>0</td>\n",
       "      <td>0</td>\n",
       "      <td>0</td>\n",
       "      <td>0</td>\n",
       "      <td>0</td>\n",
       "      <td>...</td>\n",
       "      <td>0</td>\n",
       "      <td>0</td>\n",
       "      <td>0</td>\n",
       "      <td>0</td>\n",
       "      <td>0</td>\n",
       "      <td>0</td>\n",
       "      <td>0</td>\n",
       "      <td>0</td>\n",
       "      <td>0</td>\n",
       "      <td>0</td>\n",
       "    </tr>\n",
       "    <tr>\n",
       "      <th>4</th>\n",
       "      <td>0</td>\n",
       "      <td>0</td>\n",
       "      <td>0</td>\n",
       "      <td>0</td>\n",
       "      <td>0</td>\n",
       "      <td>0</td>\n",
       "      <td>0</td>\n",
       "      <td>0</td>\n",
       "      <td>0</td>\n",
       "      <td>0</td>\n",
       "      <td>...</td>\n",
       "      <td>0</td>\n",
       "      <td>0</td>\n",
       "      <td>0</td>\n",
       "      <td>0</td>\n",
       "      <td>0</td>\n",
       "      <td>0</td>\n",
       "      <td>0</td>\n",
       "      <td>0</td>\n",
       "      <td>0</td>\n",
       "      <td>0</td>\n",
       "    </tr>\n",
       "  </tbody>\n",
       "</table>\n",
       "<p>5 rows × 785 columns</p>\n",
       "</div>"
      ],
      "text/plain": [
       "   label  pixel0  pixel1  pixel2  pixel3  pixel4  pixel5  pixel6  pixel7  \\\n",
       "0      1       0       0       0       0       0       0       0       0   \n",
       "1      0       0       0       0       0       0       0       0       0   \n",
       "2      1       0       0       0       0       0       0       0       0   \n",
       "3      4       0       0       0       0       0       0       0       0   \n",
       "4      0       0       0       0       0       0       0       0       0   \n",
       "\n",
       "   pixel8  ...  pixel774  pixel775  pixel776  pixel777  pixel778  pixel779  \\\n",
       "0       0  ...         0         0         0         0         0         0   \n",
       "1       0  ...         0         0         0         0         0         0   \n",
       "2       0  ...         0         0         0         0         0         0   \n",
       "3       0  ...         0         0         0         0         0         0   \n",
       "4       0  ...         0         0         0         0         0         0   \n",
       "\n",
       "   pixel780  pixel781  pixel782  pixel783  \n",
       "0         0         0         0         0  \n",
       "1         0         0         0         0  \n",
       "2         0         0         0         0  \n",
       "3         0         0         0         0  \n",
       "4         0         0         0         0  \n",
       "\n",
       "[5 rows x 785 columns]"
      ]
     },
     "execution_count": 3,
     "metadata": {},
     "output_type": "execute_result"
    }
   ],
   "source": [
    "train.head()"
   ]
  },
  {
   "cell_type": "code",
   "execution_count": 4,
   "id": "cc329a83",
   "metadata": {
    "execution": {
     "iopub.execute_input": "2022-10-07T15:04:29.312361Z",
     "iopub.status.busy": "2022-10-07T15:04:29.311630Z",
     "iopub.status.idle": "2022-10-07T15:04:29.320631Z",
     "shell.execute_reply": "2022-10-07T15:04:29.319951Z",
     "shell.execute_reply.started": "2022-09-17T22:04:39.622415Z"
    },
    "papermill": {
     "duration": 0.051502,
     "end_time": "2022-10-07T15:04:29.320782",
     "exception": false,
     "start_time": "2022-10-07T15:04:29.269280",
     "status": "completed"
    },
    "tags": []
   },
   "outputs": [
    {
     "data": {
      "text/html": [
       "<div>\n",
       "<style scoped>\n",
       "    .dataframe tbody tr th:only-of-type {\n",
       "        vertical-align: middle;\n",
       "    }\n",
       "\n",
       "    .dataframe tbody tr th {\n",
       "        vertical-align: top;\n",
       "    }\n",
       "\n",
       "    .dataframe thead th {\n",
       "        text-align: right;\n",
       "    }\n",
       "</style>\n",
       "<table border=\"1\" class=\"dataframe\">\n",
       "  <thead>\n",
       "    <tr style=\"text-align: right;\">\n",
       "      <th></th>\n",
       "      <th>ImageId</th>\n",
       "      <th>Label</th>\n",
       "    </tr>\n",
       "  </thead>\n",
       "  <tbody>\n",
       "    <tr>\n",
       "      <th>0</th>\n",
       "      <td>1</td>\n",
       "      <td>0</td>\n",
       "    </tr>\n",
       "    <tr>\n",
       "      <th>1</th>\n",
       "      <td>2</td>\n",
       "      <td>0</td>\n",
       "    </tr>\n",
       "    <tr>\n",
       "      <th>2</th>\n",
       "      <td>3</td>\n",
       "      <td>0</td>\n",
       "    </tr>\n",
       "    <tr>\n",
       "      <th>3</th>\n",
       "      <td>4</td>\n",
       "      <td>0</td>\n",
       "    </tr>\n",
       "    <tr>\n",
       "      <th>4</th>\n",
       "      <td>5</td>\n",
       "      <td>0</td>\n",
       "    </tr>\n",
       "  </tbody>\n",
       "</table>\n",
       "</div>"
      ],
      "text/plain": [
       "   ImageId  Label\n",
       "0        1      0\n",
       "1        2      0\n",
       "2        3      0\n",
       "3        4      0\n",
       "4        5      0"
      ]
     },
     "execution_count": 4,
     "metadata": {},
     "output_type": "execute_result"
    }
   ],
   "source": [
    "sample_submission.head()"
   ]
  },
  {
   "cell_type": "markdown",
   "id": "7212cdbb",
   "metadata": {
    "papermill": {
     "duration": 0.038966,
     "end_time": "2022-10-07T15:04:29.399307",
     "exception": false,
     "start_time": "2022-10-07T15:04:29.360341",
     "status": "completed"
    },
    "tags": []
   },
   "source": [
    "# Data visualization"
   ]
  },
  {
   "cell_type": "markdown",
   "id": "65d2947b",
   "metadata": {
    "papermill": {
     "duration": 0.038904,
     "end_time": "2022-10-07T15:04:29.477542",
     "exception": false,
     "start_time": "2022-10-07T15:04:29.438638",
     "status": "completed"
    },
    "tags": []
   },
   "source": [
    "Visualize data. Plot a sample of every digit."
   ]
  },
  {
   "cell_type": "code",
   "execution_count": 5,
   "id": "4bbacd55",
   "metadata": {
    "execution": {
     "iopub.execute_input": "2022-10-07T15:04:29.567128Z",
     "iopub.status.busy": "2022-10-07T15:04:29.566358Z",
     "iopub.status.idle": "2022-10-07T15:04:30.830387Z",
     "shell.execute_reply": "2022-10-07T15:04:30.830926Z",
     "shell.execute_reply.started": "2022-09-17T22:04:41.930058Z"
    },
    "papermill": {
     "duration": 1.314288,
     "end_time": "2022-10-07T15:04:30.831142",
     "exception": false,
     "start_time": "2022-10-07T15:04:29.516854",
     "status": "completed"
    },
    "tags": []
   },
   "outputs": [
    {
     "data": {
      "image/png": "[encoded data removed]",
      "text/plain": [
       "<Figure size 1080x504 with 10 Axes>"
      ]
     },
     "metadata": {
      "needs_background": "light"
     },
     "output_type": "display_data"
    }
   ],
   "source": [
    "train_pixels = train.drop(columns=['label'],axis=1).to_numpy().reshape(-1,28,28)\n",
    "train_pixels.shape\n",
    "\n",
    "plt.figure(figsize=(15,7))\n",
    "for digit in range(0, 10):\n",
    "    #find first indice where training data equals digit\n",
    "     index = np.where(train['label'] == digit)[0][0]\n",
    "     plt.subplot(2,5,digit + 1)\n",
    "     plt.title(digit)\n",
    "     plt.imshow(train_pixels[index], cmap='gray')"
   ]
  },
  {
   "cell_type": "markdown",
   "id": "992911d2",
   "metadata": {
    "papermill": {
     "duration": 0.040632,
     "end_time": "2022-10-07T15:04:30.912698",
     "exception": false,
     "start_time": "2022-10-07T15:04:30.872066",
     "status": "completed"
    },
    "tags": []
   },
   "source": [
    "Look at distribution of digits in dataset. "
   ]
  },
  {
   "cell_type": "code",
   "execution_count": 6,
   "id": "82c15d64",
   "metadata": {
    "execution": {
     "iopub.execute_input": "2022-10-07T15:04:31.000325Z",
     "iopub.status.busy": "2022-10-07T15:04:30.999540Z",
     "iopub.status.idle": "2022-10-07T15:04:31.226318Z",
     "shell.execute_reply": "2022-10-07T15:04:31.225730Z",
     "shell.execute_reply.started": "2022-09-17T22:04:51.394901Z"
    },
    "papermill": {
     "duration": 0.27266,
     "end_time": "2022-10-07T15:04:31.226475",
     "exception": false,
     "start_time": "2022-10-07T15:04:30.953815",
     "status": "completed"
    },
    "tags": []
   },
   "outputs": [
    {
     "data": {
      "text/plain": [
       "[Text(0.5, 1.0, 'Digit counts'), Text(0.5, 0, 'Digit'), Text(0, 0.5, 'Count')]"
      ]
     },
     "execution_count": 6,
     "metadata": {},
     "output_type": "execute_result"
    },
    {
     "data": {
      "image/png": "[encoded data removed]",
      "text/plain": [
       "<Figure size 432x288 with 1 Axes>"
      ]
     },
     "metadata": {
      "needs_background": "light"
     },
     "output_type": "display_data"
    }
   ],
   "source": [
    "sns.countplot(x = train[\"label\"]).set(title = \"Digit counts\", xlabel = \"Digit\", ylabel = \"Count\")\n"
   ]
  },
  {
   "cell_type": "markdown",
   "id": "331608e0",
   "metadata": {
    "papermill": {
     "duration": 0.041152,
     "end_time": "2022-10-07T15:04:31.309747",
     "exception": false,
     "start_time": "2022-10-07T15:04:31.268595",
     "status": "completed"
    },
    "tags": []
   },
   "source": [
    "Training dataset seems to be fairly balanced between digits, though 1 is the most common digit."
   ]
  },
  {
   "cell_type": "markdown",
   "id": "867b20c7",
   "metadata": {
    "papermill": {
     "duration": 0.041187,
     "end_time": "2022-10-07T15:04:31.392641",
     "exception": false,
     "start_time": "2022-10-07T15:04:31.351454",
     "status": "completed"
    },
    "tags": []
   },
   "source": [
    "# Data preparation"
   ]
  },
  {
   "cell_type": "markdown",
   "id": "5dcc219c",
   "metadata": {
    "papermill": {
     "duration": 0.040747,
     "end_time": "2022-10-07T15:04:31.474721",
     "exception": false,
     "start_time": "2022-10-07T15:04:31.433974",
     "status": "completed"
    },
    "tags": []
   },
   "source": [
    "This dataset appears to be very clean and leads minimal processing. It would be helpful to normalize each pixel value to 0-1 before running neural network model. Currently, each pixel value ranges from 0 to 255 so an divide by 255. Use float type to convert values to float."
   ]
  },
  {
   "cell_type": "code",
   "execution_count": 7,
   "id": "3ef9ba30",
   "metadata": {
    "execution": {
     "iopub.execute_input": "2022-10-07T15:04:31.566150Z",
     "iopub.status.busy": "2022-10-07T15:04:31.564730Z",
     "iopub.status.idle": "2022-10-07T15:05:03.518446Z",
     "shell.execute_reply": "2022-10-07T15:05:03.518968Z",
     "shell.execute_reply.started": "2022-09-17T22:04:54.260415Z"
    },
    "papermill": {
     "duration": 32.003215,
     "end_time": "2022-10-07T15:05:03.519196",
     "exception": false,
     "start_time": "2022-10-07T15:04:31.515981",
     "status": "completed"
    },
    "tags": []
   },
   "outputs": [],
   "source": [
    "train_normalized = train.copy()\n",
    "pixel_cols = train_normalized.drop('label', axis =1).columns\n",
    "train_normalized[pixel_cols] = train_normalized[pixel_cols].apply(lambda x: x/255.0)\n",
    "test_normalized = test/255.0"
   ]
  },
  {
   "cell_type": "markdown",
   "id": "48460b82",
   "metadata": {
    "papermill": {
     "duration": 0.041967,
     "end_time": "2022-10-07T15:05:03.604095",
     "exception": false,
     "start_time": "2022-10-07T15:05:03.562128",
     "status": "completed"
    },
    "tags": []
   },
   "source": [
    "Split training data into training and validation sets. Put 75% of data into training set, 25% in validation. Make sure the proportion of digits is the same in training and validation sets."
   ]
  },
  {
   "cell_type": "code",
   "execution_count": 8,
   "id": "5a344b1a",
   "metadata": {
    "execution": {
     "iopub.execute_input": "2022-10-07T15:05:03.694989Z",
     "iopub.status.busy": "2022-10-07T15:05:03.692956Z",
     "iopub.status.idle": "2022-10-07T15:05:04.337718Z",
     "shell.execute_reply": "2022-10-07T15:05:04.338364Z",
     "shell.execute_reply.started": "2022-09-17T22:07:43.965871Z"
    },
    "papermill": {
     "duration": 0.692987,
     "end_time": "2022-10-07T15:05:04.338573",
     "exception": false,
     "start_time": "2022-10-07T15:05:03.645586",
     "status": "completed"
    },
    "tags": []
   },
   "outputs": [],
   "source": [
    "X = train_normalized.copy()\n",
    "y = X.pop('label') #take out label from X, move to y\n",
    "X_train, X_valid, y_train, y_valid = train_test_split(X, y, stratify=y, train_size=0.75)"
   ]
  },
  {
   "cell_type": "markdown",
   "id": "2e921045",
   "metadata": {
    "papermill": {
     "duration": 0.042151,
     "end_time": "2022-10-07T15:05:04.423186",
     "exception": false,
     "start_time": "2022-10-07T15:05:04.381035",
     "status": "completed"
    },
    "tags": []
   },
   "source": [
    "# Modelling"
   ]
  },
  {
   "cell_type": "markdown",
   "id": "78c9b272",
   "metadata": {
    "papermill": {
     "duration": 0.041828,
     "end_time": "2022-10-07T15:05:04.508015",
     "exception": false,
     "start_time": "2022-10-07T15:05:04.466187",
     "status": "completed"
    },
    "tags": []
   },
   "source": [
    "Initialize deep neural network model. Input shape is 784 since since 784 pixel variables. Use batch normalization function to standardize data going into each activation function. Large amount of data so use 100 neurons for middle two layers in network. Use softmax activation function to convert output to probabilities of image being of each digit. Add early stopping functino to prevent overfitting."
   ]
  },
  {
   "cell_type": "code",
   "execution_count": 9,
   "id": "cf28ea1d",
   "metadata": {
    "execution": {
     "iopub.execute_input": "2022-10-07T15:05:04.602009Z",
     "iopub.status.busy": "2022-10-07T15:05:04.601221Z",
     "iopub.status.idle": "2022-10-07T15:05:04.779026Z",
     "shell.execute_reply": "2022-10-07T15:05:04.779682Z",
     "shell.execute_reply.started": "2022-09-17T22:08:04.283041Z"
    },
    "papermill": {
     "duration": 0.229452,
     "end_time": "2022-10-07T15:05:04.779896",
     "exception": false,
     "start_time": "2022-10-07T15:05:04.550444",
     "status": "completed"
    },
    "tags": []
   },
   "outputs": [
    {
     "name": "stderr",
     "output_type": "stream",
     "text": [
      "2022-10-07 15:05:04.649934: I tensorflow/core/common_runtime/process_util.cc:146] Creating new thread pool with default inter op setting: 2. Tune using inter_op_parallelism_threads for best performance.\n"
     ]
    }
   ],
   "source": [
    "model = keras.Sequential([\n",
    "    layers.Dense(784, activation='relu', input_shape=[784]),\n",
    "    layers.BatchNormalization(),\n",
    "    layers.Dense(512, activation='relu'),\n",
    "    layers.BatchNormalization(),\n",
    "    layers.Dense(10, activation='softmax'),\n",
    "])\n",
    "#use standard adam optimizer, sparse categorical cross entropy to measure loss, accuracy as metric\n",
    "model.compile(\n",
    "    optimizer='adam',\n",
    "    loss='sparse_categorical_crossentropy',\n",
    "    metrics=['accuracy'],\n",
    ")\n",
    "\n",
    "#early stopping function, to make sure function does not overfit\n",
    "early_stopping = keras.callbacks.EarlyStopping(\n",
    "    patience=10,\n",
    "    restore_best_weights=True,\n",
    ")"
   ]
  },
  {
   "cell_type": "markdown",
   "id": "2106e6e8",
   "metadata": {
    "papermill": {
     "duration": 0.0473,
     "end_time": "2022-10-07T15:05:04.875329",
     "exception": false,
     "start_time": "2022-10-07T15:05:04.828029",
     "status": "completed"
    },
    "tags": []
   },
   "source": [
    "Print out model summary."
   ]
  },
  {
   "cell_type": "code",
   "execution_count": 10,
   "id": "d28f8fc5",
   "metadata": {
    "execution": {
     "iopub.execute_input": "2022-10-07T15:05:04.974942Z",
     "iopub.status.busy": "2022-10-07T15:05:04.972803Z",
     "iopub.status.idle": "2022-10-07T15:05:04.982755Z",
     "shell.execute_reply": "2022-10-07T15:05:04.981970Z",
     "shell.execute_reply.started": "2022-09-17T22:08:09.153721Z"
    },
    "papermill": {
     "duration": 0.060978,
     "end_time": "2022-10-07T15:05:04.982959",
     "exception": false,
     "start_time": "2022-10-07T15:05:04.921981",
     "status": "completed"
    },
    "tags": []
   },
   "outputs": [
    {
     "name": "stdout",
     "output_type": "stream",
     "text": [
      "Model: \"sequential\"\n",
      "_________________________________________________________________\n",
      "Layer (type)                 Output Shape              Param #   \n",
      "=================================================================\n",
      "dense (Dense)                (None, 784)               615440    \n",
      "_________________________________________________________________\n",
      "batch_normalization (BatchNo (None, 784)               3136      \n",
      "_________________________________________________________________\n",
      "dense_1 (Dense)              (None, 512)               401920    \n",
      "_________________________________________________________________\n",
      "batch_normalization_1 (Batch (None, 512)               2048      \n",
      "_________________________________________________________________\n",
      "dense_2 (Dense)              (None, 10)                5130      \n",
      "=================================================================\n",
      "Total params: 1,027,674\n",
      "Trainable params: 1,025,082\n",
      "Non-trainable params: 2,592\n",
      "_________________________________________________________________\n"
     ]
    }
   ],
   "source": [
    "model.summary()"
   ]
  },
  {
   "cell_type": "markdown",
   "id": "d305dd09",
   "metadata": {
    "papermill": {
     "duration": 0.048908,
     "end_time": "2022-10-07T15:05:05.079909",
     "exception": false,
     "start_time": "2022-10-07T15:05:05.031001",
     "status": "completed"
    },
    "tags": []
   },
   "source": [
    "Fit model to digits data. Use large batch size and epochs values, but incldue early stopping to avoid overfitting."
   ]
  },
  {
   "cell_type": "code",
   "execution_count": 11,
   "id": "e9adfed5",
   "metadata": {
    "execution": {
     "iopub.execute_input": "2022-10-07T15:05:05.182706Z",
     "iopub.status.busy": "2022-10-07T15:05:05.181863Z",
     "iopub.status.idle": "2022-10-07T15:07:10.186217Z",
     "shell.execute_reply": "2022-10-07T15:07:10.186988Z",
     "shell.execute_reply.started": "2022-09-17T22:08:13.473606Z"
    },
    "papermill": {
     "duration": 125.058492,
     "end_time": "2022-10-07T15:07:10.187547",
     "exception": false,
     "start_time": "2022-10-07T15:05:05.129055",
     "status": "completed"
    },
    "tags": []
   },
   "outputs": [
    {
     "name": "stderr",
     "output_type": "stream",
     "text": [
      "2022-10-07 15:05:06.021309: I tensorflow/compiler/mlir/mlir_graph_optimization_pass.cc:185] None of the MLIR Optimization Passes are enabled (registered 2)\n"
     ]
    }
   ],
   "source": [
    "history = model.fit(\n",
    "    X_train, y_train,\n",
    "    validation_data=(X_valid, y_valid),\n",
    "    callbacks = [early_stopping],\n",
    "    epochs=100,\n",
    "    verbose=0,\n",
    ")"
   ]
  },
  {
   "cell_type": "markdown",
   "id": "a61bb745",
   "metadata": {
    "papermill": {
     "duration": 0.042174,
     "end_time": "2022-10-07T15:07:10.276822",
     "exception": false,
     "start_time": "2022-10-07T15:07:10.234648",
     "status": "completed"
    },
    "tags": []
   },
   "source": [
    "Calculate evaluation statistics to measure model performance."
   ]
  },
  {
   "cell_type": "code",
   "execution_count": 12,
   "id": "eab87646",
   "metadata": {
    "execution": {
     "iopub.execute_input": "2022-10-07T15:07:10.366695Z",
     "iopub.status.busy": "2022-10-07T15:07:10.365778Z",
     "iopub.status.idle": "2022-10-07T15:07:29.976918Z",
     "shell.execute_reply": "2022-10-07T15:07:29.975875Z",
     "shell.execute_reply.started": "2022-09-17T22:11:29.117096Z"
    },
    "papermill": {
     "duration": 19.657538,
     "end_time": "2022-10-07T15:07:29.977111",
     "exception": false,
     "start_time": "2022-10-07T15:07:10.319573",
     "status": "completed"
    },
    "tags": []
   },
   "outputs": [
    {
     "name": "stdout",
     "output_type": "stream",
     "text": [
      "329/329 [==============================] - 1s 2ms/step - loss: 0.0879 - accuracy: 0.9749\n"
     ]
    },
    {
     "data": {
      "text/plain": [
       "[0.08789695054292679, 0.9748571515083313]"
      ]
     },
     "execution_count": 12,
     "metadata": {},
     "output_type": "execute_result"
    }
   ],
   "source": [
    "model.evaluate(X_valid, y_valid)"
   ]
  },
  {
   "cell_type": "markdown",
   "id": "06581602",
   "metadata": {
    "papermill": {
     "duration": 0.050943,
     "end_time": "2022-10-07T15:07:30.079228",
     "exception": false,
     "start_time": "2022-10-07T15:07:30.028285",
     "status": "completed"
    },
    "tags": []
   },
   "source": [
    "Look at learning curves for model prediction."
   ]
  },
  {
   "cell_type": "code",
   "execution_count": 13,
   "id": "b3f66d6f",
   "metadata": {
    "execution": {
     "iopub.execute_input": "2022-10-07T15:07:30.181659Z",
     "iopub.status.busy": "2022-10-07T15:07:30.180939Z",
     "iopub.status.idle": "2022-10-07T15:07:30.652954Z",
     "shell.execute_reply": "2022-10-07T15:07:30.652174Z",
     "shell.execute_reply.started": "2022-09-17T22:11:34.116623Z"
    },
    "papermill": {
     "duration": 0.524599,
     "end_time": "2022-10-07T15:07:30.653489",
     "exception": false,
     "start_time": "2022-10-07T15:07:30.128890",
     "status": "completed"
    },
    "tags": []
   },
   "outputs": [
    {
     "name": "stdout",
     "output_type": "stream",
     "text": [
      "Best Validation Loss: 0.0879\n",
      "Best Validation Accuracy: 0.9788\n"
     ]
    },
    {
     "data": {
      "image/png": "[encoded data removed]",
      "text/plain": [
       "<Figure size 432x288 with 1 Axes>"
      ]
     },
     "metadata": {
      "needs_background": "light"
     },
     "output_type": "display_data"
    },
    {
     "data": {
      "image/png": "[encoded data removed]",
      "text/plain": [
       "<Figure size 432x288 with 1 Axes>"
      ]
     },
     "metadata": {
      "needs_background": "light"
     },
     "output_type": "display_data"
    }
   ],
   "source": [
    "history_df = pd.DataFrame(history.history)\n",
    "# Start the plot at epoch 5\n",
    "history_df.loc[:, ['loss', 'val_loss']].plot()\n",
    "history_df.loc[:, ['accuracy', 'val_accuracy']].plot()\n",
    "\n",
    "print((\"Best Validation Loss: {:0.4f}\" +\\\n",
    "      \"\\nBest Validation Accuracy: {:0.4f}\")\\\n",
    "      .format(history_df['val_loss'].min(), \n",
    "              history_df['val_accuracy'].max()))"
   ]
  },
  {
   "cell_type": "markdown",
   "id": "c9751178",
   "metadata": {
    "papermill": {
     "duration": 0.052065,
     "end_time": "2022-10-07T15:07:30.757968",
     "exception": false,
     "start_time": "2022-10-07T15:07:30.705903",
     "status": "completed"
    },
    "tags": []
   },
   "source": [
    "Validation loss and accuracy seem to be getting better over time, but slowly. Try adding more patience to early stopping."
   ]
  },
  {
   "cell_type": "code",
   "execution_count": 14,
   "id": "2ee01aba",
   "metadata": {
    "execution": {
     "iopub.execute_input": "2022-10-07T15:07:30.870581Z",
     "iopub.status.busy": "2022-10-07T15:07:30.866690Z",
     "iopub.status.idle": "2022-10-07T15:11:56.970390Z",
     "shell.execute_reply": "2022-10-07T15:11:56.971089Z"
    },
    "papermill": {
     "duration": 266.16105,
     "end_time": "2022-10-07T15:11:56.971397",
     "exception": false,
     "start_time": "2022-10-07T15:07:30.810347",
     "status": "completed"
    },
    "tags": []
   },
   "outputs": [
    {
     "name": "stdout",
     "output_type": "stream",
     "text": [
      "329/329 [==============================] - 1s 2ms/step - loss: 0.0927 - accuracy: 0.9802\n"
     ]
    },
    {
     "data": {
      "text/plain": [
       "[0.09267495572566986, 0.9801904559135437]"
      ]
     },
     "execution_count": 14,
     "metadata": {},
     "output_type": "execute_result"
    }
   ],
   "source": [
    "early_stopping = keras.callbacks.EarlyStopping(\n",
    "    patience=30,\n",
    "    restore_best_weights=True,\n",
    ")\n",
    "\n",
    "history = model.fit(\n",
    "    X_train, y_train,\n",
    "    validation_data=(X_valid, y_valid),\n",
    "    epochs=100,\n",
    "    verbose=0,\n",
    "    callbacks = [early_stopping]\n",
    ")\n",
    "model.evaluate(X_valid, y_valid)"
   ]
  },
  {
   "cell_type": "markdown",
   "id": "c53fe918",
   "metadata": {
    "papermill": {
     "duration": 0.059618,
     "end_time": "2022-10-07T15:11:57.089911",
     "exception": false,
     "start_time": "2022-10-07T15:11:57.030293",
     "status": "completed"
    },
    "tags": []
   },
   "source": [
    "Look at learning curves again to see if there has been any improvement."
   ]
  },
  {
   "cell_type": "code",
   "execution_count": 15,
   "id": "d5798cb9",
   "metadata": {
    "execution": {
     "iopub.execute_input": "2022-10-07T15:11:57.245169Z",
     "iopub.status.busy": "2022-10-07T15:11:57.232782Z",
     "iopub.status.idle": "2022-10-07T15:11:57.650812Z",
     "shell.execute_reply": "2022-10-07T15:11:57.651347Z"
    },
    "papermill": {
     "duration": 0.503273,
     "end_time": "2022-10-07T15:11:57.651544",
     "exception": false,
     "start_time": "2022-10-07T15:11:57.148271",
     "status": "completed"
    },
    "tags": []
   },
   "outputs": [
    {
     "name": "stdout",
     "output_type": "stream",
     "text": [
      "Best Validation Loss: 0.0927\n",
      "Best Validation Accuracy: 0.9816\n"
     ]
    },
    {
     "data": {
      "image/png": "[encoded data removed]",
      "text/plain": [
       "<Figure size 432x288 with 1 Axes>"
      ]
     },
     "metadata": {
      "needs_background": "light"
     },
     "output_type": "display_data"
    },
    {
     "data": {
      "image/png": "[encoded data removed]",
      "text/plain": [
       "<Figure size 432x288 with 1 Axes>"
      ]
     },
     "metadata": {
      "needs_background": "light"
     },
     "output_type": "display_data"
    }
   ],
   "source": [
    "history_df = pd.DataFrame(history.history)\n",
    "# Start the plot at epoch 5\n",
    "history_df.loc[:, ['loss', 'val_loss']].plot()\n",
    "history_df.loc[:, ['accuracy', 'val_accuracy']].plot()\n",
    "\n",
    "print((\"Best Validation Loss: {:0.4f}\" +\\\n",
    "      \"\\nBest Validation Accuracy: {:0.4f}\")\\\n",
    "      .format(history_df['val_loss'].min(), \n",
    "              history_df['val_accuracy'].max()))"
   ]
  },
  {
   "cell_type": "markdown",
   "id": "6920b962",
   "metadata": {
    "papermill": {
     "duration": 0.062384,
     "end_time": "2022-10-07T15:11:57.776973",
     "exception": false,
     "start_time": "2022-10-07T15:11:57.714589",
     "status": "completed"
    },
    "tags": []
   },
   "source": [
    "# CNN model"
   ]
  },
  {
   "cell_type": "markdown",
   "id": "5f2127ba",
   "metadata": {
    "papermill": {
     "duration": 0.064633,
     "end_time": "2022-10-07T15:11:57.903181",
     "exception": false,
     "start_time": "2022-10-07T15:11:57.838548",
     "status": "completed"
    },
    "tags": []
   },
   "source": [
    "Try running convolutional neural networks model, which are efficient for image processing."
   ]
  },
  {
   "cell_type": "code",
   "execution_count": 16,
   "id": "33aa5fc2",
   "metadata": {
    "execution": {
     "iopub.execute_input": "2022-10-07T15:11:58.035932Z",
     "iopub.status.busy": "2022-10-07T15:11:58.035132Z",
     "iopub.status.idle": "2022-10-07T15:11:58.178189Z",
     "shell.execute_reply": "2022-10-07T15:11:58.177266Z",
     "shell.execute_reply.started": "2022-09-17T22:11:42.271678Z"
    },
    "papermill": {
     "duration": 0.212496,
     "end_time": "2022-10-07T15:11:58.178351",
     "exception": false,
     "start_time": "2022-10-07T15:11:57.965855",
     "status": "completed"
    },
    "tags": []
   },
   "outputs": [],
   "source": [
    "cnn_model = Sequential([\n",
    "    layers.Convolution2D(32,(3,3), activation='relu', input_shape = (28, 28, 1)),\n",
    "    layers.BatchNormalization(axis=1),\n",
    "    layers.Convolution2D(32,(3,3), activation='relu'),\n",
    "    layers.MaxPooling2D(),\n",
    "    layers.BatchNormalization(axis=1),\n",
    "    layers.Convolution2D(64,(3,3), activation='relu'),\n",
    "    layers.BatchNormalization(axis=1),\n",
    "    layers.Convolution2D(64,(3,3), activation='relu'),\n",
    "    layers.MaxPooling2D(),\n",
    "    layers.Flatten(),\n",
    "    layers.BatchNormalization(),\n",
    "    layers.Dense(512, activation='relu'),\n",
    "    layers.BatchNormalization(),\n",
    "    layers.Dense(10, activation='softmax')\n",
    "    ])\n",
    "\n",
    "cnn_model.compile(optimizer = \"adam\", loss='categorical_crossentropy',\n",
    "                  metrics=['accuracy'])\n",
    "early_stopping = keras.callbacks.EarlyStopping(\n",
    "    patience=10,\n",
    "    restore_best_weights=True,\n",
    ")\n"
   ]
  },
  {
   "cell_type": "markdown",
   "id": "86cfe785",
   "metadata": {
    "papermill": {
     "duration": 0.06076,
     "end_time": "2022-10-07T15:11:58.300211",
     "exception": false,
     "start_time": "2022-10-07T15:11:58.239451",
     "status": "completed"
    },
    "tags": []
   },
   "source": [
    "Transofmr data for input into convolutional neural networks model. Need data to be in shape (batch_size, height, width, depth) so (31500 observations, 28 rows, 28 rows, 1 black/white scale). "
   ]
  },
  {
   "cell_type": "code",
   "execution_count": 17,
   "id": "bcc7ac65",
   "metadata": {
    "execution": {
     "iopub.execute_input": "2022-10-07T15:11:58.431140Z",
     "iopub.status.busy": "2022-10-07T15:11:58.430200Z",
     "iopub.status.idle": "2022-10-07T15:11:58.432618Z",
     "shell.execute_reply": "2022-10-07T15:11:58.433171Z",
     "shell.execute_reply.started": "2022-09-17T22:11:46.706321Z"
    },
    "papermill": {
     "duration": 0.071098,
     "end_time": "2022-10-07T15:11:58.433357",
     "exception": false,
     "start_time": "2022-10-07T15:11:58.362259",
     "status": "completed"
    },
    "tags": []
   },
   "outputs": [],
   "source": [
    "X_train_expanded = X_train.to_numpy().reshape(-1, 28, 28, 1)\n",
    "X_valid_expanded = X_valid.to_numpy().reshape(-1, 28, 28, 1)\n",
    "test_expanded = test.to_numpy().reshape(-1, 28, 28, 1)\n"
   ]
  },
  {
   "cell_type": "markdown",
   "id": "7d5f11ba",
   "metadata": {
    "papermill": {
     "duration": 0.061501,
     "end_time": "2022-10-07T15:11:58.556006",
     "exception": false,
     "start_time": "2022-10-07T15:11:58.494505",
     "status": "completed"
    },
    "tags": []
   },
   "source": [
    "One-hot encode labels since values we are trying to predict are finite digits."
   ]
  },
  {
   "cell_type": "code",
   "execution_count": 18,
   "id": "6f71f629",
   "metadata": {
    "execution": {
     "iopub.execute_input": "2022-10-07T15:11:58.682138Z",
     "iopub.status.busy": "2022-10-07T15:11:58.681453Z",
     "iopub.status.idle": "2022-10-07T15:11:58.686206Z",
     "shell.execute_reply": "2022-10-07T15:11:58.686712Z",
     "shell.execute_reply.started": "2022-09-17T22:11:50.610365Z"
    },
    "papermill": {
     "duration": 0.069676,
     "end_time": "2022-10-07T15:11:58.686891",
     "exception": false,
     "start_time": "2022-10-07T15:11:58.617215",
     "status": "completed"
    },
    "tags": []
   },
   "outputs": [],
   "source": [
    "y_train = to_categorical(y_train, num_classes = 10)\n",
    "y_valid = to_categorical(y_valid, num_classes = 10)"
   ]
  },
  {
   "cell_type": "code",
   "execution_count": 19,
   "id": "97469941",
   "metadata": {
    "execution": {
     "iopub.execute_input": "2022-10-07T15:11:58.813511Z",
     "iopub.status.busy": "2022-10-07T15:11:58.812813Z",
     "iopub.status.idle": "2022-10-07T15:14:55.604464Z",
     "shell.execute_reply": "2022-10-07T15:14:55.603822Z",
     "shell.execute_reply.started": "2022-09-17T22:26:06.129702Z"
    },
    "papermill": {
     "duration": 176.856681,
     "end_time": "2022-10-07T15:14:55.604660",
     "exception": false,
     "start_time": "2022-10-07T15:11:58.747979",
     "status": "completed"
    },
    "tags": []
   },
   "outputs": [],
   "source": [
    "history = cnn_model.fit(\n",
    "    X_train_expanded, y_train,\n",
    "    validation_data=(X_valid_expanded, y_valid),\n",
    "    epochs=5,\n",
    "    verbose=0,\n",
    ")\n",
    "\n"
   ]
  },
  {
   "cell_type": "code",
   "execution_count": 20,
   "id": "66c43277",
   "metadata": {
    "execution": {
     "iopub.execute_input": "2022-10-07T15:14:55.734900Z",
     "iopub.status.busy": "2022-10-07T15:14:55.734193Z",
     "iopub.status.idle": "2022-10-07T15:14:59.054152Z",
     "shell.execute_reply": "2022-10-07T15:14:59.053592Z",
     "shell.execute_reply.started": "2022-09-17T22:30:33.439310Z"
    },
    "papermill": {
     "duration": 3.387006,
     "end_time": "2022-10-07T15:14:59.054314",
     "exception": false,
     "start_time": "2022-10-07T15:14:55.667308",
     "status": "completed"
    },
    "tags": []
   },
   "outputs": [
    {
     "name": "stdout",
     "output_type": "stream",
     "text": [
      "329/329 [==============================] - 3s 10ms/step - loss: 0.0453 - accuracy: 0.9876\n"
     ]
    },
    {
     "data": {
      "text/plain": [
       "[0.04526137560606003, 0.9876190423965454]"
      ]
     },
     "execution_count": 20,
     "metadata": {},
     "output_type": "execute_result"
    }
   ],
   "source": [
    "cnn_model.evaluate(X_valid_expanded, y_valid)"
   ]
  },
  {
   "cell_type": "code",
   "execution_count": 21,
   "id": "27ff195d",
   "metadata": {
    "execution": {
     "iopub.execute_input": "2022-10-07T15:14:59.251887Z",
     "iopub.status.busy": "2022-10-07T15:14:59.247579Z",
     "iopub.status.idle": "2022-10-07T15:14:59.670910Z",
     "shell.execute_reply": "2022-10-07T15:14:59.670356Z",
     "shell.execute_reply.started": "2022-09-17T22:34:52.560826Z"
    },
    "papermill": {
     "duration": 0.533774,
     "end_time": "2022-10-07T15:14:59.671056",
     "exception": false,
     "start_time": "2022-10-07T15:14:59.137282",
     "status": "completed"
    },
    "tags": []
   },
   "outputs": [
    {
     "name": "stdout",
     "output_type": "stream",
     "text": [
      "Best Validation Loss: 0.0427\n",
      "Best Validation Accuracy: 0.9881\n"
     ]
    },
    {
     "data": {
      "image/png": "[encoded data removed]",
      "text/plain": [
       "<Figure size 432x288 with 1 Axes>"
      ]
     },
     "metadata": {
      "needs_background": "light"
     },
     "output_type": "display_data"
    },
    {
     "data": {
      "image/png": "[encoded data removed]",
      "text/plain": [
       "<Figure size 432x288 with 1 Axes>"
      ]
     },
     "metadata": {
      "needs_background": "light"
     },
     "output_type": "display_data"
    }
   ],
   "source": [
    "history_df = pd.DataFrame(history.history)\n",
    "history_df.loc[:, ['loss', 'val_loss']].plot()\n",
    "history_df.loc[:, ['accuracy', 'val_accuracy']].plot()\n",
    "\n",
    "print((\"Best Validation Loss: {:0.4f}\" +\\\n",
    "      \"\\nBest Validation Accuracy: {:0.4f}\")\\\n",
    "      .format(history_df['val_loss'].min(), \n",
    "              history_df['val_accuracy'].max()))"
   ]
  },
  {
   "cell_type": "markdown",
   "id": "3b0e793d",
   "metadata": {
    "papermill": {
     "duration": 0.084856,
     "end_time": "2022-10-07T15:14:59.840494",
     "exception": false,
     "start_time": "2022-10-07T15:14:59.755638",
     "status": "completed"
    },
    "tags": []
   },
   "source": [
    "# Add more images to training dataset to fine tune model"
   ]
  },
  {
   "cell_type": "markdown",
   "id": "6429c9cd",
   "metadata": {
    "papermill": {
     "duration": 0.084227,
     "end_time": "2022-10-07T15:15:00.011513",
     "exception": false,
     "start_time": "2022-10-07T15:14:59.927286",
     "status": "completed"
    },
    "tags": []
   },
   "source": [
    "Convolutional neural network model has a higher training and validation score than the simpler deep neural network model. I will add more images to the training dataset to improve the score further."
   ]
  },
  {
   "cell_type": "code",
   "execution_count": 22,
   "id": "192bbb65",
   "metadata": {
    "execution": {
     "iopub.execute_input": "2022-10-07T15:15:00.188671Z",
     "iopub.status.busy": "2022-10-07T15:15:00.187678Z",
     "iopub.status.idle": "2022-10-07T15:15:00.191767Z",
     "shell.execute_reply": "2022-10-07T15:15:00.191216Z",
     "shell.execute_reply.started": "2022-09-17T22:40:42.564358Z"
    },
    "papermill": {
     "duration": 0.094593,
     "end_time": "2022-10-07T15:15:00.191916",
     "exception": false,
     "start_time": "2022-10-07T15:15:00.097323",
     "status": "completed"
    },
    "tags": []
   },
   "outputs": [
    {
     "data": {
      "text/plain": [
       "'\\ngen = image.ImageDataGenerator()\\ngen =ImageDataGenerator(rotation_range=8, width_shift_range=0.08, shear_range=0.3,\\n                               height_shift_range=0.08, zoom_range=0.08)\\nbatches = gen.flow(X_train_expanded, y_train, batch_size=64)\\nval_batches = gen.flow(X_valid_expanded, y_valid, batch_size=64)\\nhistory=model.fit_generator(generator=batches, steps_per_epoch=batches.n, epochs=1, \\n                    validation_data=val_batches, validation_steps=val_batches.n)\\n'"
      ]
     },
     "execution_count": 22,
     "metadata": {},
     "output_type": "execute_result"
    }
   ],
   "source": [
    "'''\n",
    "gen = image.ImageDataGenerator()\n",
    "gen =ImageDataGenerator(rotation_range=8, width_shift_range=0.08, shear_range=0.3,\n",
    "                               height_shift_range=0.08, zoom_range=0.08)\n",
    "batches = gen.flow(X_train_expanded, y_train, batch_size=64)\n",
    "val_batches = gen.flow(X_valid_expanded, y_valid, batch_size=64)\n",
    "history=model.fit_generator(generator=batches, steps_per_epoch=batches.n, epochs=1, \n",
    "                    validation_data=val_batches, validation_steps=val_batches.n)\n",
    "'''"
   ]
  },
  {
   "cell_type": "markdown",
   "id": "6fbb9674",
   "metadata": {
    "papermill": {
     "duration": 0.085871,
     "end_time": "2022-10-07T15:15:00.362769",
     "exception": false,
     "start_time": "2022-10-07T15:15:00.276898",
     "status": "completed"
    },
    "tags": []
   },
   "source": [
    "# Use model to make predictions and submit"
   ]
  },
  {
   "cell_type": "markdown",
   "id": "1a29f3b9",
   "metadata": {
    "papermill": {
     "duration": 0.085158,
     "end_time": "2022-10-07T15:15:00.534374",
     "exception": false,
     "start_time": "2022-10-07T15:15:00.449216",
     "status": "completed"
    },
    "tags": []
   },
   "source": [
    "Calculate predictions."
   ]
  },
  {
   "cell_type": "code",
   "execution_count": 23,
   "id": "20e87c47",
   "metadata": {
    "execution": {
     "iopub.execute_input": "2022-10-07T15:15:00.720351Z",
     "iopub.status.busy": "2022-10-07T15:15:00.719220Z",
     "iopub.status.idle": "2022-10-07T15:15:03.134257Z",
     "shell.execute_reply": "2022-10-07T15:15:03.133687Z",
     "shell.execute_reply.started": "2022-09-17T22:36:07.616577Z"
    },
    "papermill": {
     "duration": 2.513043,
     "end_time": "2022-10-07T15:15:03.134422",
     "exception": false,
     "start_time": "2022-10-07T15:15:00.621379",
     "status": "completed"
    },
    "tags": []
   },
   "outputs": [
    {
     "data": {
      "text/plain": [
       "array([2, 0, 9, ..., 3, 9, 2])"
      ]
     },
     "execution_count": 23,
     "metadata": {},
     "output_type": "execute_result"
    }
   ],
   "source": [
    "#model.predict df has 10 columns, each representing a digit and probability \n",
    "#return digit with highest probability for each row\n",
    "preds = np.argmax(model.predict(test_normalized), axis = 1)\n",
    "preds\n"
   ]
  },
  {
   "cell_type": "markdown",
   "id": "d3b0a4aa",
   "metadata": {
    "papermill": {
     "duration": 0.0852,
     "end_time": "2022-10-07T15:15:03.305510",
     "exception": false,
     "start_time": "2022-10-07T15:15:03.220310",
     "status": "completed"
    },
    "tags": []
   },
   "source": [
    "View predictions on random sample of nine images to confirm model working as expected."
   ]
  },
  {
   "cell_type": "code",
   "execution_count": 24,
   "id": "c7cbdc74",
   "metadata": {
    "execution": {
     "iopub.execute_input": "2022-10-07T15:15:03.481562Z",
     "iopub.status.busy": "2022-10-07T15:15:03.480843Z",
     "iopub.status.idle": "2022-10-07T15:15:04.569096Z",
     "shell.execute_reply": "2022-10-07T15:15:04.568380Z",
     "shell.execute_reply.started": "2022-09-17T22:36:22.185063Z"
    },
    "papermill": {
     "duration": 1.177673,
     "end_time": "2022-10-07T15:15:04.569251",
     "exception": false,
     "start_time": "2022-10-07T15:15:03.391578",
     "status": "completed"
    },
    "tags": []
   },
   "outputs": [
    {
     "data": {
      "image/png": "[encoded data removed]",
      "text/plain": [
       "<Figure size 720x864 with 9 Axes>"
      ]
     },
     "metadata": {
      "needs_background": "light"
     },
     "output_type": "display_data"
    }
   ],
   "source": [
    "import random\n",
    "test_pixels = test.to_numpy().reshape(len(test),28,28)\n",
    "plt.figure(figsize=(10,12))\n",
    "for index, row_num in enumerate(random.sample(range(0,len(test)), 9), start=1):\n",
    "    plt.subplot(3,3,index)\n",
    "    #add images to plot\n",
    "    img_data = test_pixels[row_num]\n",
    "    plt.imshow(img_data, cmap='gray')\n",
    "    #add prediction to plot\n",
    "    plt.xlabel('Predicted digit: ' + str(preds[row_num]))\n",
    "\n"
   ]
  },
  {
   "cell_type": "markdown",
   "id": "76a36d1a",
   "metadata": {
    "papermill": {
     "duration": 0.087534,
     "end_time": "2022-10-07T15:15:04.744481",
     "exception": false,
     "start_time": "2022-10-07T15:15:04.656947",
     "status": "completed"
    },
    "tags": []
   },
   "source": [
    "Output predictions for submission to competition."
   ]
  },
  {
   "cell_type": "code",
   "execution_count": 25,
   "id": "a3bf6b46",
   "metadata": {
    "execution": {
     "iopub.execute_input": "2022-10-07T15:15:04.926448Z",
     "iopub.status.busy": "2022-10-07T15:15:04.925647Z",
     "iopub.status.idle": "2022-10-07T15:15:04.964391Z",
     "shell.execute_reply": "2022-10-07T15:15:04.963646Z",
     "shell.execute_reply.started": "2022-09-17T22:36:26.644638Z"
    },
    "papermill": {
     "duration": 0.132575,
     "end_time": "2022-10-07T15:15:04.964549",
     "exception": false,
     "start_time": "2022-10-07T15:15:04.831974",
     "status": "completed"
    },
    "tags": []
   },
   "outputs": [
    {
     "name": "stdout",
     "output_type": "stream",
     "text": [
      "Your submission was successfully saved!\n"
     ]
    }
   ],
   "source": [
    "output = pd.DataFrame({'ImageId': test.index+1, 'Label': preds})\n",
    "output.to_csv('submission.csv',index=False)\n",
    "print(\"Your submission was successfully saved!\")"
   ]
  }
 ],
 "metadata": {
  "kernelspec": {
   "display_name": "Python 3",
   "language": "python",
   "name": "python3"
  },
  "language_info": {
   "codemirror_mode": {
    "name": "ipython",
    "version": 3
   },
   "file_extension": ".py",
   "mimetype": "text/x-python",
   "name": "python",
   "nbconvert_exporter": "python",
   "pygments_lexer": "ipython3",
   "version": "3.7.12"
  },
  "papermill": {
   "default_parameters": {},
   "duration": 662.064048,
   "end_time": "2022-10-07T15:15:07.890741",
   "environment_variables": {},
   "exception": null,
   "input_path": "__notebook__.ipynb",
   "output_path": "__notebook__.ipynb",
   "parameters": {},
   "start_time": "2022-10-07T15:04:05.826693",
   "version": "2.3.3"
  }
 },
 "nbformat": 4,
 "nbformat_minor": 5
}
