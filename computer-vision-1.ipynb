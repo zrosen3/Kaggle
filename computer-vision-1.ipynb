{
 "cells": [
  {
   "cell_type": "markdown",
   "id": "77e5446c",
   "metadata": {
    "papermill": {
     "duration": 0.030407,
     "end_time": "2022-09-12T21:13:41.303484",
     "exception": false,
     "start_time": "2022-09-12T21:13:41.273077",
     "status": "completed"
    },
    "tags": []
   },
   "source": [
    "# Set up"
   ]
  },
  {
   "cell_type": "code",
   "execution_count": 1,
   "id": "0b6154cd",
   "metadata": {
    "execution": {
     "iopub.execute_input": "2022-09-12T21:13:41.373834Z",
     "iopub.status.busy": "2022-09-12T21:13:41.372454Z",
     "iopub.status.idle": "2022-09-12T21:13:56.122622Z",
     "shell.execute_reply": "2022-09-12T21:13:56.123196Z",
     "shell.execute_reply.started": "2022-09-12T21:06:49.758577Z"
    },
    "papermill": {
     "duration": 14.785488,
     "end_time": "2022-09-12T21:13:56.123550",
     "exception": false,
     "start_time": "2022-09-12T21:13:41.338062",
     "status": "completed"
    },
    "tags": []
   },
   "outputs": [],
   "source": [
    "#load in libraries\n",
    "import tensorflow as tf\n",
    "import numpy as np\n",
    "import matplotlib.pyplot as plt\n",
    "import seaborn as sns\n",
    "from tensorflow import keras\n",
    "from tensorflow.keras import layers\n",
    "import pandas as pd\n",
    "from sklearn.model_selection import train_test_split\n",
    "\n",
    "#load data files \n",
    "test = pd.read_csv(\"../input/digit-recognizer/test.csv\")\n",
    "train = pd.read_csv(\"../input/digit-recognizer/train.csv\")\n",
    "sample_submission = pd.read_csv(\"../input/digit-recognizer/sample_submission.csv\")"
   ]
  },
  {
   "cell_type": "markdown",
   "id": "d97cdbf8",
   "metadata": {
    "papermill": {
     "duration": 0.024882,
     "end_time": "2022-09-12T21:13:56.174949",
     "exception": false,
     "start_time": "2022-09-12T21:13:56.150067",
     "status": "completed"
    },
    "tags": []
   },
   "source": [
    "Look at structure of each dataset. Pixel intensities are represented as integers from 1 to 255. 1 is the lightest value while 255 is the darkest value. Each image is 28 pixels wide x 28 pixels long = 784 pixels in total. The label value gives the digit which each drawing represents."
   ]
  },
  {
   "cell_type": "code",
   "execution_count": 2,
   "id": "71d615c0",
   "metadata": {
    "execution": {
     "iopub.execute_input": "2022-09-12T21:13:56.238257Z",
     "iopub.status.busy": "2022-09-12T21:13:56.232334Z",
     "iopub.status.idle": "2022-09-12T21:13:56.263793Z",
     "shell.execute_reply": "2022-09-12T21:13:56.264320Z",
     "shell.execute_reply.started": "2022-09-12T21:06:54.751036Z"
    },
    "papermill": {
     "duration": 0.06042,
     "end_time": "2022-09-12T21:13:56.264520",
     "exception": false,
     "start_time": "2022-09-12T21:13:56.204100",
     "status": "completed"
    },
    "tags": []
   },
   "outputs": [
    {
     "data": {
      "text/html": [
       "<div>\n",
       "<style scoped>\n",
       "    .dataframe tbody tr th:only-of-type {\n",
       "        vertical-align: middle;\n",
       "    }\n",
       "\n",
       "    .dataframe tbody tr th {\n",
       "        vertical-align: top;\n",
       "    }\n",
       "\n",
       "    .dataframe thead th {\n",
       "        text-align: right;\n",
       "    }\n",
       "</style>\n",
       "<table border=\"1\" class=\"dataframe\">\n",
       "  <thead>\n",
       "    <tr style=\"text-align: right;\">\n",
       "      <th></th>\n",
       "      <th>pixel0</th>\n",
       "      <th>pixel1</th>\n",
       "      <th>pixel2</th>\n",
       "      <th>pixel3</th>\n",
       "      <th>pixel4</th>\n",
       "      <th>pixel5</th>\n",
       "      <th>pixel6</th>\n",
       "      <th>pixel7</th>\n",
       "      <th>pixel8</th>\n",
       "      <th>pixel9</th>\n",
       "      <th>...</th>\n",
       "      <th>pixel774</th>\n",
       "      <th>pixel775</th>\n",
       "      <th>pixel776</th>\n",
       "      <th>pixel777</th>\n",
       "      <th>pixel778</th>\n",
       "      <th>pixel779</th>\n",
       "      <th>pixel780</th>\n",
       "      <th>pixel781</th>\n",
       "      <th>pixel782</th>\n",
       "      <th>pixel783</th>\n",
       "    </tr>\n",
       "  </thead>\n",
       "  <tbody>\n",
       "    <tr>\n",
       "      <th>0</th>\n",
       "      <td>0</td>\n",
       "      <td>0</td>\n",
       "      <td>0</td>\n",
       "      <td>0</td>\n",
       "      <td>0</td>\n",
       "      <td>0</td>\n",
       "      <td>0</td>\n",
       "      <td>0</td>\n",
       "      <td>0</td>\n",
       "      <td>0</td>\n",
       "      <td>...</td>\n",
       "      <td>0</td>\n",
       "      <td>0</td>\n",
       "      <td>0</td>\n",
       "      <td>0</td>\n",
       "      <td>0</td>\n",
       "      <td>0</td>\n",
       "      <td>0</td>\n",
       "      <td>0</td>\n",
       "      <td>0</td>\n",
       "      <td>0</td>\n",
       "    </tr>\n",
       "    <tr>\n",
       "      <th>1</th>\n",
       "      <td>0</td>\n",
       "      <td>0</td>\n",
       "      <td>0</td>\n",
       "      <td>0</td>\n",
       "      <td>0</td>\n",
       "      <td>0</td>\n",
       "      <td>0</td>\n",
       "      <td>0</td>\n",
       "      <td>0</td>\n",
       "      <td>0</td>\n",
       "      <td>...</td>\n",
       "      <td>0</td>\n",
       "      <td>0</td>\n",
       "      <td>0</td>\n",
       "      <td>0</td>\n",
       "      <td>0</td>\n",
       "      <td>0</td>\n",
       "      <td>0</td>\n",
       "      <td>0</td>\n",
       "      <td>0</td>\n",
       "      <td>0</td>\n",
       "    </tr>\n",
       "    <tr>\n",
       "      <th>2</th>\n",
       "      <td>0</td>\n",
       "      <td>0</td>\n",
       "      <td>0</td>\n",
       "      <td>0</td>\n",
       "      <td>0</td>\n",
       "      <td>0</td>\n",
       "      <td>0</td>\n",
       "      <td>0</td>\n",
       "      <td>0</td>\n",
       "      <td>0</td>\n",
       "      <td>...</td>\n",
       "      <td>0</td>\n",
       "      <td>0</td>\n",
       "      <td>0</td>\n",
       "      <td>0</td>\n",
       "      <td>0</td>\n",
       "      <td>0</td>\n",
       "      <td>0</td>\n",
       "      <td>0</td>\n",
       "      <td>0</td>\n",
       "      <td>0</td>\n",
       "    </tr>\n",
       "    <tr>\n",
       "      <th>3</th>\n",
       "      <td>0</td>\n",
       "      <td>0</td>\n",
       "      <td>0</td>\n",
       "      <td>0</td>\n",
       "      <td>0</td>\n",
       "      <td>0</td>\n",
       "      <td>0</td>\n",
       "      <td>0</td>\n",
       "      <td>0</td>\n",
       "      <td>0</td>\n",
       "      <td>...</td>\n",
       "      <td>0</td>\n",
       "      <td>0</td>\n",
       "      <td>0</td>\n",
       "      <td>0</td>\n",
       "      <td>0</td>\n",
       "      <td>0</td>\n",
       "      <td>0</td>\n",
       "      <td>0</td>\n",
       "      <td>0</td>\n",
       "      <td>0</td>\n",
       "    </tr>\n",
       "    <tr>\n",
       "      <th>4</th>\n",
       "      <td>0</td>\n",
       "      <td>0</td>\n",
       "      <td>0</td>\n",
       "      <td>0</td>\n",
       "      <td>0</td>\n",
       "      <td>0</td>\n",
       "      <td>0</td>\n",
       "      <td>0</td>\n",
       "      <td>0</td>\n",
       "      <td>0</td>\n",
       "      <td>...</td>\n",
       "      <td>0</td>\n",
       "      <td>0</td>\n",
       "      <td>0</td>\n",
       "      <td>0</td>\n",
       "      <td>0</td>\n",
       "      <td>0</td>\n",
       "      <td>0</td>\n",
       "      <td>0</td>\n",
       "      <td>0</td>\n",
       "      <td>0</td>\n",
       "    </tr>\n",
       "  </tbody>\n",
       "</table>\n",
       "<p>5 rows × 784 columns</p>\n",
       "</div>"
      ],
      "text/plain": [
       "   pixel0  pixel1  pixel2  pixel3  pixel4  pixel5  pixel6  pixel7  pixel8  \\\n",
       "0       0       0       0       0       0       0       0       0       0   \n",
       "1       0       0       0       0       0       0       0       0       0   \n",
       "2       0       0       0       0       0       0       0       0       0   \n",
       "3       0       0       0       0       0       0       0       0       0   \n",
       "4       0       0       0       0       0       0       0       0       0   \n",
       "\n",
       "   pixel9  ...  pixel774  pixel775  pixel776  pixel777  pixel778  pixel779  \\\n",
       "0       0  ...         0         0         0         0         0         0   \n",
       "1       0  ...         0         0         0         0         0         0   \n",
       "2       0  ...         0         0         0         0         0         0   \n",
       "3       0  ...         0         0         0         0         0         0   \n",
       "4       0  ...         0         0         0         0         0         0   \n",
       "\n",
       "   pixel780  pixel781  pixel782  pixel783  \n",
       "0         0         0         0         0  \n",
       "1         0         0         0         0  \n",
       "2         0         0         0         0  \n",
       "3         0         0         0         0  \n",
       "4         0         0         0         0  \n",
       "\n",
       "[5 rows x 784 columns]"
      ]
     },
     "execution_count": 2,
     "metadata": {},
     "output_type": "execute_result"
    }
   ],
   "source": [
    "test.head()"
   ]
  },
  {
   "cell_type": "code",
   "execution_count": 3,
   "id": "dc734d57",
   "metadata": {
    "execution": {
     "iopub.execute_input": "2022-09-12T21:13:56.323991Z",
     "iopub.status.busy": "2022-09-12T21:13:56.323135Z",
     "iopub.status.idle": "2022-09-12T21:13:56.342292Z",
     "shell.execute_reply": "2022-09-12T21:13:56.342867Z",
     "shell.execute_reply.started": "2022-09-12T21:06:54.780458Z"
    },
    "papermill": {
     "duration": 0.05057,
     "end_time": "2022-09-12T21:13:56.343057",
     "exception": false,
     "start_time": "2022-09-12T21:13:56.292487",
     "status": "completed"
    },
    "tags": []
   },
   "outputs": [
    {
     "data": {
      "text/html": [
       "<div>\n",
       "<style scoped>\n",
       "    .dataframe tbody tr th:only-of-type {\n",
       "        vertical-align: middle;\n",
       "    }\n",
       "\n",
       "    .dataframe tbody tr th {\n",
       "        vertical-align: top;\n",
       "    }\n",
       "\n",
       "    .dataframe thead th {\n",
       "        text-align: right;\n",
       "    }\n",
       "</style>\n",
       "<table border=\"1\" class=\"dataframe\">\n",
       "  <thead>\n",
       "    <tr style=\"text-align: right;\">\n",
       "      <th></th>\n",
       "      <th>label</th>\n",
       "      <th>pixel0</th>\n",
       "      <th>pixel1</th>\n",
       "      <th>pixel2</th>\n",
       "      <th>pixel3</th>\n",
       "      <th>pixel4</th>\n",
       "      <th>pixel5</th>\n",
       "      <th>pixel6</th>\n",
       "      <th>pixel7</th>\n",
       "      <th>pixel8</th>\n",
       "      <th>...</th>\n",
       "      <th>pixel774</th>\n",
       "      <th>pixel775</th>\n",
       "      <th>pixel776</th>\n",
       "      <th>pixel777</th>\n",
       "      <th>pixel778</th>\n",
       "      <th>pixel779</th>\n",
       "      <th>pixel780</th>\n",
       "      <th>pixel781</th>\n",
       "      <th>pixel782</th>\n",
       "      <th>pixel783</th>\n",
       "    </tr>\n",
       "  </thead>\n",
       "  <tbody>\n",
       "    <tr>\n",
       "      <th>0</th>\n",
       "      <td>1</td>\n",
       "      <td>0</td>\n",
       "      <td>0</td>\n",
       "      <td>0</td>\n",
       "      <td>0</td>\n",
       "      <td>0</td>\n",
       "      <td>0</td>\n",
       "      <td>0</td>\n",
       "      <td>0</td>\n",
       "      <td>0</td>\n",
       "      <td>...</td>\n",
       "      <td>0</td>\n",
       "      <td>0</td>\n",
       "      <td>0</td>\n",
       "      <td>0</td>\n",
       "      <td>0</td>\n",
       "      <td>0</td>\n",
       "      <td>0</td>\n",
       "      <td>0</td>\n",
       "      <td>0</td>\n",
       "      <td>0</td>\n",
       "    </tr>\n",
       "    <tr>\n",
       "      <th>1</th>\n",
       "      <td>0</td>\n",
       "      <td>0</td>\n",
       "      <td>0</td>\n",
       "      <td>0</td>\n",
       "      <td>0</td>\n",
       "      <td>0</td>\n",
       "      <td>0</td>\n",
       "      <td>0</td>\n",
       "      <td>0</td>\n",
       "      <td>0</td>\n",
       "      <td>...</td>\n",
       "      <td>0</td>\n",
       "      <td>0</td>\n",
       "      <td>0</td>\n",
       "      <td>0</td>\n",
       "      <td>0</td>\n",
       "      <td>0</td>\n",
       "      <td>0</td>\n",
       "      <td>0</td>\n",
       "      <td>0</td>\n",
       "      <td>0</td>\n",
       "    </tr>\n",
       "    <tr>\n",
       "      <th>2</th>\n",
       "      <td>1</td>\n",
       "      <td>0</td>\n",
       "      <td>0</td>\n",
       "      <td>0</td>\n",
       "      <td>0</td>\n",
       "      <td>0</td>\n",
       "      <td>0</td>\n",
       "      <td>0</td>\n",
       "      <td>0</td>\n",
       "      <td>0</td>\n",
       "      <td>...</td>\n",
       "      <td>0</td>\n",
       "      <td>0</td>\n",
       "      <td>0</td>\n",
       "      <td>0</td>\n",
       "      <td>0</td>\n",
       "      <td>0</td>\n",
       "      <td>0</td>\n",
       "      <td>0</td>\n",
       "      <td>0</td>\n",
       "      <td>0</td>\n",
       "    </tr>\n",
       "    <tr>\n",
       "      <th>3</th>\n",
       "      <td>4</td>\n",
       "      <td>0</td>\n",
       "      <td>0</td>\n",
       "      <td>0</td>\n",
       "      <td>0</td>\n",
       "      <td>0</td>\n",
       "      <td>0</td>\n",
       "      <td>0</td>\n",
       "      <td>0</td>\n",
       "      <td>0</td>\n",
       "      <td>...</td>\n",
       "      <td>0</td>\n",
       "      <td>0</td>\n",
       "      <td>0</td>\n",
       "      <td>0</td>\n",
       "      <td>0</td>\n",
       "      <td>0</td>\n",
       "      <td>0</td>\n",
       "      <td>0</td>\n",
       "      <td>0</td>\n",
       "      <td>0</td>\n",
       "    </tr>\n",
       "    <tr>\n",
       "      <th>4</th>\n",
       "      <td>0</td>\n",
       "      <td>0</td>\n",
       "      <td>0</td>\n",
       "      <td>0</td>\n",
       "      <td>0</td>\n",
       "      <td>0</td>\n",
       "      <td>0</td>\n",
       "      <td>0</td>\n",
       "      <td>0</td>\n",
       "      <td>0</td>\n",
       "      <td>...</td>\n",
       "      <td>0</td>\n",
       "      <td>0</td>\n",
       "      <td>0</td>\n",
       "      <td>0</td>\n",
       "      <td>0</td>\n",
       "      <td>0</td>\n",
       "      <td>0</td>\n",
       "      <td>0</td>\n",
       "      <td>0</td>\n",
       "      <td>0</td>\n",
       "    </tr>\n",
       "  </tbody>\n",
       "</table>\n",
       "<p>5 rows × 785 columns</p>\n",
       "</div>"
      ],
      "text/plain": [
       "   label  pixel0  pixel1  pixel2  pixel3  pixel4  pixel5  pixel6  pixel7  \\\n",
       "0      1       0       0       0       0       0       0       0       0   \n",
       "1      0       0       0       0       0       0       0       0       0   \n",
       "2      1       0       0       0       0       0       0       0       0   \n",
       "3      4       0       0       0       0       0       0       0       0   \n",
       "4      0       0       0       0       0       0       0       0       0   \n",
       "\n",
       "   pixel8  ...  pixel774  pixel775  pixel776  pixel777  pixel778  pixel779  \\\n",
       "0       0  ...         0         0         0         0         0         0   \n",
       "1       0  ...         0         0         0         0         0         0   \n",
       "2       0  ...         0         0         0         0         0         0   \n",
       "3       0  ...         0         0         0         0         0         0   \n",
       "4       0  ...         0         0         0         0         0         0   \n",
       "\n",
       "   pixel780  pixel781  pixel782  pixel783  \n",
       "0         0         0         0         0  \n",
       "1         0         0         0         0  \n",
       "2         0         0         0         0  \n",
       "3         0         0         0         0  \n",
       "4         0         0         0         0  \n",
       "\n",
       "[5 rows x 785 columns]"
      ]
     },
     "execution_count": 3,
     "metadata": {},
     "output_type": "execute_result"
    }
   ],
   "source": [
    "train.head()"
   ]
  },
  {
   "cell_type": "code",
   "execution_count": 4,
   "id": "49bb807b",
   "metadata": {
    "execution": {
     "iopub.execute_input": "2022-09-12T21:13:56.408850Z",
     "iopub.status.busy": "2022-09-12T21:13:56.406594Z",
     "iopub.status.idle": "2022-09-12T21:13:56.417312Z",
     "shell.execute_reply": "2022-09-12T21:13:56.417966Z",
     "shell.execute_reply.started": "2022-09-12T21:06:54.806342Z"
    },
    "papermill": {
     "duration": 0.041703,
     "end_time": "2022-09-12T21:13:56.418154",
     "exception": false,
     "start_time": "2022-09-12T21:13:56.376451",
     "status": "completed"
    },
    "tags": []
   },
   "outputs": [
    {
     "data": {
      "text/html": [
       "<div>\n",
       "<style scoped>\n",
       "    .dataframe tbody tr th:only-of-type {\n",
       "        vertical-align: middle;\n",
       "    }\n",
       "\n",
       "    .dataframe tbody tr th {\n",
       "        vertical-align: top;\n",
       "    }\n",
       "\n",
       "    .dataframe thead th {\n",
       "        text-align: right;\n",
       "    }\n",
       "</style>\n",
       "<table border=\"1\" class=\"dataframe\">\n",
       "  <thead>\n",
       "    <tr style=\"text-align: right;\">\n",
       "      <th></th>\n",
       "      <th>ImageId</th>\n",
       "      <th>Label</th>\n",
       "    </tr>\n",
       "  </thead>\n",
       "  <tbody>\n",
       "    <tr>\n",
       "      <th>0</th>\n",
       "      <td>1</td>\n",
       "      <td>0</td>\n",
       "    </tr>\n",
       "    <tr>\n",
       "      <th>1</th>\n",
       "      <td>2</td>\n",
       "      <td>0</td>\n",
       "    </tr>\n",
       "    <tr>\n",
       "      <th>2</th>\n",
       "      <td>3</td>\n",
       "      <td>0</td>\n",
       "    </tr>\n",
       "    <tr>\n",
       "      <th>3</th>\n",
       "      <td>4</td>\n",
       "      <td>0</td>\n",
       "    </tr>\n",
       "    <tr>\n",
       "      <th>4</th>\n",
       "      <td>5</td>\n",
       "      <td>0</td>\n",
       "    </tr>\n",
       "  </tbody>\n",
       "</table>\n",
       "</div>"
      ],
      "text/plain": [
       "   ImageId  Label\n",
       "0        1      0\n",
       "1        2      0\n",
       "2        3      0\n",
       "3        4      0\n",
       "4        5      0"
      ]
     },
     "execution_count": 4,
     "metadata": {},
     "output_type": "execute_result"
    }
   ],
   "source": [
    "sample_submission.head()"
   ]
  },
  {
   "cell_type": "markdown",
   "id": "16e9bcec",
   "metadata": {
    "papermill": {
     "duration": 0.026774,
     "end_time": "2022-09-12T21:13:56.473964",
     "exception": false,
     "start_time": "2022-09-12T21:13:56.447190",
     "status": "completed"
    },
    "tags": []
   },
   "source": [
    "# Data visualization"
   ]
  },
  {
   "cell_type": "markdown",
   "id": "aec3f164",
   "metadata": {
    "papermill": {
     "duration": 0.027221,
     "end_time": "2022-09-12T21:13:56.531330",
     "exception": false,
     "start_time": "2022-09-12T21:13:56.504109",
     "status": "completed"
    },
    "tags": []
   },
   "source": [
    "Visualize data. Plot a sample of every digit."
   ]
  },
  {
   "cell_type": "code",
   "execution_count": 5,
   "id": "21e486eb",
   "metadata": {
    "execution": {
     "iopub.execute_input": "2022-09-12T21:13:56.596948Z",
     "iopub.status.busy": "2022-09-12T21:13:56.589428Z",
     "iopub.status.idle": "2022-09-12T21:13:58.027599Z",
     "shell.execute_reply": "2022-09-12T21:13:58.028159Z",
     "shell.execute_reply.started": "2022-09-12T21:06:54.820699Z"
    },
    "papermill": {
     "duration": 1.469392,
     "end_time": "2022-09-12T21:13:58.028378",
     "exception": false,
     "start_time": "2022-09-12T21:13:56.558986",
     "status": "completed"
    },
    "tags": []
   },
   "outputs": [
    {
     "data": {
      "image/png": "[encoded data removed]",
      "text/plain": [
       "<Figure size 1080x504 with 10 Axes>"
      ]
     },
     "metadata": {
      "needs_background": "light"
     },
     "output_type": "display_data"
    }
   ],
   "source": [
    "train_pixels = train.drop(columns=['label'],axis=1).to_numpy().reshape(-1,28,28)\n",
    "train_pixels.shape\n",
    "\n",
    "plt.figure(figsize=(15,7))\n",
    "for digit in range(0, 10):\n",
    "    #find first indice where training data equals digit\n",
    "     index = np.where(train['label'] == digit)[0][0]\n",
    "     plt.subplot(2,5,digit + 1)\n",
    "     plt.title(digit)\n",
    "     plt.imshow(train_pixels[index], cmap='gray')"
   ]
  },
  {
   "cell_type": "markdown",
   "id": "dffdc58a",
   "metadata": {
    "papermill": {
     "duration": 0.02789,
     "end_time": "2022-09-12T21:13:58.085371",
     "exception": false,
     "start_time": "2022-09-12T21:13:58.057481",
     "status": "completed"
    },
    "tags": []
   },
   "source": [
    "Look at distribution of digits in dataset. "
   ]
  },
  {
   "cell_type": "code",
   "execution_count": 6,
   "id": "4aa9bff1",
   "metadata": {
    "execution": {
     "iopub.execute_input": "2022-09-12T21:13:58.148628Z",
     "iopub.status.busy": "2022-09-12T21:13:58.147857Z",
     "iopub.status.idle": "2022-09-12T21:13:58.398928Z",
     "shell.execute_reply": "2022-09-12T21:13:58.399535Z",
     "shell.execute_reply.started": "2022-09-12T21:06:56.076930Z"
    },
    "papermill": {
     "duration": 0.28603,
     "end_time": "2022-09-12T21:13:58.399727",
     "exception": false,
     "start_time": "2022-09-12T21:13:58.113697",
     "status": "completed"
    },
    "tags": []
   },
   "outputs": [
    {
     "data": {
      "text/plain": [
       "[Text(0.5, 1.0, 'Digit counts'), Text(0.5, 0, 'Digit'), Text(0, 0.5, 'Count')]"
      ]
     },
     "execution_count": 6,
     "metadata": {},
     "output_type": "execute_result"
    },
    {
     "data": {
      "image/png": "[encoded data removed]",
      "text/plain": [
       "<Figure size 432x288 with 1 Axes>"
      ]
     },
     "metadata": {
      "needs_background": "light"
     },
     "output_type": "display_data"
    }
   ],
   "source": [
    "sns.countplot(x = train[\"label\"]).set(title = \"Digit counts\", xlabel = \"Digit\", ylabel = \"Count\")\n"
   ]
  },
  {
   "cell_type": "markdown",
   "id": "209eaa9c",
   "metadata": {
    "papermill": {
     "duration": 0.028942,
     "end_time": "2022-09-12T21:13:58.458018",
     "exception": false,
     "start_time": "2022-09-12T21:13:58.429076",
     "status": "completed"
    },
    "tags": []
   },
   "source": [
    "Training dataset seems to be fairly balanced between digits, though 1 is the most common digit."
   ]
  },
  {
   "cell_type": "markdown",
   "id": "1da0443e",
   "metadata": {
    "papermill": {
     "duration": 0.028804,
     "end_time": "2022-09-12T21:13:58.516034",
     "exception": false,
     "start_time": "2022-09-12T21:13:58.487230",
     "status": "completed"
    },
    "tags": []
   },
   "source": [
    "# Data preparation"
   ]
  },
  {
   "cell_type": "markdown",
   "id": "1a0390a6",
   "metadata": {
    "papermill": {
     "duration": 0.028707,
     "end_time": "2022-09-12T21:13:58.574083",
     "exception": false,
     "start_time": "2022-09-12T21:13:58.545376",
     "status": "completed"
    },
    "tags": []
   },
   "source": [
    "This dataset appears to be very clean and leads minimal processing. It would be helpful to normalize each pixel value to 0-1 before running neural network model. Currently, each pixel value ranges from 0 to 255 so an divide by 255. Use float type to convert values to float."
   ]
  },
  {
   "cell_type": "code",
   "execution_count": 7,
   "id": "ef7ebc3d",
   "metadata": {
    "execution": {
     "iopub.execute_input": "2022-09-12T21:13:58.636449Z",
     "iopub.status.busy": "2022-09-12T21:13:58.635432Z",
     "iopub.status.idle": "2022-09-12T21:14:32.329727Z",
     "shell.execute_reply": "2022-09-12T21:14:32.328822Z",
     "shell.execute_reply.started": "2022-09-12T21:06:56.328062Z"
    },
    "papermill": {
     "duration": 33.726515,
     "end_time": "2022-09-12T21:14:32.329894",
     "exception": false,
     "start_time": "2022-09-12T21:13:58.603379",
     "status": "completed"
    },
    "tags": []
   },
   "outputs": [],
   "source": [
    "train_normalized = train.copy()\n",
    "pixel_cols = train_normalized.drop('label', axis =1).columns\n",
    "train_normalized[pixel_cols] = train_normalized[pixel_cols].apply(lambda x: x/255.0)\n",
    "test_normalized = test/255.0"
   ]
  },
  {
   "cell_type": "markdown",
   "id": "3940a63c",
   "metadata": {
    "papermill": {
     "duration": 0.028776,
     "end_time": "2022-09-12T21:14:32.388461",
     "exception": false,
     "start_time": "2022-09-12T21:14:32.359685",
     "status": "completed"
    },
    "tags": []
   },
   "source": [
    "Split training data into training and validation sets. Put 75% of data into training set, 25% in validation. Make sure the proportion of digits is the same in training and validation sets."
   ]
  },
  {
   "cell_type": "code",
   "execution_count": 8,
   "id": "676d2d43",
   "metadata": {
    "execution": {
     "iopub.execute_input": "2022-09-12T21:14:32.453322Z",
     "iopub.status.busy": "2022-09-12T21:14:32.452570Z",
     "iopub.status.idle": "2022-09-12T21:14:33.101901Z",
     "shell.execute_reply": "2022-09-12T21:14:33.101161Z",
     "shell.execute_reply.started": "2022-09-12T21:07:31.513471Z"
    },
    "papermill": {
     "duration": 0.683605,
     "end_time": "2022-09-12T21:14:33.102055",
     "exception": false,
     "start_time": "2022-09-12T21:14:32.418450",
     "status": "completed"
    },
    "tags": []
   },
   "outputs": [],
   "source": [
    "X = train_normalized.copy()\n",
    "y = X.pop('label') #take out label from X, move to y\n",
    "X_train, X_valid, y_train, y_valid = train_test_split(X, y, stratify=y, train_size=0.75)"
   ]
  },
  {
   "cell_type": "markdown",
   "id": "5ec9513a",
   "metadata": {
    "papermill": {
     "duration": 0.031969,
     "end_time": "2022-09-12T21:14:33.163709",
     "exception": false,
     "start_time": "2022-09-12T21:14:33.131740",
     "status": "completed"
    },
    "tags": []
   },
   "source": [
    "# Modelling"
   ]
  },
  {
   "cell_type": "markdown",
   "id": "c96d31dd",
   "metadata": {
    "papermill": {
     "duration": 0.028985,
     "end_time": "2022-09-12T21:14:33.221931",
     "exception": false,
     "start_time": "2022-09-12T21:14:33.192946",
     "status": "completed"
    },
    "tags": []
   },
   "source": [
    "Initialize deep neural network model. Input shape is 784 since since 785 columns. Use batch normalization function to standardize data going into each activation function. Large amount of data so use 100 neurons for middle two layers in network. Use softmax activation function to convert output to probabilities of image being of each digit. Add early stopping functino to prevent overfitting."
   ]
  },
  {
   "cell_type": "code",
   "execution_count": 9,
   "id": "1977603b",
   "metadata": {
    "execution": {
     "iopub.execute_input": "2022-09-12T21:14:33.290220Z",
     "iopub.status.busy": "2022-09-12T21:14:33.289487Z",
     "iopub.status.idle": "2022-09-12T21:14:33.485014Z",
     "shell.execute_reply": "2022-09-12T21:14:33.484333Z",
     "shell.execute_reply.started": "2022-09-12T21:07:32.845816Z"
    },
    "papermill": {
     "duration": 0.232426,
     "end_time": "2022-09-12T21:14:33.485163",
     "exception": false,
     "start_time": "2022-09-12T21:14:33.252737",
     "status": "completed"
    },
    "tags": []
   },
   "outputs": [
    {
     "name": "stderr",
     "output_type": "stream",
     "text": [
      "2022-09-12 21:14:33.336250: I tensorflow/core/common_runtime/process_util.cc:146] Creating new thread pool with default inter op setting: 2. Tune using inter_op_parallelism_threads for best performance.\n"
     ]
    }
   ],
   "source": [
    "model = keras.Sequential([\n",
    "    layers.Dense(784, activation='relu', input_shape=[784]),\n",
    "    layers.BatchNormalization(),\n",
    "    layers.Dense(100, activation='relu'),\n",
    "    layers.BatchNormalization(),\n",
    "    layers.Dense(100, activation = 'relu'),\n",
    "    layers.BatchNormalization(),\n",
    "    layers.Dense(10, activation='softmax'),\n",
    "])\n",
    "#use standard adam optimizer, sparse categorical cross entropy to measure loss, accuracy as metric\n",
    "model.compile(\n",
    "    optimizer='adam',\n",
    "    loss='sparse_categorical_crossentropy',\n",
    "    metrics=['accuracy'],\n",
    ")\n",
    "\n",
    "#early stopping function\n",
    "early_stopping = keras.callbacks.EarlyStopping(\n",
    "    patience=10,\n",
    "    restore_best_weights=True,\n",
    ")"
   ]
  },
  {
   "cell_type": "markdown",
   "id": "81525e8f",
   "metadata": {
    "papermill": {
     "duration": 0.030252,
     "end_time": "2022-09-12T21:14:33.545449",
     "exception": false,
     "start_time": "2022-09-12T21:14:33.515197",
     "status": "completed"
    },
    "tags": []
   },
   "source": [
    "Print out model summary."
   ]
  },
  {
   "cell_type": "code",
   "execution_count": 10,
   "id": "f272b767",
   "metadata": {
    "execution": {
     "iopub.execute_input": "2022-09-12T21:14:33.611446Z",
     "iopub.status.busy": "2022-09-12T21:14:33.610714Z",
     "iopub.status.idle": "2022-09-12T21:14:33.618248Z",
     "shell.execute_reply": "2022-09-12T21:14:33.618748Z",
     "shell.execute_reply.started": "2022-09-12T21:07:32.951111Z"
    },
    "papermill": {
     "duration": 0.04247,
     "end_time": "2022-09-12T21:14:33.618954",
     "exception": false,
     "start_time": "2022-09-12T21:14:33.576484",
     "status": "completed"
    },
    "tags": []
   },
   "outputs": [
    {
     "name": "stdout",
     "output_type": "stream",
     "text": [
      "Model: \"sequential\"\n",
      "_________________________________________________________________\n",
      "Layer (type)                 Output Shape              Param #   \n",
      "=================================================================\n",
      "dense (Dense)                (None, 784)               615440    \n",
      "_________________________________________________________________\n",
      "batch_normalization (BatchNo (None, 784)               3136      \n",
      "_________________________________________________________________\n",
      "dense_1 (Dense)              (None, 100)               78500     \n",
      "_________________________________________________________________\n",
      "batch_normalization_1 (Batch (None, 100)               400       \n",
      "_________________________________________________________________\n",
      "dense_2 (Dense)              (None, 100)               10100     \n",
      "_________________________________________________________________\n",
      "batch_normalization_2 (Batch (None, 100)               400       \n",
      "_________________________________________________________________\n",
      "dense_3 (Dense)              (None, 10)                1010      \n",
      "=================================================================\n",
      "Total params: 708,986\n",
      "Trainable params: 707,018\n",
      "Non-trainable params: 1,968\n",
      "_________________________________________________________________\n"
     ]
    }
   ],
   "source": [
    "model.summary()"
   ]
  },
  {
   "cell_type": "markdown",
   "id": "cd2b90e1",
   "metadata": {
    "papermill": {
     "duration": 0.029701,
     "end_time": "2022-09-12T21:14:33.679029",
     "exception": false,
     "start_time": "2022-09-12T21:14:33.649328",
     "status": "completed"
    },
    "tags": []
   },
   "source": [
    "Fit model to digits data. Use large batch size and epochs values, but incldue early stopping to avoid overfitting."
   ]
  },
  {
   "cell_type": "code",
   "execution_count": 11,
   "id": "be56d046",
   "metadata": {
    "execution": {
     "iopub.execute_input": "2022-09-12T21:14:33.747043Z",
     "iopub.status.busy": "2022-09-12T21:14:33.746020Z",
     "iopub.status.idle": "2022-09-12T21:18:16.637184Z",
     "shell.execute_reply": "2022-09-12T21:18:16.636227Z",
     "shell.execute_reply.started": "2022-09-12T21:07:32.962357Z"
    },
    "papermill": {
     "duration": 222.928032,
     "end_time": "2022-09-12T21:18:16.637414",
     "exception": false,
     "start_time": "2022-09-12T21:14:33.709382",
     "status": "completed"
    },
    "tags": []
   },
   "outputs": [
    {
     "name": "stderr",
     "output_type": "stream",
     "text": [
      "2022-09-12 21:14:34.124321: I tensorflow/compiler/mlir/mlir_graph_optimization_pass.cc:185] None of the MLIR Optimization Passes are enabled (registered 2)\n"
     ]
    }
   ],
   "source": [
    "history = model.fit(\n",
    "    X_train, y_train,\n",
    "    validation_data=(X_valid, y_valid),\n",
    "    epochs=100,\n",
    "    callbacks=[early_stopping],\n",
    "    verbose=0,\n",
    ")"
   ]
  },
  {
   "cell_type": "markdown",
   "id": "bbce86e0",
   "metadata": {
    "papermill": {
     "duration": 0.030429,
     "end_time": "2022-09-12T21:18:16.699992",
     "exception": false,
     "start_time": "2022-09-12T21:18:16.669563",
     "status": "completed"
    },
    "tags": []
   },
   "source": [
    "Calculate evaluation statistics to measure model performance."
   ]
  },
  {
   "cell_type": "code",
   "execution_count": 12,
   "id": "85b7cecb",
   "metadata": {
    "execution": {
     "iopub.execute_input": "2022-09-12T21:18:16.769057Z",
     "iopub.status.busy": "2022-09-12T21:18:16.768309Z",
     "iopub.status.idle": "2022-09-12T21:18:18.100750Z",
     "shell.execute_reply": "2022-09-12T21:18:18.100063Z",
     "shell.execute_reply.started": "2022-09-12T21:10:23.755826Z"
    },
    "papermill": {
     "duration": 1.369298,
     "end_time": "2022-09-12T21:18:18.100937",
     "exception": false,
     "start_time": "2022-09-12T21:18:16.731639",
     "status": "completed"
    },
    "tags": []
   },
   "outputs": [
    {
     "name": "stdout",
     "output_type": "stream",
     "text": [
      "329/329 [==============================] - 1s 3ms/step - loss: 0.0905 - accuracy: 0.9790\n"
     ]
    },
    {
     "data": {
      "text/plain": [
       "[0.0905490517616272, 0.9789524078369141]"
      ]
     },
     "execution_count": 12,
     "metadata": {},
     "output_type": "execute_result"
    }
   ],
   "source": [
    "model.evaluate(X_valid, y_valid)"
   ]
  },
  {
   "cell_type": "markdown",
   "id": "4e37648a",
   "metadata": {
    "papermill": {
     "duration": 0.041819,
     "end_time": "2022-09-12T21:18:18.182721",
     "exception": false,
     "start_time": "2022-09-12T21:18:18.140902",
     "status": "completed"
    },
    "tags": []
   },
   "source": [
    "Look at learning curves for model prediction."
   ]
  },
  {
   "cell_type": "code",
   "execution_count": 13,
   "id": "5065dfd7",
   "metadata": {
    "execution": {
     "iopub.execute_input": "2022-09-12T21:18:18.270366Z",
     "iopub.status.busy": "2022-09-12T21:18:18.269550Z",
     "iopub.status.idle": "2022-09-12T21:18:18.771235Z",
     "shell.execute_reply": "2022-09-12T21:18:18.770651Z",
     "shell.execute_reply.started": "2022-09-12T21:10:24.785669Z"
    },
    "papermill": {
     "duration": 0.549265,
     "end_time": "2022-09-12T21:18:18.771426",
     "exception": false,
     "start_time": "2022-09-12T21:18:18.222161",
     "status": "completed"
    },
    "tags": []
   },
   "outputs": [
    {
     "name": "stdout",
     "output_type": "stream",
     "text": [
      "Best Validation Loss: 0.0905\n",
      "Best Validation Accuracy: 0.9790\n"
     ]
    },
    {
     "data": {
      "image/png": "[encoded data removed]",
      "text/plain": [
       "<Figure size 432x288 with 1 Axes>"
      ]
     },
     "metadata": {
      "needs_background": "light"
     },
     "output_type": "display_data"
    },
    {
     "data": {
      "image/png": "[encoded data removed]",
      "text/plain": [
       "<Figure size 432x288 with 1 Axes>"
      ]
     },
     "metadata": {
      "needs_background": "light"
     },
     "output_type": "display_data"
    }
   ],
   "source": [
    "history_df = pd.DataFrame(history.history)\n",
    "# Start the plot at epoch 5\n",
    "history_df.loc[:, ['loss', 'val_loss']].plot()\n",
    "history_df.loc[:, ['accuracy', 'val_accuracy']].plot()\n",
    "\n",
    "print((\"Best Validation Loss: {:0.4f}\" +\\\n",
    "      \"\\nBest Validation Accuracy: {:0.4f}\")\\\n",
    "      .format(history_df['val_loss'].min(), \n",
    "              history_df['val_accuracy'].max()))"
   ]
  },
  {
   "cell_type": "markdown",
   "id": "822d95eb",
   "metadata": {
    "papermill": {
     "duration": 0.042882,
     "end_time": "2022-09-12T21:18:18.856417",
     "exception": false,
     "start_time": "2022-09-12T21:18:18.813535",
     "status": "completed"
    },
    "tags": []
   },
   "source": [
    "# Use model to make predictions and submit"
   ]
  },
  {
   "cell_type": "markdown",
   "id": "e6260e41",
   "metadata": {
    "papermill": {
     "duration": 0.041467,
     "end_time": "2022-09-12T21:18:18.941126",
     "exception": false,
     "start_time": "2022-09-12T21:18:18.899659",
     "status": "completed"
    },
    "tags": []
   },
   "source": [
    "Calculate predictions."
   ]
  },
  {
   "cell_type": "code",
   "execution_count": 14,
   "id": "832f84be",
   "metadata": {
    "execution": {
     "iopub.execute_input": "2022-09-12T21:18:19.030964Z",
     "iopub.status.busy": "2022-09-12T21:18:19.030167Z",
     "iopub.status.idle": "2022-09-12T21:18:21.578885Z",
     "shell.execute_reply": "2022-09-12T21:18:21.579668Z",
     "shell.execute_reply.started": "2022-09-12T21:10:25.262228Z"
    },
    "papermill": {
     "duration": 2.596636,
     "end_time": "2022-09-12T21:18:21.579863",
     "exception": false,
     "start_time": "2022-09-12T21:18:18.983227",
     "status": "completed"
    },
    "tags": []
   },
   "outputs": [],
   "source": [
    "#model.predict df has 10 columns, each representing a digit and probability \n",
    "#return digit with heighest probability for each row\n",
    "preds = np.argmax(model.predict(test_normalized), axis=1)"
   ]
  },
  {
   "cell_type": "markdown",
   "id": "73e002c7",
   "metadata": {
    "papermill": {
     "duration": 0.041262,
     "end_time": "2022-09-12T21:18:21.662411",
     "exception": false,
     "start_time": "2022-09-12T21:18:21.621149",
     "status": "completed"
    },
    "tags": []
   },
   "source": [
    "View predictions on random sample of nine images to confirm model working as expected."
   ]
  },
  {
   "cell_type": "code",
   "execution_count": 15,
   "id": "7bd4d78e",
   "metadata": {
    "execution": {
     "iopub.execute_input": "2022-09-12T21:18:21.755903Z",
     "iopub.status.busy": "2022-09-12T21:18:21.755103Z",
     "iopub.status.idle": "2022-09-12T21:18:22.962484Z",
     "shell.execute_reply": "2022-09-12T21:18:22.963057Z",
     "shell.execute_reply.started": "2022-09-12T21:10:27.301936Z"
    },
    "papermill": {
     "duration": 1.254064,
     "end_time": "2022-09-12T21:18:22.963260",
     "exception": false,
     "start_time": "2022-09-12T21:18:21.709196",
     "status": "completed"
    },
    "tags": []
   },
   "outputs": [
    {
     "data": {
      "image/png": "[encoded data removed]",
      "text/plain": [
       "<Figure size 720x864 with 9 Axes>"
      ]
     },
     "metadata": {
      "needs_background": "light"
     },
     "output_type": "display_data"
    }
   ],
   "source": [
    "import random\n",
    "test_pixels = test.to_numpy().reshape(len(test),28,28)\n",
    "plt.figure(figsize=(10,12))\n",
    "for index, row_num in enumerate(random.sample(range(0,len(test)), 9), start=1):\n",
    "    plt.subplot(3,3,index)\n",
    "    #add images to plot\n",
    "    img_data = test_pixels[row_num]\n",
    "    plt.imshow(img_data, cmap='gray')\n",
    "    #add prediction to plot\n",
    "    plt.xlabel('Predicted digit: ' + str(preds[row_num]))\n",
    "\n"
   ]
  },
  {
   "cell_type": "markdown",
   "id": "7b14c07d",
   "metadata": {
    "papermill": {
     "duration": 0.042843,
     "end_time": "2022-09-12T21:18:23.049575",
     "exception": false,
     "start_time": "2022-09-12T21:18:23.006732",
     "status": "completed"
    },
    "tags": []
   },
   "source": [
    "Output predictions for submission to competition."
   ]
  },
  {
   "cell_type": "code",
   "execution_count": 16,
   "id": "b420cf01",
   "metadata": {
    "execution": {
     "iopub.execute_input": "2022-09-12T21:18:23.144071Z",
     "iopub.status.busy": "2022-09-12T21:18:23.143303Z",
     "iopub.status.idle": "2022-09-12T21:18:23.180209Z",
     "shell.execute_reply": "2022-09-12T21:18:23.181920Z",
     "shell.execute_reply.started": "2022-09-12T21:10:28.358504Z"
    },
    "papermill": {
     "duration": 0.090126,
     "end_time": "2022-09-12T21:18:23.182259",
     "exception": false,
     "start_time": "2022-09-12T21:18:23.092133",
     "status": "completed"
    },
    "tags": []
   },
   "outputs": [
    {
     "name": "stdout",
     "output_type": "stream",
     "text": [
      "Your submission was successfully saved!\n"
     ]
    }
   ],
   "source": [
    "output = pd.DataFrame({'ImageId': test.index+1, 'Label': preds})\n",
    "output.to_csv('submission.csv',index=False)\n",
    "print(\"Your submission was successfully saved!\")"
   ]
  }
 ],
 "metadata": {
  "kernelspec": {
   "display_name": "Python 3",
   "language": "python",
   "name": "python3"
  },
  "language_info": {
   "codemirror_mode": {
    "name": "ipython",
    "version": 3
   },
   "file_extension": ".py",
   "mimetype": "text/x-python",
   "name": "python",
   "nbconvert_exporter": "python",
   "pygments_lexer": "ipython3",
   "version": "3.7.12"
  },
  "papermill": {
   "default_parameters": {},
   "duration": 295.867912,
   "end_time": "2022-09-12T21:18:26.344670",
   "environment_variables": {},
   "exception": null,
   "input_path": "__notebook__.ipynb",
   "output_path": "__notebook__.ipynb",
   "parameters": {},
   "start_time": "2022-09-12T21:13:30.476758",
   "version": "2.3.3"
  }
 },
 "nbformat": 4,
 "nbformat_minor": 5
}
