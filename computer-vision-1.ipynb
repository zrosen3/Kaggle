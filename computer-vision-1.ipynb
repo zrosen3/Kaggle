{
 "cells": [
  {
   "cell_type": "markdown",
   "id": "9e15a2d5",
   "metadata": {
    "papermill": {
     "duration": 0.037869,
     "end_time": "2022-09-17T22:48:49.998260",
     "exception": false,
     "start_time": "2022-09-17T22:48:49.960391",
     "status": "completed"
    },
    "tags": []
   },
   "source": [
    "# Set up"
   ]
  },
  {
   "cell_type": "code",
   "execution_count": 1,
   "id": "1b0cc34b",
   "metadata": {
    "execution": {
     "iopub.execute_input": "2022-09-17T22:48:50.083809Z",
     "iopub.status.busy": "2022-09-17T22:48:50.082782Z",
     "iopub.status.idle": "2022-09-17T22:49:03.521999Z",
     "shell.execute_reply": "2022-09-17T22:49:03.521147Z",
     "shell.execute_reply.started": "2022-09-17T22:03:45.700143Z"
    },
    "papermill": {
     "duration": 13.48624,
     "end_time": "2022-09-17T22:49:03.522208",
     "exception": false,
     "start_time": "2022-09-17T22:48:50.035968",
     "status": "completed"
    },
    "tags": []
   },
   "outputs": [],
   "source": [
    "#load in libraries\n",
    "import tensorflow as tf\n",
    "import numpy as np\n",
    "import matplotlib.pyplot as plt\n",
    "import seaborn as sns\n",
    "from tensorflow import keras\n",
    "from tensorflow.keras import layers\n",
    "import pandas as pd\n",
    "from sklearn.model_selection import train_test_split\n",
    "from keras.layers import Convolution2D, MaxPooling2D\n",
    "from keras.models import Sequential\n",
    "from keras.layers import Dense , Dropout , Lambda, Flatten\n",
    "from keras import  backend as K\n",
    "from keras.preprocessing import image\n",
    "from keras.preprocessing.image import ImageDataGenerator\n",
    "from keras.utils.np_utils import to_categorical # convert to one-hot-encoding\n",
    "\n",
    "\n",
    "#load data files \n",
    "test = pd.read_csv(\"../input/digit-recognizer/test.csv\")\n",
    "train = pd.read_csv(\"../input/digit-recognizer/train.csv\")\n",
    "sample_submission = pd.read_csv(\"../input/digit-recognizer/sample_submission.csv\")"
   ]
  },
  {
   "cell_type": "markdown",
   "id": "a3aca388",
   "metadata": {
    "papermill": {
     "duration": 0.035425,
     "end_time": "2022-09-17T22:49:03.593021",
     "exception": false,
     "start_time": "2022-09-17T22:49:03.557596",
     "status": "completed"
    },
    "tags": []
   },
   "source": [
    "Look at structure of each dataset. Pixel intensities are represented as integers from 1 to 255. 1 is the lightest value while 255 is the darkest value. Each image is 28 pixels wide x 28 pixels long = 784 pixels in total. The label value gives the digit which each drawing represents."
   ]
  },
  {
   "cell_type": "code",
   "execution_count": 2,
   "id": "8811c976",
   "metadata": {
    "execution": {
     "iopub.execute_input": "2022-09-17T22:49:03.672386Z",
     "iopub.status.busy": "2022-09-17T22:49:03.671118Z",
     "iopub.status.idle": "2022-09-17T22:49:03.693238Z",
     "shell.execute_reply": "2022-09-17T22:49:03.693753Z",
     "shell.execute_reply.started": "2022-09-17T22:04:35.186267Z"
    },
    "papermill": {
     "duration": 0.06575,
     "end_time": "2022-09-17T22:49:03.693931",
     "exception": false,
     "start_time": "2022-09-17T22:49:03.628181",
     "status": "completed"
    },
    "tags": []
   },
   "outputs": [
    {
     "data": {
      "text/html": [
       "<div>\n",
       "<style scoped>\n",
       "    .dataframe tbody tr th:only-of-type {\n",
       "        vertical-align: middle;\n",
       "    }\n",
       "\n",
       "    .dataframe tbody tr th {\n",
       "        vertical-align: top;\n",
       "    }\n",
       "\n",
       "    .dataframe thead th {\n",
       "        text-align: right;\n",
       "    }\n",
       "</style>\n",
       "<table border=\"1\" class=\"dataframe\">\n",
       "  <thead>\n",
       "    <tr style=\"text-align: right;\">\n",
       "      <th></th>\n",
       "      <th>pixel0</th>\n",
       "      <th>pixel1</th>\n",
       "      <th>pixel2</th>\n",
       "      <th>pixel3</th>\n",
       "      <th>pixel4</th>\n",
       "      <th>pixel5</th>\n",
       "      <th>pixel6</th>\n",
       "      <th>pixel7</th>\n",
       "      <th>pixel8</th>\n",
       "      <th>pixel9</th>\n",
       "      <th>...</th>\n",
       "      <th>pixel774</th>\n",
       "      <th>pixel775</th>\n",
       "      <th>pixel776</th>\n",
       "      <th>pixel777</th>\n",
       "      <th>pixel778</th>\n",
       "      <th>pixel779</th>\n",
       "      <th>pixel780</th>\n",
       "      <th>pixel781</th>\n",
       "      <th>pixel782</th>\n",
       "      <th>pixel783</th>\n",
       "    </tr>\n",
       "  </thead>\n",
       "  <tbody>\n",
       "    <tr>\n",
       "      <th>0</th>\n",
       "      <td>0</td>\n",
       "      <td>0</td>\n",
       "      <td>0</td>\n",
       "      <td>0</td>\n",
       "      <td>0</td>\n",
       "      <td>0</td>\n",
       "      <td>0</td>\n",
       "      <td>0</td>\n",
       "      <td>0</td>\n",
       "      <td>0</td>\n",
       "      <td>...</td>\n",
       "      <td>0</td>\n",
       "      <td>0</td>\n",
       "      <td>0</td>\n",
       "      <td>0</td>\n",
       "      <td>0</td>\n",
       "      <td>0</td>\n",
       "      <td>0</td>\n",
       "      <td>0</td>\n",
       "      <td>0</td>\n",
       "      <td>0</td>\n",
       "    </tr>\n",
       "    <tr>\n",
       "      <th>1</th>\n",
       "      <td>0</td>\n",
       "      <td>0</td>\n",
       "      <td>0</td>\n",
       "      <td>0</td>\n",
       "      <td>0</td>\n",
       "      <td>0</td>\n",
       "      <td>0</td>\n",
       "      <td>0</td>\n",
       "      <td>0</td>\n",
       "      <td>0</td>\n",
       "      <td>...</td>\n",
       "      <td>0</td>\n",
       "      <td>0</td>\n",
       "      <td>0</td>\n",
       "      <td>0</td>\n",
       "      <td>0</td>\n",
       "      <td>0</td>\n",
       "      <td>0</td>\n",
       "      <td>0</td>\n",
       "      <td>0</td>\n",
       "      <td>0</td>\n",
       "    </tr>\n",
       "    <tr>\n",
       "      <th>2</th>\n",
       "      <td>0</td>\n",
       "      <td>0</td>\n",
       "      <td>0</td>\n",
       "      <td>0</td>\n",
       "      <td>0</td>\n",
       "      <td>0</td>\n",
       "      <td>0</td>\n",
       "      <td>0</td>\n",
       "      <td>0</td>\n",
       "      <td>0</td>\n",
       "      <td>...</td>\n",
       "      <td>0</td>\n",
       "      <td>0</td>\n",
       "      <td>0</td>\n",
       "      <td>0</td>\n",
       "      <td>0</td>\n",
       "      <td>0</td>\n",
       "      <td>0</td>\n",
       "      <td>0</td>\n",
       "      <td>0</td>\n",
       "      <td>0</td>\n",
       "    </tr>\n",
       "    <tr>\n",
       "      <th>3</th>\n",
       "      <td>0</td>\n",
       "      <td>0</td>\n",
       "      <td>0</td>\n",
       "      <td>0</td>\n",
       "      <td>0</td>\n",
       "      <td>0</td>\n",
       "      <td>0</td>\n",
       "      <td>0</td>\n",
       "      <td>0</td>\n",
       "      <td>0</td>\n",
       "      <td>...</td>\n",
       "      <td>0</td>\n",
       "      <td>0</td>\n",
       "      <td>0</td>\n",
       "      <td>0</td>\n",
       "      <td>0</td>\n",
       "      <td>0</td>\n",
       "      <td>0</td>\n",
       "      <td>0</td>\n",
       "      <td>0</td>\n",
       "      <td>0</td>\n",
       "    </tr>\n",
       "    <tr>\n",
       "      <th>4</th>\n",
       "      <td>0</td>\n",
       "      <td>0</td>\n",
       "      <td>0</td>\n",
       "      <td>0</td>\n",
       "      <td>0</td>\n",
       "      <td>0</td>\n",
       "      <td>0</td>\n",
       "      <td>0</td>\n",
       "      <td>0</td>\n",
       "      <td>0</td>\n",
       "      <td>...</td>\n",
       "      <td>0</td>\n",
       "      <td>0</td>\n",
       "      <td>0</td>\n",
       "      <td>0</td>\n",
       "      <td>0</td>\n",
       "      <td>0</td>\n",
       "      <td>0</td>\n",
       "      <td>0</td>\n",
       "      <td>0</td>\n",
       "      <td>0</td>\n",
       "    </tr>\n",
       "  </tbody>\n",
       "</table>\n",
       "<p>5 rows × 784 columns</p>\n",
       "</div>"
      ],
      "text/plain": [
       "   pixel0  pixel1  pixel2  pixel3  pixel4  pixel5  pixel6  pixel7  pixel8  \\\n",
       "0       0       0       0       0       0       0       0       0       0   \n",
       "1       0       0       0       0       0       0       0       0       0   \n",
       "2       0       0       0       0       0       0       0       0       0   \n",
       "3       0       0       0       0       0       0       0       0       0   \n",
       "4       0       0       0       0       0       0       0       0       0   \n",
       "\n",
       "   pixel9  ...  pixel774  pixel775  pixel776  pixel777  pixel778  pixel779  \\\n",
       "0       0  ...         0         0         0         0         0         0   \n",
       "1       0  ...         0         0         0         0         0         0   \n",
       "2       0  ...         0         0         0         0         0         0   \n",
       "3       0  ...         0         0         0         0         0         0   \n",
       "4       0  ...         0         0         0         0         0         0   \n",
       "\n",
       "   pixel780  pixel781  pixel782  pixel783  \n",
       "0         0         0         0         0  \n",
       "1         0         0         0         0  \n",
       "2         0         0         0         0  \n",
       "3         0         0         0         0  \n",
       "4         0         0         0         0  \n",
       "\n",
       "[5 rows x 784 columns]"
      ]
     },
     "execution_count": 2,
     "metadata": {},
     "output_type": "execute_result"
    }
   ],
   "source": [
    "test.head()"
   ]
  },
  {
   "cell_type": "code",
   "execution_count": 3,
   "id": "fc17448a",
   "metadata": {
    "execution": {
     "iopub.execute_input": "2022-09-17T22:49:03.785145Z",
     "iopub.status.busy": "2022-09-17T22:49:03.779702Z",
     "iopub.status.idle": "2022-09-17T22:49:03.787632Z",
     "shell.execute_reply": "2022-09-17T22:49:03.788273Z",
     "shell.execute_reply.started": "2022-09-17T22:04:37.457677Z"
    },
    "papermill": {
     "duration": 0.056284,
     "end_time": "2022-09-17T22:49:03.788455",
     "exception": false,
     "start_time": "2022-09-17T22:49:03.732171",
     "status": "completed"
    },
    "tags": []
   },
   "outputs": [
    {
     "data": {
      "text/html": [
       "<div>\n",
       "<style scoped>\n",
       "    .dataframe tbody tr th:only-of-type {\n",
       "        vertical-align: middle;\n",
       "    }\n",
       "\n",
       "    .dataframe tbody tr th {\n",
       "        vertical-align: top;\n",
       "    }\n",
       "\n",
       "    .dataframe thead th {\n",
       "        text-align: right;\n",
       "    }\n",
       "</style>\n",
       "<table border=\"1\" class=\"dataframe\">\n",
       "  <thead>\n",
       "    <tr style=\"text-align: right;\">\n",
       "      <th></th>\n",
       "      <th>label</th>\n",
       "      <th>pixel0</th>\n",
       "      <th>pixel1</th>\n",
       "      <th>pixel2</th>\n",
       "      <th>pixel3</th>\n",
       "      <th>pixel4</th>\n",
       "      <th>pixel5</th>\n",
       "      <th>pixel6</th>\n",
       "      <th>pixel7</th>\n",
       "      <th>pixel8</th>\n",
       "      <th>...</th>\n",
       "      <th>pixel774</th>\n",
       "      <th>pixel775</th>\n",
       "      <th>pixel776</th>\n",
       "      <th>pixel777</th>\n",
       "      <th>pixel778</th>\n",
       "      <th>pixel779</th>\n",
       "      <th>pixel780</th>\n",
       "      <th>pixel781</th>\n",
       "      <th>pixel782</th>\n",
       "      <th>pixel783</th>\n",
       "    </tr>\n",
       "  </thead>\n",
       "  <tbody>\n",
       "    <tr>\n",
       "      <th>0</th>\n",
       "      <td>1</td>\n",
       "      <td>0</td>\n",
       "      <td>0</td>\n",
       "      <td>0</td>\n",
       "      <td>0</td>\n",
       "      <td>0</td>\n",
       "      <td>0</td>\n",
       "      <td>0</td>\n",
       "      <td>0</td>\n",
       "      <td>0</td>\n",
       "      <td>...</td>\n",
       "      <td>0</td>\n",
       "      <td>0</td>\n",
       "      <td>0</td>\n",
       "      <td>0</td>\n",
       "      <td>0</td>\n",
       "      <td>0</td>\n",
       "      <td>0</td>\n",
       "      <td>0</td>\n",
       "      <td>0</td>\n",
       "      <td>0</td>\n",
       "    </tr>\n",
       "    <tr>\n",
       "      <th>1</th>\n",
       "      <td>0</td>\n",
       "      <td>0</td>\n",
       "      <td>0</td>\n",
       "      <td>0</td>\n",
       "      <td>0</td>\n",
       "      <td>0</td>\n",
       "      <td>0</td>\n",
       "      <td>0</td>\n",
       "      <td>0</td>\n",
       "      <td>0</td>\n",
       "      <td>...</td>\n",
       "      <td>0</td>\n",
       "      <td>0</td>\n",
       "      <td>0</td>\n",
       "      <td>0</td>\n",
       "      <td>0</td>\n",
       "      <td>0</td>\n",
       "      <td>0</td>\n",
       "      <td>0</td>\n",
       "      <td>0</td>\n",
       "      <td>0</td>\n",
       "    </tr>\n",
       "    <tr>\n",
       "      <th>2</th>\n",
       "      <td>1</td>\n",
       "      <td>0</td>\n",
       "      <td>0</td>\n",
       "      <td>0</td>\n",
       "      <td>0</td>\n",
       "      <td>0</td>\n",
       "      <td>0</td>\n",
       "      <td>0</td>\n",
       "      <td>0</td>\n",
       "      <td>0</td>\n",
       "      <td>...</td>\n",
       "      <td>0</td>\n",
       "      <td>0</td>\n",
       "      <td>0</td>\n",
       "      <td>0</td>\n",
       "      <td>0</td>\n",
       "      <td>0</td>\n",
       "      <td>0</td>\n",
       "      <td>0</td>\n",
       "      <td>0</td>\n",
       "      <td>0</td>\n",
       "    </tr>\n",
       "    <tr>\n",
       "      <th>3</th>\n",
       "      <td>4</td>\n",
       "      <td>0</td>\n",
       "      <td>0</td>\n",
       "      <td>0</td>\n",
       "      <td>0</td>\n",
       "      <td>0</td>\n",
       "      <td>0</td>\n",
       "      <td>0</td>\n",
       "      <td>0</td>\n",
       "      <td>0</td>\n",
       "      <td>...</td>\n",
       "      <td>0</td>\n",
       "      <td>0</td>\n",
       "      <td>0</td>\n",
       "      <td>0</td>\n",
       "      <td>0</td>\n",
       "      <td>0</td>\n",
       "      <td>0</td>\n",
       "      <td>0</td>\n",
       "      <td>0</td>\n",
       "      <td>0</td>\n",
       "    </tr>\n",
       "    <tr>\n",
       "      <th>4</th>\n",
       "      <td>0</td>\n",
       "      <td>0</td>\n",
       "      <td>0</td>\n",
       "      <td>0</td>\n",
       "      <td>0</td>\n",
       "      <td>0</td>\n",
       "      <td>0</td>\n",
       "      <td>0</td>\n",
       "      <td>0</td>\n",
       "      <td>0</td>\n",
       "      <td>...</td>\n",
       "      <td>0</td>\n",
       "      <td>0</td>\n",
       "      <td>0</td>\n",
       "      <td>0</td>\n",
       "      <td>0</td>\n",
       "      <td>0</td>\n",
       "      <td>0</td>\n",
       "      <td>0</td>\n",
       "      <td>0</td>\n",
       "      <td>0</td>\n",
       "    </tr>\n",
       "  </tbody>\n",
       "</table>\n",
       "<p>5 rows × 785 columns</p>\n",
       "</div>"
      ],
      "text/plain": [
       "   label  pixel0  pixel1  pixel2  pixel3  pixel4  pixel5  pixel6  pixel7  \\\n",
       "0      1       0       0       0       0       0       0       0       0   \n",
       "1      0       0       0       0       0       0       0       0       0   \n",
       "2      1       0       0       0       0       0       0       0       0   \n",
       "3      4       0       0       0       0       0       0       0       0   \n",
       "4      0       0       0       0       0       0       0       0       0   \n",
       "\n",
       "   pixel8  ...  pixel774  pixel775  pixel776  pixel777  pixel778  pixel779  \\\n",
       "0       0  ...         0         0         0         0         0         0   \n",
       "1       0  ...         0         0         0         0         0         0   \n",
       "2       0  ...         0         0         0         0         0         0   \n",
       "3       0  ...         0         0         0         0         0         0   \n",
       "4       0  ...         0         0         0         0         0         0   \n",
       "\n",
       "   pixel780  pixel781  pixel782  pixel783  \n",
       "0         0         0         0         0  \n",
       "1         0         0         0         0  \n",
       "2         0         0         0         0  \n",
       "3         0         0         0         0  \n",
       "4         0         0         0         0  \n",
       "\n",
       "[5 rows x 785 columns]"
      ]
     },
     "execution_count": 3,
     "metadata": {},
     "output_type": "execute_result"
    }
   ],
   "source": [
    "train.head()"
   ]
  },
  {
   "cell_type": "code",
   "execution_count": 4,
   "id": "a1117be7",
   "metadata": {
    "execution": {
     "iopub.execute_input": "2022-09-17T22:49:03.864960Z",
     "iopub.status.busy": "2022-09-17T22:49:03.864268Z",
     "iopub.status.idle": "2022-09-17T22:49:03.871639Z",
     "shell.execute_reply": "2022-09-17T22:49:03.872177Z",
     "shell.execute_reply.started": "2022-09-17T22:04:39.622415Z"
    },
    "papermill": {
     "duration": 0.047357,
     "end_time": "2022-09-17T22:49:03.872358",
     "exception": false,
     "start_time": "2022-09-17T22:49:03.825001",
     "status": "completed"
    },
    "tags": []
   },
   "outputs": [
    {
     "data": {
      "text/html": [
       "<div>\n",
       "<style scoped>\n",
       "    .dataframe tbody tr th:only-of-type {\n",
       "        vertical-align: middle;\n",
       "    }\n",
       "\n",
       "    .dataframe tbody tr th {\n",
       "        vertical-align: top;\n",
       "    }\n",
       "\n",
       "    .dataframe thead th {\n",
       "        text-align: right;\n",
       "    }\n",
       "</style>\n",
       "<table border=\"1\" class=\"dataframe\">\n",
       "  <thead>\n",
       "    <tr style=\"text-align: right;\">\n",
       "      <th></th>\n",
       "      <th>ImageId</th>\n",
       "      <th>Label</th>\n",
       "    </tr>\n",
       "  </thead>\n",
       "  <tbody>\n",
       "    <tr>\n",
       "      <th>0</th>\n",
       "      <td>1</td>\n",
       "      <td>0</td>\n",
       "    </tr>\n",
       "    <tr>\n",
       "      <th>1</th>\n",
       "      <td>2</td>\n",
       "      <td>0</td>\n",
       "    </tr>\n",
       "    <tr>\n",
       "      <th>2</th>\n",
       "      <td>3</td>\n",
       "      <td>0</td>\n",
       "    </tr>\n",
       "    <tr>\n",
       "      <th>3</th>\n",
       "      <td>4</td>\n",
       "      <td>0</td>\n",
       "    </tr>\n",
       "    <tr>\n",
       "      <th>4</th>\n",
       "      <td>5</td>\n",
       "      <td>0</td>\n",
       "    </tr>\n",
       "  </tbody>\n",
       "</table>\n",
       "</div>"
      ],
      "text/plain": [
       "   ImageId  Label\n",
       "0        1      0\n",
       "1        2      0\n",
       "2        3      0\n",
       "3        4      0\n",
       "4        5      0"
      ]
     },
     "execution_count": 4,
     "metadata": {},
     "output_type": "execute_result"
    }
   ],
   "source": [
    "sample_submission.head()"
   ]
  },
  {
   "cell_type": "markdown",
   "id": "1f434af2",
   "metadata": {
    "papermill": {
     "duration": 0.036676,
     "end_time": "2022-09-17T22:49:03.945863",
     "exception": false,
     "start_time": "2022-09-17T22:49:03.909187",
     "status": "completed"
    },
    "tags": []
   },
   "source": [
    "# Data visualization"
   ]
  },
  {
   "cell_type": "markdown",
   "id": "33c5eaf4",
   "metadata": {
    "papermill": {
     "duration": 0.036381,
     "end_time": "2022-09-17T22:49:04.019128",
     "exception": false,
     "start_time": "2022-09-17T22:49:03.982747",
     "status": "completed"
    },
    "tags": []
   },
   "source": [
    "Visualize data. Plot a sample of every digit."
   ]
  },
  {
   "cell_type": "code",
   "execution_count": 5,
   "id": "60873178",
   "metadata": {
    "execution": {
     "iopub.execute_input": "2022-09-17T22:49:04.096651Z",
     "iopub.status.busy": "2022-09-17T22:49:04.095947Z",
     "iopub.status.idle": "2022-09-17T22:49:05.325823Z",
     "shell.execute_reply": "2022-09-17T22:49:05.325263Z",
     "shell.execute_reply.started": "2022-09-17T22:04:41.930058Z"
    },
    "papermill": {
     "duration": 1.269948,
     "end_time": "2022-09-17T22:49:05.325980",
     "exception": false,
     "start_time": "2022-09-17T22:49:04.056032",
     "status": "completed"
    },
    "tags": []
   },
   "outputs": [
    {
     "data": {
      "image/png": "[encoded data removed]",
      "text/plain": [
       "<Figure size 1080x504 with 10 Axes>"
      ]
     },
     "metadata": {
      "needs_background": "light"
     },
     "output_type": "display_data"
    }
   ],
   "source": [
    "train_pixels = train.drop(columns=['label'],axis=1).to_numpy().reshape(-1,28,28)\n",
    "train_pixels.shape\n",
    "\n",
    "plt.figure(figsize=(15,7))\n",
    "for digit in range(0, 10):\n",
    "    #find first indice where training data equals digit\n",
    "     index = np.where(train['label'] == digit)[0][0]\n",
    "     plt.subplot(2,5,digit + 1)\n",
    "     plt.title(digit)\n",
    "     plt.imshow(train_pixels[index], cmap='gray')"
   ]
  },
  {
   "cell_type": "markdown",
   "id": "3b34cbdf",
   "metadata": {
    "papermill": {
     "duration": 0.038089,
     "end_time": "2022-09-17T22:49:05.402958",
     "exception": false,
     "start_time": "2022-09-17T22:49:05.364869",
     "status": "completed"
    },
    "tags": []
   },
   "source": [
    "Look at distribution of digits in dataset. "
   ]
  },
  {
   "cell_type": "code",
   "execution_count": 6,
   "id": "39c405c1",
   "metadata": {
    "execution": {
     "iopub.execute_input": "2022-09-17T22:49:05.485988Z",
     "iopub.status.busy": "2022-09-17T22:49:05.485161Z",
     "iopub.status.idle": "2022-09-17T22:49:05.717355Z",
     "shell.execute_reply": "2022-09-17T22:49:05.716525Z",
     "shell.execute_reply.started": "2022-09-17T22:04:51.394901Z"
    },
    "papermill": {
     "duration": 0.276266,
     "end_time": "2022-09-17T22:49:05.717509",
     "exception": false,
     "start_time": "2022-09-17T22:49:05.441243",
     "status": "completed"
    },
    "tags": []
   },
   "outputs": [
    {
     "data": {
      "text/plain": [
       "[Text(0.5, 1.0, 'Digit counts'), Text(0.5, 0, 'Digit'), Text(0, 0.5, 'Count')]"
      ]
     },
     "execution_count": 6,
     "metadata": {},
     "output_type": "execute_result"
    },
    {
     "data": {
      "image/png": "[encoded data removed]",
      "text/plain": [
       "<Figure size 432x288 with 1 Axes>"
      ]
     },
     "metadata": {
      "needs_background": "light"
     },
     "output_type": "display_data"
    }
   ],
   "source": [
    "sns.countplot(x = train[\"label\"]).set(title = \"Digit counts\", xlabel = \"Digit\", ylabel = \"Count\")\n"
   ]
  },
  {
   "cell_type": "markdown",
   "id": "7384b95d",
   "metadata": {
    "papermill": {
     "duration": 0.038737,
     "end_time": "2022-09-17T22:49:05.795494",
     "exception": false,
     "start_time": "2022-09-17T22:49:05.756757",
     "status": "completed"
    },
    "tags": []
   },
   "source": [
    "Training dataset seems to be fairly balanced between digits, though 1 is the most common digit."
   ]
  },
  {
   "cell_type": "markdown",
   "id": "0ae0a6c0",
   "metadata": {
    "papermill": {
     "duration": 0.039339,
     "end_time": "2022-09-17T22:49:05.874140",
     "exception": false,
     "start_time": "2022-09-17T22:49:05.834801",
     "status": "completed"
    },
    "tags": []
   },
   "source": [
    "# Data preparation"
   ]
  },
  {
   "cell_type": "markdown",
   "id": "ec203b71",
   "metadata": {
    "papermill": {
     "duration": 0.038591,
     "end_time": "2022-09-17T22:49:05.952173",
     "exception": false,
     "start_time": "2022-09-17T22:49:05.913582",
     "status": "completed"
    },
    "tags": []
   },
   "source": [
    "This dataset appears to be very clean and leads minimal processing. It would be helpful to normalize each pixel value to 0-1 before running neural network model. Currently, each pixel value ranges from 0 to 255 so an divide by 255. Use float type to convert values to float."
   ]
  },
  {
   "cell_type": "code",
   "execution_count": 7,
   "id": "742125b7",
   "metadata": {
    "execution": {
     "iopub.execute_input": "2022-09-17T22:49:06.038270Z",
     "iopub.status.busy": "2022-09-17T22:49:06.037536Z",
     "iopub.status.idle": "2022-09-17T22:49:38.577123Z",
     "shell.execute_reply": "2022-09-17T22:49:38.578194Z",
     "shell.execute_reply.started": "2022-09-17T22:04:54.260415Z"
    },
    "papermill": {
     "duration": 32.585382,
     "end_time": "2022-09-17T22:49:38.578417",
     "exception": false,
     "start_time": "2022-09-17T22:49:05.993035",
     "status": "completed"
    },
    "tags": []
   },
   "outputs": [],
   "source": [
    "train_normalized = train.copy()\n",
    "pixel_cols = train_normalized.drop('label', axis =1).columns\n",
    "train_normalized[pixel_cols] = train_normalized[pixel_cols].apply(lambda x: x/255.0)\n",
    "test_normalized = test/255.0"
   ]
  },
  {
   "cell_type": "markdown",
   "id": "63412d7e",
   "metadata": {
    "papermill": {
     "duration": 0.043035,
     "end_time": "2022-09-17T22:49:38.671320",
     "exception": false,
     "start_time": "2022-09-17T22:49:38.628285",
     "status": "completed"
    },
    "tags": []
   },
   "source": [
    "Split training data into training and validation sets. Put 75% of data into training set, 25% in validation. Make sure the proportion of digits is the same in training and validation sets."
   ]
  },
  {
   "cell_type": "code",
   "execution_count": 8,
   "id": "4eb89e07",
   "metadata": {
    "execution": {
     "iopub.execute_input": "2022-09-17T22:49:38.761370Z",
     "iopub.status.busy": "2022-09-17T22:49:38.760598Z",
     "iopub.status.idle": "2022-09-17T22:49:39.453061Z",
     "shell.execute_reply": "2022-09-17T22:49:39.452326Z",
     "shell.execute_reply.started": "2022-09-17T22:07:43.965871Z"
    },
    "papermill": {
     "duration": 0.742468,
     "end_time": "2022-09-17T22:49:39.453225",
     "exception": false,
     "start_time": "2022-09-17T22:49:38.710757",
     "status": "completed"
    },
    "tags": []
   },
   "outputs": [],
   "source": [
    "X = train_normalized.copy()\n",
    "y = X.pop('label') #take out label from X, move to y\n",
    "X_train, X_valid, y_train, y_valid = train_test_split(X, y, stratify=y, train_size=0.75)"
   ]
  },
  {
   "cell_type": "markdown",
   "id": "732c70c1",
   "metadata": {
    "papermill": {
     "duration": 0.039704,
     "end_time": "2022-09-17T22:49:39.532673",
     "exception": false,
     "start_time": "2022-09-17T22:49:39.492969",
     "status": "completed"
    },
    "tags": []
   },
   "source": [
    "# Modelling"
   ]
  },
  {
   "cell_type": "markdown",
   "id": "1cccb8f4",
   "metadata": {
    "papermill": {
     "duration": 0.040169,
     "end_time": "2022-09-17T22:49:39.612123",
     "exception": false,
     "start_time": "2022-09-17T22:49:39.571954",
     "status": "completed"
    },
    "tags": []
   },
   "source": [
    "Initialize deep neural network model. Input shape is 784 since since 784 pixel variables. Use batch normalization function to standardize data going into each activation function. Large amount of data so use 100 neurons for middle two layers in network. Use softmax activation function to convert output to probabilities of image being of each digit. Add early stopping functino to prevent overfitting."
   ]
  },
  {
   "cell_type": "code",
   "execution_count": 9,
   "id": "76be7482",
   "metadata": {
    "execution": {
     "iopub.execute_input": "2022-09-17T22:49:39.700723Z",
     "iopub.status.busy": "2022-09-17T22:49:39.696268Z",
     "iopub.status.idle": "2022-09-17T22:49:39.868155Z",
     "shell.execute_reply": "2022-09-17T22:49:39.867567Z",
     "shell.execute_reply.started": "2022-09-17T22:08:04.283041Z"
    },
    "papermill": {
     "duration": 0.215351,
     "end_time": "2022-09-17T22:49:39.868318",
     "exception": false,
     "start_time": "2022-09-17T22:49:39.652967",
     "status": "completed"
    },
    "tags": []
   },
   "outputs": [
    {
     "name": "stderr",
     "output_type": "stream",
     "text": [
      "2022-09-17 22:49:39.744937: I tensorflow/core/common_runtime/process_util.cc:146] Creating new thread pool with default inter op setting: 2. Tune using inter_op_parallelism_threads for best performance.\n"
     ]
    }
   ],
   "source": [
    "model = keras.Sequential([\n",
    "    layers.Dense(784, activation='relu', input_shape=[784]),\n",
    "    layers.BatchNormalization(),\n",
    "    layers.Dense(512, activation='relu'),\n",
    "    layers.BatchNormalization(),\n",
    "    layers.Dense(10, activation='softmax'),\n",
    "])\n",
    "#use standard adam optimizer, sparse categorical cross entropy to measure loss, accuracy as metric\n",
    "model.compile(\n",
    "    optimizer='adam',\n",
    "    loss='sparse_categorical_crossentropy',\n",
    "    metrics=['accuracy'],\n",
    ")\n",
    "\n",
    "#early stopping function, to make sure function does not overfit\n",
    "early_stopping = keras.callbacks.EarlyStopping(\n",
    "    patience=20,\n",
    "    restore_best_weights=True,\n",
    ")"
   ]
  },
  {
   "cell_type": "markdown",
   "id": "c04e4714",
   "metadata": {
    "papermill": {
     "duration": 0.0389,
     "end_time": "2022-09-17T22:49:39.948264",
     "exception": false,
     "start_time": "2022-09-17T22:49:39.909364",
     "status": "completed"
    },
    "tags": []
   },
   "source": [
    "Print out model summary."
   ]
  },
  {
   "cell_type": "code",
   "execution_count": 10,
   "id": "e64c9c50",
   "metadata": {
    "execution": {
     "iopub.execute_input": "2022-09-17T22:49:40.035283Z",
     "iopub.status.busy": "2022-09-17T22:49:40.034191Z",
     "iopub.status.idle": "2022-09-17T22:49:40.042211Z",
     "shell.execute_reply": "2022-09-17T22:49:40.041637Z",
     "shell.execute_reply.started": "2022-09-17T22:08:09.153721Z"
    },
    "papermill": {
     "duration": 0.052209,
     "end_time": "2022-09-17T22:49:40.042357",
     "exception": false,
     "start_time": "2022-09-17T22:49:39.990148",
     "status": "completed"
    },
    "tags": []
   },
   "outputs": [
    {
     "name": "stdout",
     "output_type": "stream",
     "text": [
      "Model: \"sequential\"\n",
      "_________________________________________________________________\n",
      "Layer (type)                 Output Shape              Param #   \n",
      "=================================================================\n",
      "dense (Dense)                (None, 784)               615440    \n",
      "_________________________________________________________________\n",
      "batch_normalization (BatchNo (None, 784)               3136      \n",
      "_________________________________________________________________\n",
      "dense_1 (Dense)              (None, 512)               401920    \n",
      "_________________________________________________________________\n",
      "batch_normalization_1 (Batch (None, 512)               2048      \n",
      "_________________________________________________________________\n",
      "dense_2 (Dense)              (None, 10)                5130      \n",
      "=================================================================\n",
      "Total params: 1,027,674\n",
      "Trainable params: 1,025,082\n",
      "Non-trainable params: 2,592\n",
      "_________________________________________________________________\n"
     ]
    }
   ],
   "source": [
    "model.summary()"
   ]
  },
  {
   "cell_type": "markdown",
   "id": "02781f54",
   "metadata": {
    "papermill": {
     "duration": 0.039628,
     "end_time": "2022-09-17T22:49:40.124768",
     "exception": false,
     "start_time": "2022-09-17T22:49:40.085140",
     "status": "completed"
    },
    "tags": []
   },
   "source": [
    "Fit model to digits data. Use large batch size and epochs values, but incldue early stopping to avoid overfitting."
   ]
  },
  {
   "cell_type": "code",
   "execution_count": 11,
   "id": "aa3af16c",
   "metadata": {
    "execution": {
     "iopub.execute_input": "2022-09-17T22:49:40.207872Z",
     "iopub.status.busy": "2022-09-17T22:49:40.207185Z",
     "iopub.status.idle": "2022-09-17T22:52:03.521730Z",
     "shell.execute_reply": "2022-09-17T22:52:03.522290Z",
     "shell.execute_reply.started": "2022-09-17T22:08:13.473606Z"
    },
    "papermill": {
     "duration": 143.357719,
     "end_time": "2022-09-17T22:52:03.522563",
     "exception": false,
     "start_time": "2022-09-17T22:49:40.164844",
     "status": "completed"
    },
    "tags": []
   },
   "outputs": [
    {
     "name": "stderr",
     "output_type": "stream",
     "text": [
      "2022-09-17 22:49:40.599871: I tensorflow/compiler/mlir/mlir_graph_optimization_pass.cc:185] None of the MLIR Optimization Passes are enabled (registered 2)\n"
     ]
    }
   ],
   "source": [
    "history = model.fit(\n",
    "    X_train, y_train,\n",
    "    validation_data=(X_valid, y_valid),\n",
    "    callbacks = [early_stopping],\n",
    "    epochs=20,\n",
    "    verbose=0,\n",
    ")"
   ]
  },
  {
   "cell_type": "markdown",
   "id": "f788b115",
   "metadata": {
    "papermill": {
     "duration": 0.041409,
     "end_time": "2022-09-17T22:52:03.606040",
     "exception": false,
     "start_time": "2022-09-17T22:52:03.564631",
     "status": "completed"
    },
    "tags": []
   },
   "source": [
    "Calculate evaluation statistics to measure model performance."
   ]
  },
  {
   "cell_type": "code",
   "execution_count": 12,
   "id": "3f017784",
   "metadata": {
    "execution": {
     "iopub.execute_input": "2022-09-17T22:52:03.694329Z",
     "iopub.status.busy": "2022-09-17T22:52:03.693640Z",
     "iopub.status.idle": "2022-09-17T22:52:04.737819Z",
     "shell.execute_reply": "2022-09-17T22:52:04.737164Z",
     "shell.execute_reply.started": "2022-09-17T22:11:29.117096Z"
    },
    "papermill": {
     "duration": 1.090475,
     "end_time": "2022-09-17T22:52:04.737999",
     "exception": false,
     "start_time": "2022-09-17T22:52:03.647524",
     "status": "completed"
    },
    "tags": []
   },
   "outputs": [
    {
     "name": "stdout",
     "output_type": "stream",
     "text": [
      "329/329 [==============================] - 1s 2ms/step - loss: 0.1244 - accuracy: 0.9764\n"
     ]
    },
    {
     "data": {
      "text/plain": [
       "[0.1244497150182724, 0.9763809442520142]"
      ]
     },
     "execution_count": 12,
     "metadata": {},
     "output_type": "execute_result"
    }
   ],
   "source": [
    "model.evaluate(X_valid, y_valid)"
   ]
  },
  {
   "cell_type": "markdown",
   "id": "43d43056",
   "metadata": {
    "papermill": {
     "duration": 0.046476,
     "end_time": "2022-09-17T22:52:04.831889",
     "exception": false,
     "start_time": "2022-09-17T22:52:04.785413",
     "status": "completed"
    },
    "tags": []
   },
   "source": [
    "Look at learning curves for model prediction."
   ]
  },
  {
   "cell_type": "code",
   "execution_count": 13,
   "id": "04ac3800",
   "metadata": {
    "execution": {
     "iopub.execute_input": "2022-09-17T22:52:04.934702Z",
     "iopub.status.busy": "2022-09-17T22:52:04.933982Z",
     "iopub.status.idle": "2022-09-17T22:52:05.405621Z",
     "shell.execute_reply": "2022-09-17T22:52:05.405018Z",
     "shell.execute_reply.started": "2022-09-17T22:11:34.116623Z"
    },
    "papermill": {
     "duration": 0.526789,
     "end_time": "2022-09-17T22:52:05.405793",
     "exception": false,
     "start_time": "2022-09-17T22:52:04.879004",
     "status": "completed"
    },
    "tags": []
   },
   "outputs": [
    {
     "name": "stdout",
     "output_type": "stream",
     "text": [
      "Best Validation Loss: 0.0937\n",
      "Best Validation Accuracy: 0.9793\n"
     ]
    },
    {
     "data": {
      "image/png": "[encoded data removed]",
      "text/plain": [
       "<Figure size 432x288 with 1 Axes>"
      ]
     },
     "metadata": {
      "needs_background": "light"
     },
     "output_type": "display_data"
    },
    {
     "data": {
      "image/png": "[encoded data removed]",
      "text/plain": [
       "<Figure size 432x288 with 1 Axes>"
      ]
     },
     "metadata": {
      "needs_background": "light"
     },
     "output_type": "display_data"
    }
   ],
   "source": [
    "history_df = pd.DataFrame(history.history)\n",
    "# Start the plot at epoch 5\n",
    "history_df.loc[:, ['loss', 'val_loss']].plot()\n",
    "history_df.loc[:, ['accuracy', 'val_accuracy']].plot()\n",
    "\n",
    "print((\"Best Validation Loss: {:0.4f}\" +\\\n",
    "      \"\\nBest Validation Accuracy: {:0.4f}\")\\\n",
    "      .format(history_df['val_loss'].min(), \n",
    "              history_df['val_accuracy'].max()))"
   ]
  },
  {
   "cell_type": "markdown",
   "id": "8cd6f604",
   "metadata": {
    "papermill": {
     "duration": 0.049314,
     "end_time": "2022-09-17T22:52:05.504925",
     "exception": false,
     "start_time": "2022-09-17T22:52:05.455611",
     "status": "completed"
    },
    "tags": []
   },
   "source": [
    "# CNN model"
   ]
  },
  {
   "cell_type": "markdown",
   "id": "80b10ba6",
   "metadata": {
    "papermill": {
     "duration": 0.049284,
     "end_time": "2022-09-17T22:52:05.603777",
     "exception": false,
     "start_time": "2022-09-17T22:52:05.554493",
     "status": "completed"
    },
    "tags": []
   },
   "source": [
    "Try running convolutional neural networks model, which are efficient for image processing."
   ]
  },
  {
   "cell_type": "code",
   "execution_count": 14,
   "id": "ba6c4b5a",
   "metadata": {
    "execution": {
     "iopub.execute_input": "2022-09-17T22:52:05.721944Z",
     "iopub.status.busy": "2022-09-17T22:52:05.711086Z",
     "iopub.status.idle": "2022-09-17T22:52:05.858922Z",
     "shell.execute_reply": "2022-09-17T22:52:05.857726Z",
     "shell.execute_reply.started": "2022-09-17T22:11:42.271678Z"
    },
    "papermill": {
     "duration": 0.205727,
     "end_time": "2022-09-17T22:52:05.859092",
     "exception": false,
     "start_time": "2022-09-17T22:52:05.653365",
     "status": "completed"
    },
    "tags": []
   },
   "outputs": [],
   "source": [
    "\n",
    "model = Sequential([\n",
    "    layers.Convolution2D(32,(3,3), activation='relu', input_shape = (28, 28, 1)),\n",
    "    layers.BatchNormalization(axis=1),\n",
    "    layers.Convolution2D(32,(3,3), activation='relu'),\n",
    "    layers.MaxPooling2D(),\n",
    "    layers.BatchNormalization(axis=1),\n",
    "    layers.Convolution2D(64,(3,3), activation='relu'),\n",
    "    layers.BatchNormalization(axis=1),\n",
    "    layers.Convolution2D(64,(3,3), activation='relu'),\n",
    "    layers.MaxPooling2D(),\n",
    "    layers.Flatten(),\n",
    "    layers.BatchNormalization(),\n",
    "    layers.Dense(512, activation='relu'),\n",
    "    layers.BatchNormalization(),\n",
    "    layers.Dense(10, activation='softmax')\n",
    "    ])\n",
    "\n",
    "model.compile(optimizer = \"adam\", loss='categorical_crossentropy',\n",
    "                  metrics=['accuracy'])\n",
    "early_stopping = keras.callbacks.EarlyStopping(\n",
    "    patience=10,\n",
    "    restore_best_weights=True,\n",
    ")\n"
   ]
  },
  {
   "cell_type": "markdown",
   "id": "7eeb5d24",
   "metadata": {
    "papermill": {
     "duration": 0.051623,
     "end_time": "2022-09-17T22:52:05.961406",
     "exception": false,
     "start_time": "2022-09-17T22:52:05.909783",
     "status": "completed"
    },
    "tags": []
   },
   "source": [
    "Transofmr data for input into convolutional neural networks model. Need data to be in shape (batch_size, height, width, depth) so (31500 observations, 28 rows, 28 rows, 1 black/white scale). "
   ]
  },
  {
   "cell_type": "code",
   "execution_count": 15,
   "id": "5e5366c8",
   "metadata": {
    "execution": {
     "iopub.execute_input": "2022-09-17T22:52:06.068863Z",
     "iopub.status.busy": "2022-09-17T22:52:06.067804Z",
     "iopub.status.idle": "2022-09-17T22:52:06.070351Z",
     "shell.execute_reply": "2022-09-17T22:52:06.070930Z",
     "shell.execute_reply.started": "2022-09-17T22:11:46.706321Z"
    },
    "papermill": {
     "duration": 0.059371,
     "end_time": "2022-09-17T22:52:06.071120",
     "exception": false,
     "start_time": "2022-09-17T22:52:06.011749",
     "status": "completed"
    },
    "tags": []
   },
   "outputs": [],
   "source": [
    "X_train_expanded = X_train.to_numpy().reshape(-1, 28, 28, 1)\n",
    "X_valid_expanded = X_valid.to_numpy().reshape(-1, 28, 28, 1)\n",
    "test_expanded = test.to_numpy().reshape(-1, 28, 28, 1)\n"
   ]
  },
  {
   "cell_type": "markdown",
   "id": "b48f473f",
   "metadata": {
    "papermill": {
     "duration": 0.049013,
     "end_time": "2022-09-17T22:52:06.169776",
     "exception": false,
     "start_time": "2022-09-17T22:52:06.120763",
     "status": "completed"
    },
    "tags": []
   },
   "source": [
    "One-hot encode labels since values we are trying to predict are finite digits."
   ]
  },
  {
   "cell_type": "code",
   "execution_count": 16,
   "id": "d10331ab",
   "metadata": {
    "execution": {
     "iopub.execute_input": "2022-09-17T22:52:06.274499Z",
     "iopub.status.busy": "2022-09-17T22:52:06.273445Z",
     "iopub.status.idle": "2022-09-17T22:52:06.277261Z",
     "shell.execute_reply": "2022-09-17T22:52:06.277947Z",
     "shell.execute_reply.started": "2022-09-17T22:11:50.610365Z"
    },
    "papermill": {
     "duration": 0.058584,
     "end_time": "2022-09-17T22:52:06.278155",
     "exception": false,
     "start_time": "2022-09-17T22:52:06.219571",
     "status": "completed"
    },
    "tags": []
   },
   "outputs": [],
   "source": [
    "y_train = to_categorical(y_train, num_classes = 10)\n",
    "y_valid = to_categorical(y_valid, num_classes = 10)"
   ]
  },
  {
   "cell_type": "code",
   "execution_count": 17,
   "id": "5ca4289f",
   "metadata": {
    "execution": {
     "iopub.execute_input": "2022-09-17T22:52:06.384658Z",
     "iopub.status.busy": "2022-09-17T22:52:06.383619Z",
     "iopub.status.idle": "2022-09-17T22:55:04.759342Z",
     "shell.execute_reply": "2022-09-17T22:55:04.758662Z",
     "shell.execute_reply.started": "2022-09-17T22:26:06.129702Z"
    },
    "papermill": {
     "duration": 178.430307,
     "end_time": "2022-09-17T22:55:04.759515",
     "exception": false,
     "start_time": "2022-09-17T22:52:06.329208",
     "status": "completed"
    },
    "tags": []
   },
   "outputs": [],
   "source": [
    "history = model.fit(\n",
    "    X_train_expanded, y_train,\n",
    "    validation_data=(X_valid_expanded, y_valid),\n",
    "    epochs=5,\n",
    "    verbose=0,\n",
    ")\n",
    "\n"
   ]
  },
  {
   "cell_type": "code",
   "execution_count": 18,
   "id": "4ebb449c",
   "metadata": {
    "execution": {
     "iopub.execute_input": "2022-09-17T22:55:04.862584Z",
     "iopub.status.busy": "2022-09-17T22:55:04.861933Z",
     "iopub.status.idle": "2022-09-17T22:55:08.261910Z",
     "shell.execute_reply": "2022-09-17T22:55:08.262537Z",
     "shell.execute_reply.started": "2022-09-17T22:30:33.439310Z"
    },
    "papermill": {
     "duration": 3.452937,
     "end_time": "2022-09-17T22:55:08.262748",
     "exception": false,
     "start_time": "2022-09-17T22:55:04.809811",
     "status": "completed"
    },
    "tags": []
   },
   "outputs": [
    {
     "name": "stdout",
     "output_type": "stream",
     "text": [
      "329/329 [==============================] - 3s 10ms/step - loss: 0.0431 - accuracy: 0.9868\n"
     ]
    },
    {
     "data": {
      "text/plain": [
       "[0.04305548593401909, 0.9867619276046753]"
      ]
     },
     "execution_count": 18,
     "metadata": {},
     "output_type": "execute_result"
    }
   ],
   "source": [
    "model.evaluate(X_valid_expanded, y_valid)"
   ]
  },
  {
   "cell_type": "code",
   "execution_count": 19,
   "id": "36e6a9d9",
   "metadata": {
    "execution": {
     "iopub.execute_input": "2022-09-17T22:55:08.414786Z",
     "iopub.status.busy": "2022-09-17T22:55:08.413564Z",
     "iopub.status.idle": "2022-09-17T22:55:08.863527Z",
     "shell.execute_reply": "2022-09-17T22:55:08.862958Z",
     "shell.execute_reply.started": "2022-09-17T22:34:52.560826Z"
    },
    "papermill": {
     "duration": 0.528443,
     "end_time": "2022-09-17T22:55:08.863701",
     "exception": false,
     "start_time": "2022-09-17T22:55:08.335258",
     "status": "completed"
    },
    "tags": []
   },
   "outputs": [
    {
     "name": "stdout",
     "output_type": "stream",
     "text": [
      "Best Validation Loss: 0.0431\n",
      "Best Validation Accuracy: 0.9868\n"
     ]
    },
    {
     "data": {
      "image/png": "[encoded data removed]",
      "text/plain": [
       "<Figure size 432x288 with 1 Axes>"
      ]
     },
     "metadata": {
      "needs_background": "light"
     },
     "output_type": "display_data"
    },
    {
     "data": {
      "image/png": "[encoded data removed]",
      "text/plain": [
       "<Figure size 432x288 with 1 Axes>"
      ]
     },
     "metadata": {
      "needs_background": "light"
     },
     "output_type": "display_data"
    }
   ],
   "source": [
    "history_df = pd.DataFrame(history.history)\n",
    "history_df.loc[:, ['loss', 'val_loss']].plot()\n",
    "history_df.loc[:, ['accuracy', 'val_accuracy']].plot()\n",
    "\n",
    "print((\"Best Validation Loss: {:0.4f}\" +\\\n",
    "      \"\\nBest Validation Accuracy: {:0.4f}\")\\\n",
    "      .format(history_df['val_loss'].min(), \n",
    "              history_df['val_accuracy'].max()))"
   ]
  },
  {
   "cell_type": "markdown",
   "id": "12505706",
   "metadata": {
    "papermill": {
     "duration": 0.073569,
     "end_time": "2022-09-17T22:55:09.011588",
     "exception": false,
     "start_time": "2022-09-17T22:55:08.938019",
     "status": "completed"
    },
    "tags": []
   },
   "source": [
    "# Add more images to training dataset to fine tune model"
   ]
  },
  {
   "cell_type": "markdown",
   "id": "bd5d2537",
   "metadata": {
    "papermill": {
     "duration": 0.073491,
     "end_time": "2022-09-17T22:55:09.159565",
     "exception": false,
     "start_time": "2022-09-17T22:55:09.086074",
     "status": "completed"
    },
    "tags": []
   },
   "source": [
    "Convolutional neural network model has a higher training and validation score than the simpler deep neural network model. I will add more images to the training dataset to improve the score further."
   ]
  },
  {
   "cell_type": "code",
   "execution_count": 20,
   "id": "bff6d176",
   "metadata": {
    "execution": {
     "iopub.execute_input": "2022-09-17T22:55:09.310740Z",
     "iopub.status.busy": "2022-09-17T22:55:09.309996Z",
     "iopub.status.idle": "2022-09-17T22:55:54.347353Z",
     "shell.execute_reply": "2022-09-17T22:55:54.347929Z",
     "shell.execute_reply.started": "2022-09-17T22:40:42.564358Z"
    },
    "papermill": {
     "duration": 45.114726,
     "end_time": "2022-09-17T22:55:54.348137",
     "exception": false,
     "start_time": "2022-09-17T22:55:09.233411",
     "status": "completed"
    },
    "tags": []
   },
   "outputs": [
    {
     "name": "stderr",
     "output_type": "stream",
     "text": [
      "/opt/conda/lib/python3.7/site-packages/keras/engine/training.py:1972: UserWarning: `Model.fit_generator` is deprecated and will be removed in a future version. Please use `Model.fit`, which supports generators.\n",
      "  warnings.warn('`Model.fit_generator` is deprecated and '\n"
     ]
    },
    {
     "name": "stdout",
     "output_type": "stream",
     "text": [
      "31500/31500 [==============================] - 45s 1ms/step - loss: 0.0636 - accuracy: 0.9810 - val_loss: 0.0553 - val_accuracy: 0.9839\n"
     ]
    }
   ],
   "source": [
    "gen = image.ImageDataGenerator()\n",
    "gen =ImageDataGenerator(rotation_range=8, width_shift_range=0.08, shear_range=0.3,\n",
    "                               height_shift_range=0.08, zoom_range=0.08)\n",
    "batches = gen.flow(X_train_expanded, y_train, batch_size=64)\n",
    "val_batches = gen.flow(X_valid_expanded, y_valid, batch_size=64)\n",
    "history=model.fit_generator(generator=batches, steps_per_epoch=batches.n, epochs=1, \n",
    "                    validation_data=val_batches, validation_steps=val_batches.n)\n"
   ]
  },
  {
   "cell_type": "markdown",
   "id": "79e28ab8",
   "metadata": {
    "papermill": {
     "duration": 0.244622,
     "end_time": "2022-09-17T22:55:54.838516",
     "exception": false,
     "start_time": "2022-09-17T22:55:54.593894",
     "status": "completed"
    },
    "tags": []
   },
   "source": [
    "# Use model to make predictions and submit"
   ]
  },
  {
   "cell_type": "markdown",
   "id": "527c0511",
   "metadata": {
    "papermill": {
     "duration": 0.246319,
     "end_time": "2022-09-17T22:55:55.333488",
     "exception": false,
     "start_time": "2022-09-17T22:55:55.087169",
     "status": "completed"
    },
    "tags": []
   },
   "source": [
    "Calculate predictions."
   ]
  },
  {
   "cell_type": "code",
   "execution_count": 21,
   "id": "2741648e",
   "metadata": {
    "execution": {
     "iopub.execute_input": "2022-09-17T22:55:55.831252Z",
     "iopub.status.busy": "2022-09-17T22:55:55.830114Z",
     "iopub.status.idle": "2022-09-17T22:56:04.518765Z",
     "shell.execute_reply": "2022-09-17T22:56:04.519282Z",
     "shell.execute_reply.started": "2022-09-17T22:36:07.616577Z"
    },
    "papermill": {
     "duration": 8.939853,
     "end_time": "2022-09-17T22:56:04.519474",
     "exception": false,
     "start_time": "2022-09-17T22:55:55.579621",
     "status": "completed"
    },
    "tags": []
   },
   "outputs": [
    {
     "data": {
      "text/plain": [
       "array([2, 0, 9, ..., 3, 9, 2])"
      ]
     },
     "execution_count": 21,
     "metadata": {},
     "output_type": "execute_result"
    }
   ],
   "source": [
    "#model.predict df has 10 columns, each representing a digit and probability \n",
    "#return digit with highest probability for each row\n",
    "preds = np.argmax(model.predict(test_expanded), axis = 1)\n",
    "preds\n"
   ]
  },
  {
   "cell_type": "markdown",
   "id": "3671e978",
   "metadata": {
    "papermill": {
     "duration": 0.243338,
     "end_time": "2022-09-17T22:56:05.006935",
     "exception": false,
     "start_time": "2022-09-17T22:56:04.763597",
     "status": "completed"
    },
    "tags": []
   },
   "source": [
    "View predictions on random sample of nine images to confirm model working as expected."
   ]
  },
  {
   "cell_type": "code",
   "execution_count": 22,
   "id": "bc077c01",
   "metadata": {
    "execution": {
     "iopub.execute_input": "2022-09-17T22:56:05.504273Z",
     "iopub.status.busy": "2022-09-17T22:56:05.503574Z",
     "iopub.status.idle": "2022-09-17T22:56:06.558273Z",
     "shell.execute_reply": "2022-09-17T22:56:06.557706Z",
     "shell.execute_reply.started": "2022-09-17T22:36:22.185063Z"
    },
    "papermill": {
     "duration": 1.304297,
     "end_time": "2022-09-17T22:56:06.558433",
     "exception": false,
     "start_time": "2022-09-17T22:56:05.254136",
     "status": "completed"
    },
    "tags": []
   },
   "outputs": [
    {
     "data": {
      "image/png": "[encoded data removed]",
      "text/plain": [
       "<Figure size 720x864 with 9 Axes>"
      ]
     },
     "metadata": {
      "needs_background": "light"
     },
     "output_type": "display_data"
    }
   ],
   "source": [
    "import random\n",
    "test_pixels = test.to_numpy().reshape(len(test),28,28)\n",
    "plt.figure(figsize=(10,12))\n",
    "for index, row_num in enumerate(random.sample(range(0,len(test)), 9), start=1):\n",
    "    plt.subplot(3,3,index)\n",
    "    #add images to plot\n",
    "    img_data = test_pixels[row_num]\n",
    "    plt.imshow(img_data, cmap='gray')\n",
    "    #add prediction to plot\n",
    "    plt.xlabel('Predicted digit: ' + str(preds[row_num]))\n",
    "\n"
   ]
  },
  {
   "cell_type": "markdown",
   "id": "7238b1bf",
   "metadata": {
    "papermill": {
     "duration": 0.249853,
     "end_time": "2022-09-17T22:56:07.056445",
     "exception": false,
     "start_time": "2022-09-17T22:56:06.806592",
     "status": "completed"
    },
    "tags": []
   },
   "source": [
    "Output predictions for submission to competition."
   ]
  },
  {
   "cell_type": "code",
   "execution_count": 23,
   "id": "ebeb6efb",
   "metadata": {
    "execution": {
     "iopub.execute_input": "2022-09-17T22:56:07.558617Z",
     "iopub.status.busy": "2022-09-17T22:56:07.557893Z",
     "iopub.status.idle": "2022-09-17T22:56:07.598158Z",
     "shell.execute_reply": "2022-09-17T22:56:07.598676Z",
     "shell.execute_reply.started": "2022-09-17T22:36:26.644638Z"
    },
    "papermill": {
     "duration": 0.293239,
     "end_time": "2022-09-17T22:56:07.598894",
     "exception": false,
     "start_time": "2022-09-17T22:56:07.305655",
     "status": "completed"
    },
    "tags": []
   },
   "outputs": [
    {
     "name": "stdout",
     "output_type": "stream",
     "text": [
      "Your submission was successfully saved!\n"
     ]
    }
   ],
   "source": [
    "output = pd.DataFrame({'ImageId': test.index+1, 'Label': preds})\n",
    "output.to_csv('submission.csv',index=False)\n",
    "print(\"Your submission was successfully saved!\")"
   ]
  }
 ],
 "metadata": {
  "kernelspec": {
   "display_name": "Python 3",
   "language": "python",
   "name": "python3"
  },
  "language_info": {
   "codemirror_mode": {
    "name": "ipython",
    "version": 3
   },
   "file_extension": ".py",
   "mimetype": "text/x-python",
   "name": "python",
   "nbconvert_exporter": "python",
   "pygments_lexer": "ipython3",
   "version": "3.7.12"
  },
  "papermill": {
   "default_parameters": {},
   "duration": 450.874809,
   "end_time": "2022-09-17T22:56:11.095101",
   "environment_variables": {},
   "exception": null,
   "input_path": "__notebook__.ipynb",
   "output_path": "__notebook__.ipynb",
   "parameters": {},
   "start_time": "2022-09-17T22:48:40.220292",
   "version": "2.3.3"
  }
 },
 "nbformat": 4,
 "nbformat_minor": 5
}
