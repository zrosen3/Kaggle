{
 "cells": [
  {
   "cell_type": "markdown",
   "id": "034b8d76",
   "metadata": {
    "papermill": {
     "duration": 0.034037,
     "end_time": "2022-09-17T13:53:54.208728",
     "exception": false,
     "start_time": "2022-09-17T13:53:54.174691",
     "status": "completed"
    },
    "tags": []
   },
   "source": [
    "# Set up"
   ]
  },
  {
   "cell_type": "code",
   "execution_count": 1,
   "id": "b2e351ad",
   "metadata": {
    "execution": {
     "iopub.execute_input": "2022-09-17T13:53:54.278259Z",
     "iopub.status.busy": "2022-09-17T13:53:54.276989Z",
     "iopub.status.idle": "2022-09-17T13:54:08.382406Z",
     "shell.execute_reply": "2022-09-17T13:54:08.382930Z",
     "shell.execute_reply.started": "2022-09-17T13:32:37.272441Z"
    },
    "papermill": {
     "duration": 14.142317,
     "end_time": "2022-09-17T13:54:08.383279",
     "exception": false,
     "start_time": "2022-09-17T13:53:54.240962",
     "status": "completed"
    },
    "tags": []
   },
   "outputs": [],
   "source": [
    "#load in libraries\n",
    "import tensorflow as tf\n",
    "import numpy as np\n",
    "import matplotlib.pyplot as plt\n",
    "import seaborn as sns\n",
    "from tensorflow import keras\n",
    "from tensorflow.keras import layers\n",
    "import pandas as pd\n",
    "from sklearn.model_selection import train_test_split\n",
    "from keras.layers import Convolution2D, MaxPooling2D\n",
    "from keras.models import Sequential\n",
    "from keras.layers import Dense , Dropout , Lambda, Flatten\n",
    "\n",
    "#load data files \n",
    "test = pd.read_csv(\"../input/digit-recognizer/test.csv\")\n",
    "train = pd.read_csv(\"../input/digit-recognizer/train.csv\")\n",
    "sample_submission = pd.read_csv(\"../input/digit-recognizer/sample_submission.csv\")"
   ]
  },
  {
   "cell_type": "markdown",
   "id": "44832328",
   "metadata": {
    "papermill": {
     "duration": 0.031351,
     "end_time": "2022-09-17T13:54:08.446958",
     "exception": false,
     "start_time": "2022-09-17T13:54:08.415607",
     "status": "completed"
    },
    "tags": []
   },
   "source": [
    "Look at structure of each dataset. Pixel intensities are represented as integers from 1 to 255. 1 is the lightest value while 255 is the darkest value. Each image is 28 pixels wide x 28 pixels long = 784 pixels in total. The label value gives the digit which each drawing represents."
   ]
  },
  {
   "cell_type": "code",
   "execution_count": 2,
   "id": "009e99b9",
   "metadata": {
    "execution": {
     "iopub.execute_input": "2022-09-17T13:54:08.521728Z",
     "iopub.status.busy": "2022-09-17T13:54:08.521011Z",
     "iopub.status.idle": "2022-09-17T13:54:08.544701Z",
     "shell.execute_reply": "2022-09-17T13:54:08.545244Z",
     "shell.execute_reply.started": "2022-09-17T13:20:40.897311Z"
    },
    "papermill": {
     "duration": 0.066038,
     "end_time": "2022-09-17T13:54:08.545422",
     "exception": false,
     "start_time": "2022-09-17T13:54:08.479384",
     "status": "completed"
    },
    "tags": []
   },
   "outputs": [
    {
     "data": {
      "text/html": [
       "<div>\n",
       "<style scoped>\n",
       "    .dataframe tbody tr th:only-of-type {\n",
       "        vertical-align: middle;\n",
       "    }\n",
       "\n",
       "    .dataframe tbody tr th {\n",
       "        vertical-align: top;\n",
       "    }\n",
       "\n",
       "    .dataframe thead th {\n",
       "        text-align: right;\n",
       "    }\n",
       "</style>\n",
       "<table border=\"1\" class=\"dataframe\">\n",
       "  <thead>\n",
       "    <tr style=\"text-align: right;\">\n",
       "      <th></th>\n",
       "      <th>pixel0</th>\n",
       "      <th>pixel1</th>\n",
       "      <th>pixel2</th>\n",
       "      <th>pixel3</th>\n",
       "      <th>pixel4</th>\n",
       "      <th>pixel5</th>\n",
       "      <th>pixel6</th>\n",
       "      <th>pixel7</th>\n",
       "      <th>pixel8</th>\n",
       "      <th>pixel9</th>\n",
       "      <th>...</th>\n",
       "      <th>pixel774</th>\n",
       "      <th>pixel775</th>\n",
       "      <th>pixel776</th>\n",
       "      <th>pixel777</th>\n",
       "      <th>pixel778</th>\n",
       "      <th>pixel779</th>\n",
       "      <th>pixel780</th>\n",
       "      <th>pixel781</th>\n",
       "      <th>pixel782</th>\n",
       "      <th>pixel783</th>\n",
       "    </tr>\n",
       "  </thead>\n",
       "  <tbody>\n",
       "    <tr>\n",
       "      <th>0</th>\n",
       "      <td>0</td>\n",
       "      <td>0</td>\n",
       "      <td>0</td>\n",
       "      <td>0</td>\n",
       "      <td>0</td>\n",
       "      <td>0</td>\n",
       "      <td>0</td>\n",
       "      <td>0</td>\n",
       "      <td>0</td>\n",
       "      <td>0</td>\n",
       "      <td>...</td>\n",
       "      <td>0</td>\n",
       "      <td>0</td>\n",
       "      <td>0</td>\n",
       "      <td>0</td>\n",
       "      <td>0</td>\n",
       "      <td>0</td>\n",
       "      <td>0</td>\n",
       "      <td>0</td>\n",
       "      <td>0</td>\n",
       "      <td>0</td>\n",
       "    </tr>\n",
       "    <tr>\n",
       "      <th>1</th>\n",
       "      <td>0</td>\n",
       "      <td>0</td>\n",
       "      <td>0</td>\n",
       "      <td>0</td>\n",
       "      <td>0</td>\n",
       "      <td>0</td>\n",
       "      <td>0</td>\n",
       "      <td>0</td>\n",
       "      <td>0</td>\n",
       "      <td>0</td>\n",
       "      <td>...</td>\n",
       "      <td>0</td>\n",
       "      <td>0</td>\n",
       "      <td>0</td>\n",
       "      <td>0</td>\n",
       "      <td>0</td>\n",
       "      <td>0</td>\n",
       "      <td>0</td>\n",
       "      <td>0</td>\n",
       "      <td>0</td>\n",
       "      <td>0</td>\n",
       "    </tr>\n",
       "    <tr>\n",
       "      <th>2</th>\n",
       "      <td>0</td>\n",
       "      <td>0</td>\n",
       "      <td>0</td>\n",
       "      <td>0</td>\n",
       "      <td>0</td>\n",
       "      <td>0</td>\n",
       "      <td>0</td>\n",
       "      <td>0</td>\n",
       "      <td>0</td>\n",
       "      <td>0</td>\n",
       "      <td>...</td>\n",
       "      <td>0</td>\n",
       "      <td>0</td>\n",
       "      <td>0</td>\n",
       "      <td>0</td>\n",
       "      <td>0</td>\n",
       "      <td>0</td>\n",
       "      <td>0</td>\n",
       "      <td>0</td>\n",
       "      <td>0</td>\n",
       "      <td>0</td>\n",
       "    </tr>\n",
       "    <tr>\n",
       "      <th>3</th>\n",
       "      <td>0</td>\n",
       "      <td>0</td>\n",
       "      <td>0</td>\n",
       "      <td>0</td>\n",
       "      <td>0</td>\n",
       "      <td>0</td>\n",
       "      <td>0</td>\n",
       "      <td>0</td>\n",
       "      <td>0</td>\n",
       "      <td>0</td>\n",
       "      <td>...</td>\n",
       "      <td>0</td>\n",
       "      <td>0</td>\n",
       "      <td>0</td>\n",
       "      <td>0</td>\n",
       "      <td>0</td>\n",
       "      <td>0</td>\n",
       "      <td>0</td>\n",
       "      <td>0</td>\n",
       "      <td>0</td>\n",
       "      <td>0</td>\n",
       "    </tr>\n",
       "    <tr>\n",
       "      <th>4</th>\n",
       "      <td>0</td>\n",
       "      <td>0</td>\n",
       "      <td>0</td>\n",
       "      <td>0</td>\n",
       "      <td>0</td>\n",
       "      <td>0</td>\n",
       "      <td>0</td>\n",
       "      <td>0</td>\n",
       "      <td>0</td>\n",
       "      <td>0</td>\n",
       "      <td>...</td>\n",
       "      <td>0</td>\n",
       "      <td>0</td>\n",
       "      <td>0</td>\n",
       "      <td>0</td>\n",
       "      <td>0</td>\n",
       "      <td>0</td>\n",
       "      <td>0</td>\n",
       "      <td>0</td>\n",
       "      <td>0</td>\n",
       "      <td>0</td>\n",
       "    </tr>\n",
       "  </tbody>\n",
       "</table>\n",
       "<p>5 rows × 784 columns</p>\n",
       "</div>"
      ],
      "text/plain": [
       "   pixel0  pixel1  pixel2  pixel3  pixel4  pixel5  pixel6  pixel7  pixel8  \\\n",
       "0       0       0       0       0       0       0       0       0       0   \n",
       "1       0       0       0       0       0       0       0       0       0   \n",
       "2       0       0       0       0       0       0       0       0       0   \n",
       "3       0       0       0       0       0       0       0       0       0   \n",
       "4       0       0       0       0       0       0       0       0       0   \n",
       "\n",
       "   pixel9  ...  pixel774  pixel775  pixel776  pixel777  pixel778  pixel779  \\\n",
       "0       0  ...         0         0         0         0         0         0   \n",
       "1       0  ...         0         0         0         0         0         0   \n",
       "2       0  ...         0         0         0         0         0         0   \n",
       "3       0  ...         0         0         0         0         0         0   \n",
       "4       0  ...         0         0         0         0         0         0   \n",
       "\n",
       "   pixel780  pixel781  pixel782  pixel783  \n",
       "0         0         0         0         0  \n",
       "1         0         0         0         0  \n",
       "2         0         0         0         0  \n",
       "3         0         0         0         0  \n",
       "4         0         0         0         0  \n",
       "\n",
       "[5 rows x 784 columns]"
      ]
     },
     "execution_count": 2,
     "metadata": {},
     "output_type": "execute_result"
    }
   ],
   "source": [
    "test.head()"
   ]
  },
  {
   "cell_type": "code",
   "execution_count": 3,
   "id": "1feea77b",
   "metadata": {
    "execution": {
     "iopub.execute_input": "2022-09-17T13:54:08.629969Z",
     "iopub.status.busy": "2022-09-17T13:54:08.628980Z",
     "iopub.status.idle": "2022-09-17T13:54:08.633572Z",
     "shell.execute_reply": "2022-09-17T13:54:08.632981Z",
     "shell.execute_reply.started": "2022-09-17T13:20:40.930412Z"
    },
    "papermill": {
     "duration": 0.055134,
     "end_time": "2022-09-17T13:54:08.633731",
     "exception": false,
     "start_time": "2022-09-17T13:54:08.578597",
     "status": "completed"
    },
    "tags": []
   },
   "outputs": [
    {
     "data": {
      "text/html": [
       "<div>\n",
       "<style scoped>\n",
       "    .dataframe tbody tr th:only-of-type {\n",
       "        vertical-align: middle;\n",
       "    }\n",
       "\n",
       "    .dataframe tbody tr th {\n",
       "        vertical-align: top;\n",
       "    }\n",
       "\n",
       "    .dataframe thead th {\n",
       "        text-align: right;\n",
       "    }\n",
       "</style>\n",
       "<table border=\"1\" class=\"dataframe\">\n",
       "  <thead>\n",
       "    <tr style=\"text-align: right;\">\n",
       "      <th></th>\n",
       "      <th>label</th>\n",
       "      <th>pixel0</th>\n",
       "      <th>pixel1</th>\n",
       "      <th>pixel2</th>\n",
       "      <th>pixel3</th>\n",
       "      <th>pixel4</th>\n",
       "      <th>pixel5</th>\n",
       "      <th>pixel6</th>\n",
       "      <th>pixel7</th>\n",
       "      <th>pixel8</th>\n",
       "      <th>...</th>\n",
       "      <th>pixel774</th>\n",
       "      <th>pixel775</th>\n",
       "      <th>pixel776</th>\n",
       "      <th>pixel777</th>\n",
       "      <th>pixel778</th>\n",
       "      <th>pixel779</th>\n",
       "      <th>pixel780</th>\n",
       "      <th>pixel781</th>\n",
       "      <th>pixel782</th>\n",
       "      <th>pixel783</th>\n",
       "    </tr>\n",
       "  </thead>\n",
       "  <tbody>\n",
       "    <tr>\n",
       "      <th>0</th>\n",
       "      <td>1</td>\n",
       "      <td>0</td>\n",
       "      <td>0</td>\n",
       "      <td>0</td>\n",
       "      <td>0</td>\n",
       "      <td>0</td>\n",
       "      <td>0</td>\n",
       "      <td>0</td>\n",
       "      <td>0</td>\n",
       "      <td>0</td>\n",
       "      <td>...</td>\n",
       "      <td>0</td>\n",
       "      <td>0</td>\n",
       "      <td>0</td>\n",
       "      <td>0</td>\n",
       "      <td>0</td>\n",
       "      <td>0</td>\n",
       "      <td>0</td>\n",
       "      <td>0</td>\n",
       "      <td>0</td>\n",
       "      <td>0</td>\n",
       "    </tr>\n",
       "    <tr>\n",
       "      <th>1</th>\n",
       "      <td>0</td>\n",
       "      <td>0</td>\n",
       "      <td>0</td>\n",
       "      <td>0</td>\n",
       "      <td>0</td>\n",
       "      <td>0</td>\n",
       "      <td>0</td>\n",
       "      <td>0</td>\n",
       "      <td>0</td>\n",
       "      <td>0</td>\n",
       "      <td>...</td>\n",
       "      <td>0</td>\n",
       "      <td>0</td>\n",
       "      <td>0</td>\n",
       "      <td>0</td>\n",
       "      <td>0</td>\n",
       "      <td>0</td>\n",
       "      <td>0</td>\n",
       "      <td>0</td>\n",
       "      <td>0</td>\n",
       "      <td>0</td>\n",
       "    </tr>\n",
       "    <tr>\n",
       "      <th>2</th>\n",
       "      <td>1</td>\n",
       "      <td>0</td>\n",
       "      <td>0</td>\n",
       "      <td>0</td>\n",
       "      <td>0</td>\n",
       "      <td>0</td>\n",
       "      <td>0</td>\n",
       "      <td>0</td>\n",
       "      <td>0</td>\n",
       "      <td>0</td>\n",
       "      <td>...</td>\n",
       "      <td>0</td>\n",
       "      <td>0</td>\n",
       "      <td>0</td>\n",
       "      <td>0</td>\n",
       "      <td>0</td>\n",
       "      <td>0</td>\n",
       "      <td>0</td>\n",
       "      <td>0</td>\n",
       "      <td>0</td>\n",
       "      <td>0</td>\n",
       "    </tr>\n",
       "    <tr>\n",
       "      <th>3</th>\n",
       "      <td>4</td>\n",
       "      <td>0</td>\n",
       "      <td>0</td>\n",
       "      <td>0</td>\n",
       "      <td>0</td>\n",
       "      <td>0</td>\n",
       "      <td>0</td>\n",
       "      <td>0</td>\n",
       "      <td>0</td>\n",
       "      <td>0</td>\n",
       "      <td>...</td>\n",
       "      <td>0</td>\n",
       "      <td>0</td>\n",
       "      <td>0</td>\n",
       "      <td>0</td>\n",
       "      <td>0</td>\n",
       "      <td>0</td>\n",
       "      <td>0</td>\n",
       "      <td>0</td>\n",
       "      <td>0</td>\n",
       "      <td>0</td>\n",
       "    </tr>\n",
       "    <tr>\n",
       "      <th>4</th>\n",
       "      <td>0</td>\n",
       "      <td>0</td>\n",
       "      <td>0</td>\n",
       "      <td>0</td>\n",
       "      <td>0</td>\n",
       "      <td>0</td>\n",
       "      <td>0</td>\n",
       "      <td>0</td>\n",
       "      <td>0</td>\n",
       "      <td>0</td>\n",
       "      <td>...</td>\n",
       "      <td>0</td>\n",
       "      <td>0</td>\n",
       "      <td>0</td>\n",
       "      <td>0</td>\n",
       "      <td>0</td>\n",
       "      <td>0</td>\n",
       "      <td>0</td>\n",
       "      <td>0</td>\n",
       "      <td>0</td>\n",
       "      <td>0</td>\n",
       "    </tr>\n",
       "  </tbody>\n",
       "</table>\n",
       "<p>5 rows × 785 columns</p>\n",
       "</div>"
      ],
      "text/plain": [
       "   label  pixel0  pixel1  pixel2  pixel3  pixel4  pixel5  pixel6  pixel7  \\\n",
       "0      1       0       0       0       0       0       0       0       0   \n",
       "1      0       0       0       0       0       0       0       0       0   \n",
       "2      1       0       0       0       0       0       0       0       0   \n",
       "3      4       0       0       0       0       0       0       0       0   \n",
       "4      0       0       0       0       0       0       0       0       0   \n",
       "\n",
       "   pixel8  ...  pixel774  pixel775  pixel776  pixel777  pixel778  pixel779  \\\n",
       "0       0  ...         0         0         0         0         0         0   \n",
       "1       0  ...         0         0         0         0         0         0   \n",
       "2       0  ...         0         0         0         0         0         0   \n",
       "3       0  ...         0         0         0         0         0         0   \n",
       "4       0  ...         0         0         0         0         0         0   \n",
       "\n",
       "   pixel780  pixel781  pixel782  pixel783  \n",
       "0         0         0         0         0  \n",
       "1         0         0         0         0  \n",
       "2         0         0         0         0  \n",
       "3         0         0         0         0  \n",
       "4         0         0         0         0  \n",
       "\n",
       "[5 rows x 785 columns]"
      ]
     },
     "execution_count": 3,
     "metadata": {},
     "output_type": "execute_result"
    }
   ],
   "source": [
    "train.head()"
   ]
  },
  {
   "cell_type": "code",
   "execution_count": 4,
   "id": "9b702761",
   "metadata": {
    "execution": {
     "iopub.execute_input": "2022-09-17T13:54:08.711818Z",
     "iopub.status.busy": "2022-09-17T13:54:08.710844Z",
     "iopub.status.idle": "2022-09-17T13:54:08.714968Z",
     "shell.execute_reply": "2022-09-17T13:54:08.715529Z",
     "shell.execute_reply.started": "2022-09-17T13:20:40.953641Z"
    },
    "papermill": {
     "duration": 0.046626,
     "end_time": "2022-09-17T13:54:08.715729",
     "exception": false,
     "start_time": "2022-09-17T13:54:08.669103",
     "status": "completed"
    },
    "tags": []
   },
   "outputs": [
    {
     "data": {
      "text/html": [
       "<div>\n",
       "<style scoped>\n",
       "    .dataframe tbody tr th:only-of-type {\n",
       "        vertical-align: middle;\n",
       "    }\n",
       "\n",
       "    .dataframe tbody tr th {\n",
       "        vertical-align: top;\n",
       "    }\n",
       "\n",
       "    .dataframe thead th {\n",
       "        text-align: right;\n",
       "    }\n",
       "</style>\n",
       "<table border=\"1\" class=\"dataframe\">\n",
       "  <thead>\n",
       "    <tr style=\"text-align: right;\">\n",
       "      <th></th>\n",
       "      <th>ImageId</th>\n",
       "      <th>Label</th>\n",
       "    </tr>\n",
       "  </thead>\n",
       "  <tbody>\n",
       "    <tr>\n",
       "      <th>0</th>\n",
       "      <td>1</td>\n",
       "      <td>0</td>\n",
       "    </tr>\n",
       "    <tr>\n",
       "      <th>1</th>\n",
       "      <td>2</td>\n",
       "      <td>0</td>\n",
       "    </tr>\n",
       "    <tr>\n",
       "      <th>2</th>\n",
       "      <td>3</td>\n",
       "      <td>0</td>\n",
       "    </tr>\n",
       "    <tr>\n",
       "      <th>3</th>\n",
       "      <td>4</td>\n",
       "      <td>0</td>\n",
       "    </tr>\n",
       "    <tr>\n",
       "      <th>4</th>\n",
       "      <td>5</td>\n",
       "      <td>0</td>\n",
       "    </tr>\n",
       "  </tbody>\n",
       "</table>\n",
       "</div>"
      ],
      "text/plain": [
       "   ImageId  Label\n",
       "0        1      0\n",
       "1        2      0\n",
       "2        3      0\n",
       "3        4      0\n",
       "4        5      0"
      ]
     },
     "execution_count": 4,
     "metadata": {},
     "output_type": "execute_result"
    }
   ],
   "source": [
    "sample_submission.head()"
   ]
  },
  {
   "cell_type": "markdown",
   "id": "a9e3b179",
   "metadata": {
    "papermill": {
     "duration": 0.034444,
     "end_time": "2022-09-17T13:54:08.784456",
     "exception": false,
     "start_time": "2022-09-17T13:54:08.750012",
     "status": "completed"
    },
    "tags": []
   },
   "source": [
    "# Data visualization"
   ]
  },
  {
   "cell_type": "markdown",
   "id": "89f5d0ae",
   "metadata": {
    "papermill": {
     "duration": 0.033477,
     "end_time": "2022-09-17T13:54:08.853766",
     "exception": false,
     "start_time": "2022-09-17T13:54:08.820289",
     "status": "completed"
    },
    "tags": []
   },
   "source": [
    "Visualize data. Plot a sample of every digit."
   ]
  },
  {
   "cell_type": "code",
   "execution_count": 5,
   "id": "d69088ff",
   "metadata": {
    "execution": {
     "iopub.execute_input": "2022-09-17T13:54:09.047362Z",
     "iopub.status.busy": "2022-09-17T13:54:09.045315Z",
     "iopub.status.idle": "2022-09-17T13:54:10.251204Z",
     "shell.execute_reply": "2022-09-17T13:54:10.250566Z",
     "shell.execute_reply.started": "2022-09-17T13:20:40.967042Z"
    },
    "papermill": {
     "duration": 1.364028,
     "end_time": "2022-09-17T13:54:10.251364",
     "exception": false,
     "start_time": "2022-09-17T13:54:08.887336",
     "status": "completed"
    },
    "tags": []
   },
   "outputs": [
    {
     "data": {
      "image/png": "[encoded data removed]",
      "text/plain": [
       "<Figure size 1080x504 with 10 Axes>"
      ]
     },
     "metadata": {
      "needs_background": "light"
     },
     "output_type": "display_data"
    }
   ],
   "source": [
    "train_pixels = train.drop(columns=['label'],axis=1).to_numpy().reshape(-1,28,28)\n",
    "train_pixels.shape\n",
    "\n",
    "plt.figure(figsize=(15,7))\n",
    "for digit in range(0, 10):\n",
    "    #find first indice where training data equals digit\n",
    "     index = np.where(train['label'] == digit)[0][0]\n",
    "     plt.subplot(2,5,digit + 1)\n",
    "     plt.title(digit)\n",
    "     plt.imshow(train_pixels[index], cmap='gray')"
   ]
  },
  {
   "cell_type": "markdown",
   "id": "3e2a6b38",
   "metadata": {
    "papermill": {
     "duration": 0.034803,
     "end_time": "2022-09-17T13:54:10.321323",
     "exception": false,
     "start_time": "2022-09-17T13:54:10.286520",
     "status": "completed"
    },
    "tags": []
   },
   "source": [
    "Look at distribution of digits in dataset. "
   ]
  },
  {
   "cell_type": "code",
   "execution_count": 6,
   "id": "597dd74d",
   "metadata": {
    "execution": {
     "iopub.execute_input": "2022-09-17T13:54:10.395487Z",
     "iopub.status.busy": "2022-09-17T13:54:10.394485Z",
     "iopub.status.idle": "2022-09-17T13:54:10.645353Z",
     "shell.execute_reply": "2022-09-17T13:54:10.646147Z",
     "shell.execute_reply.started": "2022-09-17T13:20:42.363310Z"
    },
    "papermill": {
     "duration": 0.290466,
     "end_time": "2022-09-17T13:54:10.646345",
     "exception": false,
     "start_time": "2022-09-17T13:54:10.355879",
     "status": "completed"
    },
    "tags": []
   },
   "outputs": [
    {
     "data": {
      "text/plain": [
       "[Text(0.5, 1.0, 'Digit counts'), Text(0.5, 0, 'Digit'), Text(0, 0.5, 'Count')]"
      ]
     },
     "execution_count": 6,
     "metadata": {},
     "output_type": "execute_result"
    },
    {
     "data": {
      "image/png": "[encoded data removed]",
      "text/plain": [
       "<Figure size 432x288 with 1 Axes>"
      ]
     },
     "metadata": {
      "needs_background": "light"
     },
     "output_type": "display_data"
    }
   ],
   "source": [
    "sns.countplot(x = train[\"label\"]).set(title = \"Digit counts\", xlabel = \"Digit\", ylabel = \"Count\")\n"
   ]
  },
  {
   "cell_type": "markdown",
   "id": "4d9364b1",
   "metadata": {
    "papermill": {
     "duration": 0.035486,
     "end_time": "2022-09-17T13:54:10.718365",
     "exception": false,
     "start_time": "2022-09-17T13:54:10.682879",
     "status": "completed"
    },
    "tags": []
   },
   "source": [
    "Training dataset seems to be fairly balanced between digits, though 1 is the most common digit."
   ]
  },
  {
   "cell_type": "markdown",
   "id": "1fe5f1f0",
   "metadata": {
    "papermill": {
     "duration": 0.035562,
     "end_time": "2022-09-17T13:54:10.789485",
     "exception": false,
     "start_time": "2022-09-17T13:54:10.753923",
     "status": "completed"
    },
    "tags": []
   },
   "source": [
    "# Data preparation"
   ]
  },
  {
   "cell_type": "markdown",
   "id": "fbbef162",
   "metadata": {
    "papermill": {
     "duration": 0.035925,
     "end_time": "2022-09-17T13:54:10.861506",
     "exception": false,
     "start_time": "2022-09-17T13:54:10.825581",
     "status": "completed"
    },
    "tags": []
   },
   "source": [
    "This dataset appears to be very clean and leads minimal processing. It would be helpful to normalize each pixel value to 0-1 before running neural network model. Currently, each pixel value ranges from 0 to 255 so an divide by 255. Use float type to convert values to float."
   ]
  },
  {
   "cell_type": "code",
   "execution_count": 7,
   "id": "2d920494",
   "metadata": {
    "execution": {
     "iopub.execute_input": "2022-09-17T13:54:10.939368Z",
     "iopub.status.busy": "2022-09-17T13:54:10.938335Z",
     "iopub.status.idle": "2022-09-17T13:54:43.362735Z",
     "shell.execute_reply": "2022-09-17T13:54:43.362109Z",
     "shell.execute_reply.started": "2022-09-17T13:20:42.638171Z"
    },
    "papermill": {
     "duration": 32.464663,
     "end_time": "2022-09-17T13:54:43.362884",
     "exception": false,
     "start_time": "2022-09-17T13:54:10.898221",
     "status": "completed"
    },
    "tags": []
   },
   "outputs": [],
   "source": [
    "train_normalized = train.copy()\n",
    "pixel_cols = train_normalized.drop('label', axis =1).columns\n",
    "train_normalized[pixel_cols] = train_normalized[pixel_cols].apply(lambda x: x/255.0)\n",
    "test_normalized = test/255.0"
   ]
  },
  {
   "cell_type": "markdown",
   "id": "0669e274",
   "metadata": {
    "papermill": {
     "duration": 0.03547,
     "end_time": "2022-09-17T13:54:43.435380",
     "exception": false,
     "start_time": "2022-09-17T13:54:43.399910",
     "status": "completed"
    },
    "tags": []
   },
   "source": [
    "Split training data into training and validation sets. Put 75% of data into training set, 25% in validation. Make sure the proportion of digits is the same in training and validation sets."
   ]
  },
  {
   "cell_type": "code",
   "execution_count": 8,
   "id": "61b22e7f",
   "metadata": {
    "execution": {
     "iopub.execute_input": "2022-09-17T13:54:43.511969Z",
     "iopub.status.busy": "2022-09-17T13:54:43.509783Z",
     "iopub.status.idle": "2022-09-17T13:54:44.160945Z",
     "shell.execute_reply": "2022-09-17T13:54:44.160283Z",
     "shell.execute_reply.started": "2022-09-17T13:21:32.705884Z"
    },
    "papermill": {
     "duration": 0.689872,
     "end_time": "2022-09-17T13:54:44.161091",
     "exception": false,
     "start_time": "2022-09-17T13:54:43.471219",
     "status": "completed"
    },
    "tags": []
   },
   "outputs": [],
   "source": [
    "X = train_normalized.copy()\n",
    "y = X.pop('label') #take out label from X, move to y\n",
    "X_train, X_valid, y_train, y_valid = train_test_split(X, y, stratify=y, train_size=0.75)"
   ]
  },
  {
   "cell_type": "markdown",
   "id": "b2ef4332",
   "metadata": {
    "papermill": {
     "duration": 0.035274,
     "end_time": "2022-09-17T13:54:44.233014",
     "exception": false,
     "start_time": "2022-09-17T13:54:44.197740",
     "status": "completed"
    },
    "tags": []
   },
   "source": [
    "# Modelling"
   ]
  },
  {
   "cell_type": "markdown",
   "id": "0b57d160",
   "metadata": {
    "papermill": {
     "duration": 0.035273,
     "end_time": "2022-09-17T13:54:44.304058",
     "exception": false,
     "start_time": "2022-09-17T13:54:44.268785",
     "status": "completed"
    },
    "tags": []
   },
   "source": [
    "Initialize deep neural network model. Input shape is 784 since since 785 columns. Use batch normalization function to standardize data going into each activation function. Large amount of data so use 100 neurons for middle two layers in network. Use softmax activation function to convert output to probabilities of image being of each digit. Add early stopping functino to prevent overfitting."
   ]
  },
  {
   "cell_type": "code",
   "execution_count": 9,
   "id": "e03e05e1",
   "metadata": {
    "execution": {
     "iopub.execute_input": "2022-09-17T13:54:44.379990Z",
     "iopub.status.busy": "2022-09-17T13:54:44.379296Z",
     "iopub.status.idle": "2022-09-17T13:54:44.568903Z",
     "shell.execute_reply": "2022-09-17T13:54:44.568099Z",
     "shell.execute_reply.started": "2022-09-17T13:21:33.431035Z"
    },
    "papermill": {
     "duration": 0.229203,
     "end_time": "2022-09-17T13:54:44.569065",
     "exception": false,
     "start_time": "2022-09-17T13:54:44.339862",
     "status": "completed"
    },
    "tags": []
   },
   "outputs": [
    {
     "name": "stderr",
     "output_type": "stream",
     "text": [
      "2022-09-17 13:54:44.427182: I tensorflow/core/common_runtime/process_util.cc:146] Creating new thread pool with default inter op setting: 2. Tune using inter_op_parallelism_threads for best performance.\n"
     ]
    }
   ],
   "source": [
    "model = keras.Sequential([\n",
    "    layers.Dense(784, activation='relu', input_shape=[784]),\n",
    "    layers.BatchNormalization(),\n",
    "    layers.Dense(100, activation='relu'),\n",
    "    layers.BatchNormalization(),\n",
    "    layers.Dense(100, activation = 'relu'),\n",
    "    layers.BatchNormalization(),\n",
    "    layers.Dense(10, activation='softmax'),\n",
    "])\n",
    "#use standard adam optimizer, sparse categorical cross entropy to measure loss, accuracy as metric\n",
    "model.compile(\n",
    "    optimizer='adam',\n",
    "    loss='sparse_categorical_crossentropy',\n",
    "    metrics=['accuracy'],\n",
    ")\n",
    "\n",
    "#early stopping function\n",
    "early_stopping = keras.callbacks.EarlyStopping(\n",
    "    patience=10,\n",
    "    restore_best_weights=True,\n",
    ")"
   ]
  },
  {
   "cell_type": "markdown",
   "id": "eebfc5a4",
   "metadata": {
    "papermill": {
     "duration": 0.036293,
     "end_time": "2022-09-17T13:54:44.644237",
     "exception": false,
     "start_time": "2022-09-17T13:54:44.607944",
     "status": "completed"
    },
    "tags": []
   },
   "source": [
    "Print out model summary."
   ]
  },
  {
   "cell_type": "code",
   "execution_count": 10,
   "id": "1d869a5e",
   "metadata": {
    "execution": {
     "iopub.execute_input": "2022-09-17T13:54:44.724143Z",
     "iopub.status.busy": "2022-09-17T13:54:44.723294Z",
     "iopub.status.idle": "2022-09-17T13:54:44.729898Z",
     "shell.execute_reply": "2022-09-17T13:54:44.729186Z",
     "shell.execute_reply.started": "2022-09-17T13:21:33.640763Z"
    },
    "papermill": {
     "duration": 0.049414,
     "end_time": "2022-09-17T13:54:44.730052",
     "exception": false,
     "start_time": "2022-09-17T13:54:44.680638",
     "status": "completed"
    },
    "tags": []
   },
   "outputs": [
    {
     "name": "stdout",
     "output_type": "stream",
     "text": [
      "Model: \"sequential\"\n",
      "_________________________________________________________________\n",
      "Layer (type)                 Output Shape              Param #   \n",
      "=================================================================\n",
      "dense (Dense)                (None, 784)               615440    \n",
      "_________________________________________________________________\n",
      "batch_normalization (BatchNo (None, 784)               3136      \n",
      "_________________________________________________________________\n",
      "dense_1 (Dense)              (None, 100)               78500     \n",
      "_________________________________________________________________\n",
      "batch_normalization_1 (Batch (None, 100)               400       \n",
      "_________________________________________________________________\n",
      "dense_2 (Dense)              (None, 100)               10100     \n",
      "_________________________________________________________________\n",
      "batch_normalization_2 (Batch (None, 100)               400       \n",
      "_________________________________________________________________\n",
      "dense_3 (Dense)              (None, 10)                1010      \n",
      "=================================================================\n",
      "Total params: 708,986\n",
      "Trainable params: 707,018\n",
      "Non-trainable params: 1,968\n",
      "_________________________________________________________________\n"
     ]
    }
   ],
   "source": [
    "model.summary()"
   ]
  },
  {
   "cell_type": "markdown",
   "id": "ce2385d0",
   "metadata": {
    "papermill": {
     "duration": 0.036897,
     "end_time": "2022-09-17T13:54:44.803893",
     "exception": false,
     "start_time": "2022-09-17T13:54:44.766996",
     "status": "completed"
    },
    "tags": []
   },
   "source": [
    "Fit model to digits data. Use large batch size and epochs values, but incldue early stopping to avoid overfitting."
   ]
  },
  {
   "cell_type": "code",
   "execution_count": 11,
   "id": "0e810886",
   "metadata": {
    "execution": {
     "iopub.execute_input": "2022-09-17T13:54:44.882731Z",
     "iopub.status.busy": "2022-09-17T13:54:44.881942Z",
     "iopub.status.idle": "2022-09-17T13:56:42.883047Z",
     "shell.execute_reply": "2022-09-17T13:56:42.882246Z",
     "shell.execute_reply.started": "2022-09-17T13:21:33.654312Z"
    },
    "papermill": {
     "duration": 118.042213,
     "end_time": "2022-09-17T13:56:42.883245",
     "exception": false,
     "start_time": "2022-09-17T13:54:44.841032",
     "status": "completed"
    },
    "tags": []
   },
   "outputs": [
    {
     "name": "stderr",
     "output_type": "stream",
     "text": [
      "2022-09-17 13:54:45.272624: I tensorflow/compiler/mlir/mlir_graph_optimization_pass.cc:185] None of the MLIR Optimization Passes are enabled (registered 2)\n"
     ]
    }
   ],
   "source": [
    "history = model.fit(\n",
    "    X_train, y_train,\n",
    "    validation_data=(X_valid, y_valid),\n",
    "    epochs=100,\n",
    "    callbacks=[early_stopping],\n",
    "    verbose=0,\n",
    ")"
   ]
  },
  {
   "cell_type": "markdown",
   "id": "aa053713",
   "metadata": {
    "papermill": {
     "duration": 0.037183,
     "end_time": "2022-09-17T13:56:42.959980",
     "exception": false,
     "start_time": "2022-09-17T13:56:42.922797",
     "status": "completed"
    },
    "tags": []
   },
   "source": [
    "Calculate evaluation statistics to measure model performance."
   ]
  },
  {
   "cell_type": "code",
   "execution_count": 12,
   "id": "e8d36512",
   "metadata": {
    "execution": {
     "iopub.execute_input": "2022-09-17T13:56:43.041456Z",
     "iopub.status.busy": "2022-09-17T13:56:43.040757Z",
     "iopub.status.idle": "2022-09-17T13:56:44.127582Z",
     "shell.execute_reply": "2022-09-17T13:56:44.126879Z",
     "shell.execute_reply.started": "2022-09-17T13:24:43.046747Z"
    },
    "papermill": {
     "duration": 1.129422,
     "end_time": "2022-09-17T13:56:44.127747",
     "exception": false,
     "start_time": "2022-09-17T13:56:42.998325",
     "status": "completed"
    },
    "tags": []
   },
   "outputs": [
    {
     "name": "stdout",
     "output_type": "stream",
     "text": [
      "329/329 [==============================] - 1s 3ms/step - loss: 0.0769 - accuracy: 0.9770\n"
     ]
    },
    {
     "data": {
      "text/plain": [
       "[0.07690391689538956, 0.9770476222038269]"
      ]
     },
     "execution_count": 12,
     "metadata": {},
     "output_type": "execute_result"
    }
   ],
   "source": [
    "model.evaluate(X_valid, y_valid)"
   ]
  },
  {
   "cell_type": "markdown",
   "id": "54f2d8ed",
   "metadata": {
    "papermill": {
     "duration": 0.046909,
     "end_time": "2022-09-17T13:56:44.220029",
     "exception": false,
     "start_time": "2022-09-17T13:56:44.173120",
     "status": "completed"
    },
    "tags": []
   },
   "source": [
    "Look at learning curves for model prediction."
   ]
  },
  {
   "cell_type": "code",
   "execution_count": 13,
   "id": "53f4c3fb",
   "metadata": {
    "execution": {
     "iopub.execute_input": "2022-09-17T13:56:44.317668Z",
     "iopub.status.busy": "2022-09-17T13:56:44.316827Z",
     "iopub.status.idle": "2022-09-17T13:56:44.832599Z",
     "shell.execute_reply": "2022-09-17T13:56:44.832006Z",
     "shell.execute_reply.started": "2022-09-17T13:24:44.140941Z"
    },
    "papermill": {
     "duration": 0.568308,
     "end_time": "2022-09-17T13:56:44.832742",
     "exception": false,
     "start_time": "2022-09-17T13:56:44.264434",
     "status": "completed"
    },
    "tags": []
   },
   "outputs": [
    {
     "name": "stdout",
     "output_type": "stream",
     "text": [
      "Best Validation Loss: 0.0769\n",
      "Best Validation Accuracy: 0.9791\n"
     ]
    },
    {
     "data": {
      "image/png": "[encoded data removed]",
      "text/plain": [
       "<Figure size 432x288 with 1 Axes>"
      ]
     },
     "metadata": {
      "needs_background": "light"
     },
     "output_type": "display_data"
    },
    {
     "data": {
      "image/png": "[encoded data removed]",
      "text/plain": [
       "<Figure size 432x288 with 1 Axes>"
      ]
     },
     "metadata": {
      "needs_background": "light"
     },
     "output_type": "display_data"
    }
   ],
   "source": [
    "history_df = pd.DataFrame(history.history)\n",
    "# Start the plot at epoch 5\n",
    "history_df.loc[:, ['loss', 'val_loss']].plot()\n",
    "history_df.loc[:, ['accuracy', 'val_accuracy']].plot()\n",
    "\n",
    "print((\"Best Validation Loss: {:0.4f}\" +\\\n",
    "      \"\\nBest Validation Accuracy: {:0.4f}\")\\\n",
    "      .format(history_df['val_loss'].min(), \n",
    "              history_df['val_accuracy'].max()))"
   ]
  },
  {
   "cell_type": "markdown",
   "id": "0b8e1477",
   "metadata": {
    "papermill": {
     "duration": 0.046245,
     "end_time": "2022-09-17T13:56:44.925790",
     "exception": false,
     "start_time": "2022-09-17T13:56:44.879545",
     "status": "completed"
    },
    "tags": []
   },
   "source": [
    "Validation loss and accurace seem to be getting better over time, but slowly. Maybe try adding more patience to early stoppping."
   ]
  },
  {
   "cell_type": "code",
   "execution_count": 14,
   "id": "b052a0d0",
   "metadata": {
    "execution": {
     "iopub.execute_input": "2022-09-17T13:56:45.026724Z",
     "iopub.status.busy": "2022-09-17T13:56:45.025683Z",
     "iopub.status.idle": "2022-09-17T14:01:08.960730Z",
     "shell.execute_reply": "2022-09-17T14:01:08.960120Z",
     "shell.execute_reply.started": "2022-09-17T13:45:41.608057Z"
    },
    "papermill": {
     "duration": 263.98793,
     "end_time": "2022-09-17T14:01:08.960899",
     "exception": false,
     "start_time": "2022-09-17T13:56:44.972969",
     "status": "completed"
    },
    "tags": []
   },
   "outputs": [
    {
     "name": "stdout",
     "output_type": "stream",
     "text": [
      "329/329 [==============================] - 2s 5ms/step - loss: 0.0682 - accuracy: 0.9815\n"
     ]
    },
    {
     "data": {
      "text/plain": [
       "[0.06815769523382187, 0.9815238118171692]"
      ]
     },
     "execution_count": 14,
     "metadata": {},
     "output_type": "execute_result"
    }
   ],
   "source": [
    "early_stopping = keras.callbacks.EarlyStopping(\n",
    "    patience=30,\n",
    "    restore_best_weights=True,\n",
    ")\n",
    "\n",
    "history = model.fit(\n",
    "    X_train, y_train,\n",
    "    validation_data=(X_valid, y_valid),\n",
    "    epochs=100,\n",
    "    verbose=0,\n",
    "    callbacks = [early_stopping]\n",
    ")\n",
    "model.evaluate(X_valid, y_valid)"
   ]
  },
  {
   "cell_type": "markdown",
   "id": "877388e1",
   "metadata": {
    "papermill": {
     "duration": 0.059429,
     "end_time": "2022-09-17T14:01:09.081816",
     "exception": false,
     "start_time": "2022-09-17T14:01:09.022387",
     "status": "completed"
    },
    "tags": []
   },
   "source": [
    "Now, look at learning curves to see if any improvement."
   ]
  },
  {
   "cell_type": "code",
   "execution_count": 15,
   "id": "73846db3",
   "metadata": {
    "execution": {
     "iopub.execute_input": "2022-09-17T14:01:09.209670Z",
     "iopub.status.busy": "2022-09-17T14:01:09.208876Z",
     "iopub.status.idle": "2022-09-17T14:01:09.695554Z",
     "shell.execute_reply": "2022-09-17T14:01:09.694900Z",
     "shell.execute_reply.started": "2022-09-17T13:52:23.869031Z"
    },
    "papermill": {
     "duration": 0.552363,
     "end_time": "2022-09-17T14:01:09.695714",
     "exception": false,
     "start_time": "2022-09-17T14:01:09.143351",
     "status": "completed"
    },
    "tags": []
   },
   "outputs": [
    {
     "name": "stdout",
     "output_type": "stream",
     "text": [
      "Best Validation Loss: 0.0682\n",
      "Best Validation Accuracy: 0.9833\n"
     ]
    },
    {
     "data": {
      "image/png": "[encoded data removed]",
      "text/plain": [
       "<Figure size 432x288 with 1 Axes>"
      ]
     },
     "metadata": {
      "needs_background": "light"
     },
     "output_type": "display_data"
    },
    {
     "data": {
      "image/png": "[encoded data removed]",
      "text/plain": [
       "<Figure size 432x288 with 1 Axes>"
      ]
     },
     "metadata": {
      "needs_background": "light"
     },
     "output_type": "display_data"
    }
   ],
   "source": [
    "history_df = pd.DataFrame(history.history)\n",
    "# Start the plot at epoch 5\n",
    "history_df.loc[:, ['loss', 'val_loss']].plot()\n",
    "history_df.loc[:, ['accuracy', 'val_accuracy']].plot()\n",
    "\n",
    "print((\"Best Validation Loss: {:0.4f}\" +\\\n",
    "      \"\\nBest Validation Accuracy: {:0.4f}\")\\\n",
    "      .format(history_df['val_loss'].min(), \n",
    "              history_df['val_accuracy'].max()))"
   ]
  },
  {
   "cell_type": "markdown",
   "id": "1b0d4010",
   "metadata": {
    "papermill": {
     "duration": 0.059473,
     "end_time": "2022-09-17T14:01:09.818781",
     "exception": false,
     "start_time": "2022-09-17T14:01:09.759308",
     "status": "completed"
    },
    "tags": []
   },
   "source": [
    "# CNN model"
   ]
  },
  {
   "cell_type": "markdown",
   "id": "001a56d6",
   "metadata": {
    "papermill": {
     "duration": 0.061148,
     "end_time": "2022-09-17T14:01:09.940707",
     "exception": false,
     "start_time": "2022-09-17T14:01:09.879559",
     "status": "completed"
    },
    "tags": []
   },
   "source": [
    "Try running convolutional neural networks model, which are efficient for data processing. "
   ]
  },
  {
   "cell_type": "code",
   "execution_count": 16,
   "id": "864ab430",
   "metadata": {
    "execution": {
     "iopub.execute_input": "2022-09-17T14:01:10.073618Z",
     "iopub.status.busy": "2022-09-17T14:01:10.072849Z",
     "iopub.status.idle": "2022-09-17T14:01:10.076598Z",
     "shell.execute_reply": "2022-09-17T14:01:10.077226Z",
     "shell.execute_reply.started": "2022-09-17T13:35:09.891858Z"
    },
    "papermill": {
     "duration": 0.074828,
     "end_time": "2022-09-17T14:01:10.077407",
     "exception": false,
     "start_time": "2022-09-17T14:01:10.002579",
     "status": "completed"
    },
    "tags": []
   },
   "outputs": [
    {
     "data": {
      "text/plain": [
       "'\\ncnn_model = Sequential([\\n        layers.Dense(784, activation=\\'relu\\', input_shape=[784]),\\n        Convolution2D(32,(3,3), activation=\\'relu\\'),\\n        layers.BatchNormalization(axis =1), \\n        Convolution2D(32,(3,3), activation=\\'relu\\'),\\n        MaxPooling2D(),\\n        layers.BatchNormalization(axis = 1),\\n        Convolution2D(64,(3,3), activation=\\'relu\\'),\\n        layers.BatchNormalization(axis =1),\\n        Convolution2D(64,(3,3), activation=\\'relu\\'),\\n        MaxPooling2D(),\\n        Flatten(),\\n        layers.BatchNormalization(),\\n        Dense(512, activation=\\'relu\\'),\\n        layers.BatchNormalization(),\\n        Dense(10, activation=\\'softmax\\')\\n        ])\\ncnn_model.compile(optimizer = \"adam\", loss=\\'categorical_crossentropy\\',\\n                  metrics=[\\'accuracy\\'])\\nearly_stopping = keras.callbacks.EarlyStopping(\\n    patience=10,\\n    restore_best_weights=True,\\n)\\n'"
      ]
     },
     "execution_count": 16,
     "metadata": {},
     "output_type": "execute_result"
    }
   ],
   "source": [
    "'''\n",
    "cnn_model = Sequential([\n",
    "        layers.Dense(784, activation='relu', input_shape=[784]),\n",
    "        Convolution2D(32,(3,3), activation='relu'),\n",
    "        layers.BatchNormalization(axis =1), \n",
    "        Convolution2D(32,(3,3), activation='relu'),\n",
    "        MaxPooling2D(),\n",
    "        layers.BatchNormalization(axis = 1),\n",
    "        Convolution2D(64,(3,3), activation='relu'),\n",
    "        layers.BatchNormalization(axis =1),\n",
    "        Convolution2D(64,(3,3), activation='relu'),\n",
    "        MaxPooling2D(),\n",
    "        Flatten(),\n",
    "        layers.BatchNormalization(),\n",
    "        Dense(512, activation='relu'),\n",
    "        layers.BatchNormalization(),\n",
    "        Dense(10, activation='softmax')\n",
    "        ])\n",
    "cnn_model.compile(optimizer = \"adam\", loss='categorical_crossentropy',\n",
    "                  metrics=['accuracy'])\n",
    "early_stopping = keras.callbacks.EarlyStopping(\n",
    "    patience=10,\n",
    "    restore_best_weights=True,\n",
    ")\n",
    "'''"
   ]
  },
  {
   "cell_type": "code",
   "execution_count": 17,
   "id": "a6440c45",
   "metadata": {
    "execution": {
     "iopub.execute_input": "2022-09-17T14:01:10.202772Z",
     "iopub.status.busy": "2022-09-17T14:01:10.202054Z",
     "iopub.status.idle": "2022-09-17T14:01:10.206912Z",
     "shell.execute_reply": "2022-09-17T14:01:10.207533Z"
    },
    "papermill": {
     "duration": 0.069782,
     "end_time": "2022-09-17T14:01:10.207738",
     "exception": false,
     "start_time": "2022-09-17T14:01:10.137956",
     "status": "completed"
    },
    "tags": []
   },
   "outputs": [
    {
     "data": {
      "text/plain": [
       "'\\ncnn_x_train = tf.expand_dims(X_train, axis = 1)\\nhistory = model.fit(\\n    X_train, y_train,\\n    validation_data=(X_valid, y_valid),\\n    epochs=100,\\n    callbacks=[early_stopping],\\n    verbose=0,\\n)\\n'"
      ]
     },
     "execution_count": 17,
     "metadata": {},
     "output_type": "execute_result"
    }
   ],
   "source": [
    "'''\n",
    "cnn_x_train = tf.expand_dims(X_train, axis = 1)\n",
    "history = model.fit(\n",
    "    X_train, y_train,\n",
    "    validation_data=(X_valid, y_valid),\n",
    "    epochs=100,\n",
    "    callbacks=[early_stopping],\n",
    "    verbose=0,\n",
    ")\n",
    "'''"
   ]
  },
  {
   "cell_type": "code",
   "execution_count": 18,
   "id": "03bcbce8",
   "metadata": {
    "execution": {
     "iopub.execute_input": "2022-09-17T14:01:10.334904Z",
     "iopub.status.busy": "2022-09-17T14:01:10.334106Z",
     "iopub.status.idle": "2022-09-17T14:01:10.337186Z",
     "shell.execute_reply": "2022-09-17T14:01:10.337740Z"
    },
    "papermill": {
     "duration": 0.067929,
     "end_time": "2022-09-17T14:01:10.337917",
     "exception": false,
     "start_time": "2022-09-17T14:01:10.269988",
     "status": "completed"
    },
    "tags": []
   },
   "outputs": [],
   "source": [
    "#model.evaluate(X_valid, y_valid)"
   ]
  },
  {
   "cell_type": "code",
   "execution_count": 19,
   "id": "1a9aaf9c",
   "metadata": {
    "execution": {
     "iopub.execute_input": "2022-09-17T14:01:10.464476Z",
     "iopub.status.busy": "2022-09-17T14:01:10.463580Z",
     "iopub.status.idle": "2022-09-17T14:01:10.942036Z",
     "shell.execute_reply": "2022-09-17T14:01:10.942597Z"
    },
    "papermill": {
     "duration": 0.543297,
     "end_time": "2022-09-17T14:01:10.942778",
     "exception": false,
     "start_time": "2022-09-17T14:01:10.399481",
     "status": "completed"
    },
    "tags": []
   },
   "outputs": [
    {
     "name": "stdout",
     "output_type": "stream",
     "text": [
      "Best Validation Loss: 0.0682\n",
      "Best Validation Accuracy: 0.9833\n"
     ]
    },
    {
     "data": {
      "image/png": "[encoded data removed]",
      "text/plain": [
       "<Figure size 432x288 with 1 Axes>"
      ]
     },
     "metadata": {
      "needs_background": "light"
     },
     "output_type": "display_data"
    },
    {
     "data": {
      "image/png": "[encoded data removed]",
      "text/plain": [
       "<Figure size 432x288 with 1 Axes>"
      ]
     },
     "metadata": {
      "needs_background": "light"
     },
     "output_type": "display_data"
    }
   ],
   "source": [
    "history_df = pd.DataFrame(history.history)\n",
    "# Start the plot at epoch 5\n",
    "history_df.loc[:, ['loss', 'val_loss']].plot()\n",
    "history_df.loc[:, ['accuracy', 'val_accuracy']].plot()\n",
    "\n",
    "print((\"Best Validation Loss: {:0.4f}\" +\\\n",
    "      \"\\nBest Validation Accuracy: {:0.4f}\")\\\n",
    "      .format(history_df['val_loss'].min(), \n",
    "              history_df['val_accuracy'].max()))"
   ]
  },
  {
   "cell_type": "markdown",
   "id": "6cac3106",
   "metadata": {
    "papermill": {
     "duration": 0.067265,
     "end_time": "2022-09-17T14:01:11.078505",
     "exception": false,
     "start_time": "2022-09-17T14:01:11.011240",
     "status": "completed"
    },
    "tags": []
   },
   "source": [
    "# Use model to make predictions and submit"
   ]
  },
  {
   "cell_type": "markdown",
   "id": "fa162f29",
   "metadata": {
    "papermill": {
     "duration": 0.068065,
     "end_time": "2022-09-17T14:01:11.213767",
     "exception": false,
     "start_time": "2022-09-17T14:01:11.145702",
     "status": "completed"
    },
    "tags": []
   },
   "source": [
    "Calculate predictions."
   ]
  },
  {
   "cell_type": "code",
   "execution_count": 20,
   "id": "d5372d09",
   "metadata": {
    "execution": {
     "iopub.execute_input": "2022-09-17T14:01:11.353214Z",
     "iopub.status.busy": "2022-09-17T14:01:11.352175Z",
     "iopub.status.idle": "2022-09-17T14:01:13.812663Z",
     "shell.execute_reply": "2022-09-17T14:01:13.812011Z",
     "shell.execute_reply.started": "2022-09-17T13:24:44.631318Z"
    },
    "papermill": {
     "duration": 2.533259,
     "end_time": "2022-09-17T14:01:13.812828",
     "exception": false,
     "start_time": "2022-09-17T14:01:11.279569",
     "status": "completed"
    },
    "tags": []
   },
   "outputs": [],
   "source": [
    "#model.predict df has 10 columns, each representing a digit and probability \n",
    "#return digit with heighest probability for each row\n",
    "preds = np.argmax(model.predict(test_normalized), axis=1)"
   ]
  },
  {
   "cell_type": "markdown",
   "id": "e23b9292",
   "metadata": {
    "papermill": {
     "duration": 0.066073,
     "end_time": "2022-09-17T14:01:13.943870",
     "exception": false,
     "start_time": "2022-09-17T14:01:13.877797",
     "status": "completed"
    },
    "tags": []
   },
   "source": [
    "View predictions on random sample of nine images to confirm model working as expected."
   ]
  },
  {
   "cell_type": "code",
   "execution_count": 21,
   "id": "e8e3c6ef",
   "metadata": {
    "execution": {
     "iopub.execute_input": "2022-09-17T14:01:14.083037Z",
     "iopub.status.busy": "2022-09-17T14:01:14.082349Z",
     "iopub.status.idle": "2022-09-17T14:01:15.212901Z",
     "shell.execute_reply": "2022-09-17T14:01:15.212309Z",
     "shell.execute_reply.started": "2022-09-17T13:24:46.926877Z"
    },
    "papermill": {
     "duration": 1.200795,
     "end_time": "2022-09-17T14:01:15.213058",
     "exception": false,
     "start_time": "2022-09-17T14:01:14.012263",
     "status": "completed"
    },
    "tags": []
   },
   "outputs": [
    {
     "data": {
      "image/png": "[encoded data removed]",
      "text/plain": [
       "<Figure size 720x864 with 9 Axes>"
      ]
     },
     "metadata": {
      "needs_background": "light"
     },
     "output_type": "display_data"
    }
   ],
   "source": [
    "import random\n",
    "test_pixels = test.to_numpy().reshape(len(test),28,28)\n",
    "plt.figure(figsize=(10,12))\n",
    "for index, row_num in enumerate(random.sample(range(0,len(test)), 9), start=1):\n",
    "    plt.subplot(3,3,index)\n",
    "    #add images to plot\n",
    "    img_data = test_pixels[row_num]\n",
    "    plt.imshow(img_data, cmap='gray')\n",
    "    #add prediction to plot\n",
    "    plt.xlabel('Predicted digit: ' + str(preds[row_num]))\n",
    "\n"
   ]
  },
  {
   "cell_type": "markdown",
   "id": "670c725c",
   "metadata": {
    "papermill": {
     "duration": 0.066782,
     "end_time": "2022-09-17T14:01:15.345644",
     "exception": false,
     "start_time": "2022-09-17T14:01:15.278862",
     "status": "completed"
    },
    "tags": []
   },
   "source": [
    "Output predictions for submission to competition."
   ]
  },
  {
   "cell_type": "code",
   "execution_count": 22,
   "id": "0e9d71ff",
   "metadata": {
    "execution": {
     "iopub.execute_input": "2022-09-17T14:01:15.484943Z",
     "iopub.status.busy": "2022-09-17T14:01:15.483928Z",
     "iopub.status.idle": "2022-09-17T14:01:15.520865Z",
     "shell.execute_reply": "2022-09-17T14:01:15.521430Z",
     "shell.execute_reply.started": "2022-09-17T13:24:48.050053Z"
    },
    "papermill": {
     "duration": 0.110269,
     "end_time": "2022-09-17T14:01:15.521644",
     "exception": false,
     "start_time": "2022-09-17T14:01:15.411375",
     "status": "completed"
    },
    "tags": []
   },
   "outputs": [
    {
     "name": "stdout",
     "output_type": "stream",
     "text": [
      "Your submission was successfully saved!\n"
     ]
    }
   ],
   "source": [
    "output = pd.DataFrame({'ImageId': test.index+1, 'Label': preds})\n",
    "output.to_csv('submission.csv',index=False)\n",
    "print(\"Your submission was successfully saved!\")"
   ]
  }
 ],
 "metadata": {
  "kernelspec": {
   "display_name": "Python 3",
   "language": "python",
   "name": "python3"
  },
  "language_info": {
   "codemirror_mode": {
    "name": "ipython",
    "version": 3
   },
   "file_extension": ".py",
   "mimetype": "text/x-python",
   "name": "python",
   "nbconvert_exporter": "python",
   "pygments_lexer": "ipython3",
   "version": "3.7.12"
  },
  "papermill": {
   "default_parameters": {},
   "duration": 454.977714,
   "end_time": "2022-09-17T14:01:19.082187",
   "environment_variables": {},
   "exception": null,
   "input_path": "__notebook__.ipynb",
   "output_path": "__notebook__.ipynb",
   "parameters": {},
   "start_time": "2022-09-17T13:53:44.104473",
   "version": "2.3.3"
  }
 },
 "nbformat": 4,
 "nbformat_minor": 5
}
